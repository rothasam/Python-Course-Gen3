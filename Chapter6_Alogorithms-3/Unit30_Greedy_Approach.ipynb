{
 "cells": [
  {
   "cell_type": "code",
   "execution_count": 20,
   "metadata": {},
   "outputs": [
    {
     "ename": "ValueError",
     "evalue": "invalid literal for int() with base 10: ''",
     "output_type": "error",
     "traceback": [
      "\u001b[1;31m---------------------------------------------------------------------------\u001b[0m",
      "\u001b[1;31mValueError\u001b[0m                                Traceback (most recent call last)",
      "Cell \u001b[1;32mIn[20], line 13\u001b[0m\n\u001b[0;32m     10\u001b[0m     \u001b[38;5;28;01mreturn\u001b[39;00m changes\n\u001b[0;32m     12\u001b[0m coins \u001b[38;5;241m=\u001b[39m [\u001b[38;5;241m500\u001b[39m,\u001b[38;5;241m100\u001b[39m,\u001b[38;5;241m50\u001b[39m,\u001b[38;5;241m10\u001b[39m]\n\u001b[1;32m---> 13\u001b[0m amount \u001b[38;5;241m=\u001b[39m \u001b[38;5;28;43mint\u001b[39;49m\u001b[43m(\u001b[49m\u001b[38;5;28;43minput\u001b[39;49m\u001b[43m(\u001b[49m\u001b[38;5;124;43m\"\u001b[39;49m\u001b[38;5;124;43minput amount : \u001b[39;49m\u001b[38;5;124;43m\"\u001b[39;49m\u001b[43m)\u001b[49m\u001b[43m)\u001b[49m\n\u001b[0;32m     14\u001b[0m changes \u001b[38;5;241m=\u001b[39m coin_change(coins,amount)\n\u001b[0;32m     15\u001b[0m \u001b[38;5;28mprint\u001b[39m(changes,\u001b[38;5;28mlen\u001b[39m(changes))\n",
      "\u001b[1;31mValueError\u001b[0m: invalid literal for int() with base 10: ''"
     ]
    }
   ],
   "source": [
    "def coin_change(coins,amount):\n",
    "    changes = []\n",
    "    largest = 0\n",
    "    while amount > 0:\n",
    "        if amount < coins[largest]:\n",
    "            largest += 1\n",
    "        else:\n",
    "            changes.append(coins[largest])\n",
    "            amount -= coins[largest]\n",
    "    return changes\n",
    "\n",
    "coins = [500,100,50,10]\n",
    "amount = int(input(\"input amount : \"))\n",
    "changes = coin_change(coins,amount)\n",
    "print(changes,len(changes))\n"
   ]
  },
  {
   "cell_type": "code",
   "execution_count": 17,
   "metadata": {},
   "outputs": [
    {
     "name": "stdout",
     "output_type": "stream",
     "text": [
      "[0, 1, 4, 5] 4\n"
     ]
    }
   ],
   "source": [
    "def activity_selection(start,finish):\n",
    "    result = []\n",
    "    i=0\n",
    "    result.append(i)\n",
    "    for j in range(1,len(start)):\n",
    "        if finish[i] <= start[j]:\n",
    "            result.append(j)\n",
    "            i = j\n",
    "    return result\n",
    "\n",
    "start = [1,3,2,0,5,8,5]\n",
    "finish = [2,4,5,6,6,9,9]\n",
    "meetings = activity_selection(start,finish)\n",
    "maximum = len(meetings)\n",
    "print(meetings,maximum)"
   ]
  },
  {
   "cell_type": "code",
   "execution_count": 18,
   "metadata": {},
   "outputs": [
    {
     "name": "stdout",
     "output_type": "stream",
     "text": [
      "The minimum cost is  11\n"
     ]
    }
   ],
   "source": [
    "def find_minimum(row,col,triangle):\n",
    "    if row == len(triangle):\n",
    "        return 0\n",
    "    else:\n",
    "        minimum = min(find_minimum(row+1,col,triangle),\n",
    "                      find_minimum(row+1,col+1,triangle))\n",
    "        return triangle[row][col] + minimum\n",
    "    \n",
    "triangle = [[2], [3, 4], [6, 5, 7], [4, 1, 8, 3]]\n",
    "minimum = find_minimum(0,0,triangle)\n",
    "print(\"The minimum cost is \",minimum)"
   ]
  }
 ],
 "metadata": {
  "kernelspec": {
   "display_name": "Python 3",
   "language": "python",
   "name": "python3"
  },
  "language_info": {
   "codemirror_mode": {
    "name": "ipython",
    "version": 3
   },
   "file_extension": ".py",
   "mimetype": "text/x-python",
   "name": "python",
   "nbconvert_exporter": "python",
   "pygments_lexer": "ipython3",
   "version": "3.12.3"
  }
 },
 "nbformat": 4,
 "nbformat_minor": 2
}
