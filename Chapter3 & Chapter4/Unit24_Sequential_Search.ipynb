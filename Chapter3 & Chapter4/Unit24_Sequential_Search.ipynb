{
 "cells": [
  {
   "cell_type": "markdown",
   "id": "33294f7f",
   "metadata": {},
   "source": [
    "# 2.4. implement the sequential search"
   ]
  },
  {
   "cell_type": "code",
   "execution_count": 4,
   "id": "c7190ba6",
   "metadata": {},
   "outputs": [
    {
     "name": "stdout",
     "output_type": "stream",
     "text": [
      "Enter x = 45\n",
      "In S, (45,) is at position 2.\n"
     ]
    }
   ],
   "source": [
    "def seq_search(nums,x):\n",
    "    for i in range(len(nums)):\n",
    "        if x == nums[i]:\n",
    "            return i\n",
    "    return -1\n",
    "\n",
    "\n",
    "\n",
    "S = [11,37,45,26,59,28,17,53]\n",
    "# x = 11\n",
    "x = int(input('Enter x = '))\n",
    "\n",
    "pos = seq_search(S,x)\n",
    "print(f\"In S, {x,} is at position {pos}.\")\n"
   ]
  },
  {
   "cell_type": "markdown",
   "id": "2b4c016d",
   "metadata": {},
   "source": [
    "### "
   ]
  },
  {
   "cell_type": "markdown",
   "id": "ad096a05",
   "metadata": {},
   "source": [
    "# 3. Find the Largest"
   ]
  },
  {
   "cell_type": "code",
   "execution_count": 9,
   "id": "7896cca4",
   "metadata": {},
   "outputs": [
    {
     "name": "stdout",
     "output_type": "stream",
     "text": [
      "The largest num is at pos 4 where value = 59\n"
     ]
    }
   ],
   "source": [
    "def find_largest(nums):\n",
    "    largest = 0\n",
    "    for i in range(1,len(nums)):\n",
    "        if nums[largest] < nums[i]:\n",
    "            largest = i\n",
    "    return largest\n",
    "\n",
    "S = [11,37,45,26,59,28,17,53]\n",
    "pos = find_largest(S)\n",
    "print(f'The largest num is at pos {pos} where value =', S[pos])\n"
   ]
  },
  {
   "cell_type": "markdown",
   "id": "1b17e1db",
   "metadata": {},
   "source": [
    "# quiz"
   ]
  },
  {
   "cell_type": "code",
   "execution_count": 22,
   "id": "32d3fec4",
   "metadata": {},
   "outputs": [
    {
     "name": "stdout",
     "output_type": "stream",
     "text": [
      "59 11\n"
     ]
    }
   ],
   "source": [
    "def find_two(nums):\n",
    "    x = y = 0\n",
    "    for i in range(1,len(nums)):\n",
    "        if nums[x] < nums[i]: \n",
    "            x = i\n",
    "        elif nums[y] > nums[i]:\n",
    "            y = i\n",
    "    return x,y\n",
    "S = [11,37,45,26,59,28,17,53]\n",
    "i,j = find_two(S)\n",
    "print(S[i],  S[j])  # 59  11\n",
    "\n",
    "# loop 1 :\n",
    "# x = y = 0 (x=11, y=11)\n",
    "\n",
    "#  i = 1 => x = 1 = 37 \n",
    "#  i = 2 => x = 2 = 45\n",
    "#  i = 3 => \n",
    "#  i = 4 => x = 4 = 59\n",
    "#  i = 5 => \n",
    "#  i = 6 => \n",
    "#  i = 7 => \n",
    "\n",
    "# compare if = 3\n",
    "# compare elif = 0\n",
    "\n",
    "#total comparasion = 14"
   ]
  },
  {
   "cell_type": "code",
   "execution_count": null,
   "id": "50651898",
   "metadata": {},
   "outputs": [],
   "source": []
  },
  {
   "cell_type": "code",
   "execution_count": null,
   "id": "6357be09",
   "metadata": {},
   "outputs": [],
   "source": []
  },
  {
   "cell_type": "code",
   "execution_count": null,
   "id": "212de830",
   "metadata": {},
   "outputs": [],
   "source": []
  },
  {
   "cell_type": "code",
   "execution_count": null,
   "id": "0c2ebd9f",
   "metadata": {},
   "outputs": [],
   "source": []
  }
 ],
 "metadata": {
  "kernelspec": {
   "display_name": "Python 3 (ipykernel)",
   "language": "python",
   "name": "python3"
  },
  "language_info": {
   "codemirror_mode": {
    "name": "ipython",
    "version": 3
   },
   "file_extension": ".py",
   "mimetype": "text/x-python",
   "name": "python",
   "nbconvert_exporter": "python",
   "pygments_lexer": "ipython3",
   "version": "3.11.7"
  }
 },
 "nbformat": 4,
 "nbformat_minor": 5
}
