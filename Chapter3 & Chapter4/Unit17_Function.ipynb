{
 "cells": [
  {
   "cell_type": "code",
   "execution_count": 2,
   "id": "dd8b84c2",
   "metadata": {},
   "outputs": [
    {
     "name": "stdout",
     "output_type": "stream",
     "text": [
      "********************\n",
      "********************\n"
     ]
    }
   ],
   "source": [
    "def print_star():\n",
    "    print('*'*20) # Task will be execute when the function called\n",
    "print_star()  # call function\n",
    "print_star() "
   ]
  },
  {
   "cell_type": "code",
   "execution_count": 5,
   "id": "089f877a",
   "metadata": {},
   "outputs": [
    {
     "name": "stdout",
     "output_type": "stream",
     "text": [
      "Total :  9\n"
     ]
    }
   ],
   "source": [
    "def foo(m,n):\n",
    "    t = m + n\n",
    "    print('Total : ',t)\n",
    "foo(3,6)"
   ]
  },
  {
   "cell_type": "code",
   "execution_count": 6,
   "id": "8ded2575",
   "metadata": {},
   "outputs": [
    {
     "name": "stdout",
     "output_type": "stream",
     "text": [
      "******************************\n",
      "******************************\n",
      "******************************\n"
     ]
    }
   ],
   "source": [
    "def star(n):\n",
    "    for _ in range(n):\n",
    "        print('*'*30)\n",
    "star(3)"
   ]
  },
  {
   "cell_type": "code",
   "execution_count": 8,
   "id": "8274e25e",
   "metadata": {},
   "outputs": [
    {
     "name": "stdout",
     "output_type": "stream",
     "text": [
      "Result of  10 + 20  =  30\n",
      "Result of  100 + 5  =  105\n"
     ]
    }
   ],
   "source": [
    "def print_sum(a,b):\n",
    "    r = a+b\n",
    "    print('Result of ',a,'+',b,' = ',r)\n",
    "    \n",
    "print_sum(10,20)\n",
    "print_sum(100,5)"
   ]
  },
  {
   "cell_type": "markdown",
   "id": "c51e6327",
   "metadata": {},
   "source": [
    "# 4.Arbitrary argument"
   ]
  },
  {
   "cell_type": "code",
   "execution_count": 9,
   "id": "01ce2e07",
   "metadata": {},
   "outputs": [
    {
     "name": "stdout",
     "output_type": "stream",
     "text": [
      "hey Jam\n",
      "hey Thomas\n"
     ]
    }
   ],
   "source": [
    "def greet(*names): # names is an arbitrary parameter which use * \n",
    "    for name in names:\n",
    "        print('hey',name)\n",
    "    \n",
    "greet('Jam','Thomas')"
   ]
  },
  {
   "cell_type": "code",
   "execution_count": 14,
   "id": "82357904",
   "metadata": {},
   "outputs": [
    {
     "name": "stdout",
     "output_type": "stream",
     "text": [
      "The number if argument :  3\n",
      "Argument :  (10, 20, 30)\n"
     ]
    }
   ],
   "source": [
    "def foo(*args):\n",
    "    print('The number if argument : ',len(args))\n",
    "    print('Argument : ',args)\n",
    "foo(10,20,30)"
   ]
  },
  {
   "cell_type": "markdown",
   "id": "90c93e44",
   "metadata": {},
   "source": [
    "# 5. Default Parameter"
   ]
  },
  {
   "cell_type": "code",
   "execution_count": 17,
   "id": "8391dc05",
   "metadata": {},
   "outputs": [
    {
     "name": "stdout",
     "output_type": "stream",
     "text": [
      "****************\n"
     ]
    }
   ],
   "source": [
    "def display(n=1): # the parameter n has a default value of 1\n",
    "    for _ in range(n):\n",
    "        print('****************')\n",
    "display()"
   ]
  },
  {
   "cell_type": "markdown",
   "id": "c8768af2",
   "metadata": {},
   "source": [
    "# 5.2. Calling a function without arguments"
   ]
  },
  {
   "cell_type": "markdown",
   "id": "ea3d5b1a",
   "metadata": {},
   "source": [
    "# 5.3. Practice using default parameter"
   ]
  },
  {
   "cell_type": "code",
   "execution_count": 22,
   "id": "37da342d",
   "metadata": {},
   "outputs": [
    {
     "name": "stdout",
     "output_type": "stream",
     "text": [
      "1. div(4): 2.0\n",
      "2. div(4/4) 1.0\n",
      "3. div(2/1) 2.0\n"
     ]
    }
   ],
   "source": [
    "def div(a,b=2): \n",
    "    return a/b; \n",
    "print('1. div(4):',div(4)) \n",
    "print('2. div(4/4)',div(4,4)) \n",
    "print('3. div(2/1)',div(2,1))"
   ]
  },
  {
   "cell_type": "code",
   "execution_count": 25,
   "id": "fe2a1858",
   "metadata": {},
   "outputs": [
    {
     "name": "stdout",
     "output_type": "stream",
     "text": [
      "Result of n1 =  5\n"
     ]
    }
   ],
   "source": [
    "def get_sum(a,b):\n",
    "    r = a+b\n",
    "    return r\n",
    "n1 = get_sum(2,3)\n",
    "print('Result of n1 = ',n1)"
   ]
  },
  {
   "cell_type": "markdown",
   "id": "0eaa77b2",
   "metadata": {},
   "source": [
    "# QUIZ_1"
   ]
  },
  {
   "cell_type": "code",
   "execution_count": 27,
   "id": "1437f686",
   "metadata": {},
   "outputs": [
    {
     "name": "stdout",
     "output_type": "stream",
     "text": [
      "Welcome\n",
      "Welcome\n"
     ]
    }
   ],
   "source": [
    "def my_greet():\n",
    "    print('Welcome')\n",
    "my_greet()\n",
    "my_greet()"
   ]
  },
  {
   "cell_type": "markdown",
   "id": "24cc859d",
   "metadata": {},
   "source": [
    "# QUIZ_2"
   ]
  },
  {
   "cell_type": "code",
   "execution_count": 28,
   "id": "415ea5fb",
   "metadata": {},
   "outputs": [
    {
     "name": "stdout",
     "output_type": "stream",
     "text": [
      "The greater of 10 and 20 is :  20\n",
      "The smaller of 10 and 20 is :  10\n"
     ]
    }
   ],
   "source": [
    "def max2(m,n):\n",
    "    if m>n:\n",
    "        return m\n",
    "    else:\n",
    "        return n\n",
    "def min2(n,m):\n",
    "    if m<n:\n",
    "        return m\n",
    "    else:\n",
    "        return n\n",
    "largeNum = max2(10,20)\n",
    "smallNum = min2(10,20)\n",
    "print('The greater of 10 and 20 is : ',largeNum)\n",
    "print('The smaller of 10 and 20 is : ',smallNum)"
   ]
  },
  {
   "cell_type": "markdown",
   "id": "bae432d3",
   "metadata": {},
   "source": [
    "#    QUIZ_3"
   ]
  },
  {
   "cell_type": "code",
   "execution_count": 42,
   "id": "d6a1f2b1",
   "metadata": {},
   "outputs": [
    {
     "name": "stdout",
     "output_type": "stream",
     "text": [
      "1 mile =  1.61  kilometers\n",
      "2 mile =  3.22  kilometers\n",
      "3 mile =  4.83  kilometers\n",
      "4 mile =  6.44  kilometers\n",
      "5 mile =  8.05  kilometers\n"
     ]
    }
   ],
   "source": [
    "def mile2km(mi):\n",
    "    print(mi,'mile = ',mi*1.61,' kilometers')\n",
    "for _ in range(5):\n",
    "    mile2km(_+1)"
   ]
  },
  {
   "cell_type": "markdown",
   "id": "8c796ed0",
   "metadata": {},
   "source": [
    "# QUIZ_4"
   ]
  },
  {
   "cell_type": "code",
   "execution_count": 46,
   "id": "8a7ea16f",
   "metadata": {},
   "outputs": [
    {
     "name": "stdout",
     "output_type": "stream",
     "text": [
      "10  degrees Celsius =  50.0  degrees Fahrenheit\n",
      "20  degrees Celsius =  68.0  degrees Fahrenheit\n",
      "30  degrees Celsius =  86.0  degrees Fahrenheit\n",
      "40  degrees Celsius =  104.0  degrees Fahrenheit\n",
      "50  degrees Celsius =  122.0  degrees Fahrenheit\n"
     ]
    }
   ],
   "source": [
    "def cel2fah(cel):\n",
    "    print(cel,' degrees Celsius = ',cel*(9/5)+32,' degrees Fahrenheit')\n",
    "for _ in range(5):\n",
    "    _+=1\n",
    "    cel2fah(_*10)"
   ]
  },
  {
   "cell_type": "markdown",
   "id": "38ec6330",
   "metadata": {},
   "source": [
    "# 1. String proessing"
   ]
  },
  {
   "cell_type": "code",
   "execution_count": 47,
   "id": "2877b31f",
   "metadata": {},
   "outputs": [
    {
     "data": {
      "text/plain": [
       "'9'"
      ]
     },
     "execution_count": 47,
     "metadata": {},
     "output_type": "execute_result"
    }
   ],
   "source": [
    "birth = '2003.29.10'\n",
    "max(birth)"
   ]
  },
  {
   "cell_type": "code",
   "execution_count": 48,
   "id": "e17b3a92",
   "metadata": {},
   "outputs": [
    {
     "data": {
      "text/plain": [
       "57"
      ]
     },
     "execution_count": 48,
     "metadata": {},
     "output_type": "execute_result"
    }
   ],
   "source": [
    "ord(max(birth)) # Ascii code of number 9"
   ]
  },
  {
   "cell_type": "code",
   "execution_count": 49,
   "id": "812d4533",
   "metadata": {},
   "outputs": [
    {
     "data": {
      "text/plain": [
       "46"
      ]
     },
     "execution_count": 49,
     "metadata": {},
     "output_type": "execute_result"
    }
   ],
   "source": [
    "ord(min(birth))"
   ]
  },
  {
   "cell_type": "code",
   "execution_count": 50,
   "id": "ec5251b1",
   "metadata": {},
   "outputs": [
    {
     "data": {
      "text/plain": [
       "('9', '.')"
      ]
     },
     "execution_count": 50,
     "metadata": {},
     "output_type": "execute_result"
    }
   ],
   "source": [
    "chr(57) , chr(46)"
   ]
  },
  {
   "cell_type": "code",
   "execution_count": 53,
   "id": "4fb6003a",
   "metadata": {},
   "outputs": [
    {
     "data": {
      "text/plain": [
       "2"
      ]
     },
     "execution_count": 53,
     "metadata": {},
     "output_type": "execute_result"
    }
   ],
   "source": [
    "a = 'I love python'\n",
    "a.count('o')"
   ]
  },
  {
   "cell_type": "code",
   "execution_count": 54,
   "id": "d38b864b",
   "metadata": {},
   "outputs": [
    {
     "data": {
      "text/plain": [
       "0"
      ]
     },
     "execution_count": 54,
     "metadata": {},
     "output_type": "execute_result"
    }
   ],
   "source": [
    "a.count('k')"
   ]
  },
  {
   "cell_type": "code",
   "execution_count": 55,
   "id": "9c0ce1fc",
   "metadata": {},
   "outputs": [
    {
     "data": {
      "text/plain": [
       "3"
      ]
     },
     "execution_count": 55,
     "metadata": {},
     "output_type": "execute_result"
    }
   ],
   "source": [
    "a.find('o')"
   ]
  },
  {
   "cell_type": "code",
   "execution_count": 56,
   "id": "8e12175c",
   "metadata": {},
   "outputs": [
    {
     "data": {
      "text/plain": [
       "11"
      ]
     },
     "execution_count": 56,
     "metadata": {},
     "output_type": "execute_result"
    }
   ],
   "source": [
    "a.find('on')"
   ]
  },
  {
   "cell_type": "code",
   "execution_count": 58,
   "id": "17104358",
   "metadata": {},
   "outputs": [
    {
     "data": {
      "text/plain": [
       "True"
      ]
     },
     "execution_count": 58,
     "metadata": {},
     "output_type": "execute_result"
    }
   ],
   "source": [
    "a.startswith('I')"
   ]
  },
  {
   "cell_type": "code",
   "execution_count": 61,
   "id": "761b9023",
   "metadata": {},
   "outputs": [
    {
     "data": {
      "text/plain": [
       "True"
      ]
     },
     "execution_count": 61,
     "metadata": {},
     "output_type": "execute_result"
    }
   ],
   "source": [
    "a.endswith('python')"
   ]
  },
  {
   "cell_type": "code",
   "execution_count": 62,
   "id": "e652159e",
   "metadata": {},
   "outputs": [
    {
     "data": {
      "text/plain": [
       "'I LOVE PYTHON'"
      ]
     },
     "execution_count": 62,
     "metadata": {},
     "output_type": "execute_result"
    }
   ],
   "source": [
    "text = \"I loVE PythoN\"\n",
    "a.upper()"
   ]
  },
  {
   "cell_type": "code",
   "execution_count": 64,
   "id": "dd3490db",
   "metadata": {},
   "outputs": [
    {
     "data": {
      "text/plain": [
       "'i love python'"
      ]
     },
     "execution_count": 64,
     "metadata": {},
     "output_type": "execute_result"
    }
   ],
   "source": [
    "a.lower()"
   ]
  },
  {
   "cell_type": "code",
   "execution_count": 65,
   "id": "544328d1",
   "metadata": {},
   "outputs": [
    {
     "data": {
      "text/plain": [
       "'i LOVE PYTHON'"
      ]
     },
     "execution_count": 65,
     "metadata": {},
     "output_type": "execute_result"
    }
   ],
   "source": [
    "a.swapcase()"
   ]
  },
  {
   "cell_type": "code",
   "execution_count": 66,
   "id": "24f9e743",
   "metadata": {},
   "outputs": [
    {
     "data": {
      "text/plain": [
       "False"
      ]
     },
     "execution_count": 66,
     "metadata": {},
     "output_type": "execute_result"
    }
   ],
   "source": [
    "a.istitle()"
   ]
  }
 ],
 "metadata": {
  "kernelspec": {
   "display_name": "Python 3 (ipykernel)",
   "language": "python",
   "name": "python3"
  },
  "language_info": {
   "codemirror_mode": {
    "name": "ipython",
    "version": 3
   },
   "file_extension": ".py",
   "mimetype": "text/x-python",
   "name": "python",
   "nbconvert_exporter": "python",
   "pygments_lexer": "ipython3",
   "version": "3.11.7"
  }
 },
 "nbformat": 4,
 "nbformat_minor": 5
}
