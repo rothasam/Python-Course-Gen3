{
 "cells": [
  {
   "cell_type": "markdown",
   "id": "03563ea3",
   "metadata": {},
   "source": [
    "# 3.1. How the Roman numerals converter works"
   ]
  },
  {
   "cell_type": "code",
   "execution_count": 2,
   "id": "106933cb",
   "metadata": {},
   "outputs": [
    {
     "name": "stdout",
     "output_type": "stream",
     "text": [
      "1100\n"
     ]
    }
   ],
   "source": [
    "def roman_to_int(str):\n",
    "    result = 0\n",
    "    for i in range(len(str) - 1):\n",
    "        if table[str[i]] < table[str[i+1]]:\n",
    "            result -= table[str[i]]\n",
    "        else:\n",
    "            result += table[str[i]]\n",
    "    return result + table[str[-1]]\n",
    "\n",
    "table = {'I':1, 'V':5, 'X':10, 'L':50, 'C':100, 'D':500, 'M':1000}\n",
    "roman = input('Input a Roman number: ')\n",
    "number = roman_to_int(roman)\n",
    "print(number)"
   ]
  },
  {
   "cell_type": "code",
   "execution_count": 8,
   "id": "f52f8e5a",
   "metadata": {},
   "outputs": [
    {
     "name": "stdout",
     "output_type": "stream",
     "text": [
      "1584 The Little Prince\n",
      "1133 The Last Leaf\n",
      "97 A \n"
     ]
    }
   ],
   "source": [
    "books = [\n",
    "    \"The Little Prince\",\n",
    "    \"The Last Leaf\",\n",
    "    \"A \"\n",
    "]\n",
    "for book in books:\n",
    "    key = sum(map(ord,book))  # ord function return ASCII code values of specific character \n",
    "    print(key, book) "
   ]
  },
  {
   "cell_type": "code",
   "execution_count": 12,
   "id": "cb4d4928",
   "metadata": {},
   "outputs": [
    {
     "ename": "AttributeError",
     "evalue": "'dict' object has no attribute 'put'",
     "output_type": "error",
     "traceback": [
      "\u001b[1;31m---------------------------------------------------------------------------\u001b[0m",
      "\u001b[1;31mAttributeError\u001b[0m                            Traceback (most recent call last)",
      "Cell \u001b[1;32mIn[12], line 26\u001b[0m\n\u001b[0;32m     24\u001b[0m \u001b[38;5;28;01mfor\u001b[39;00m book \u001b[38;5;129;01min\u001b[39;00m books:\n\u001b[0;32m     25\u001b[0m     key \u001b[38;5;241m=\u001b[39m \u001b[38;5;28msum\u001b[39m(\u001b[38;5;28mmap\u001b[39m(\u001b[38;5;28mord\u001b[39m,book))\n\u001b[1;32m---> 26\u001b[0m     \u001b[43mtable\u001b[49m\u001b[38;5;241;43m.\u001b[39;49m\u001b[43mput\u001b[49m(key,book)\n\u001b[0;32m     27\u001b[0m \u001b[38;5;28;01mfor\u001b[39;00m key \u001b[38;5;129;01min\u001b[39;00m table\u001b[38;5;241m.\u001b[39mtable\u001b[38;5;241m.\u001b[39mkeys():\n\u001b[0;32m     28\u001b[0m     \u001b[38;5;28mprint\u001b[39m(key,table\u001b[38;5;241m.\u001b[39mtable[key])\n",
      "\u001b[1;31mAttributeError\u001b[0m: 'dict' object has no attribute 'put'"
     ]
    }
   ],
   "source": [
    "class HashTable:\n",
    "    def __init__(self,size):\n",
    "        self.size = size\n",
    "        self.table = {}\n",
    "        for i in range(size):\n",
    "            self.table[i] = [] \n",
    "        \n",
    "    def hash(self,key):\n",
    "        return key % self.size\n",
    "    \n",
    "    def get(self,key):\n",
    "        return self.table[self.hash(key)]\n",
    "    \n",
    "    def put(self,key,value):\n",
    "        bucket = self.table[self.hash(key)]\n",
    "        if value not in bucket:\n",
    "            bucket.append(value)\n",
    "\n",
    "books = [\n",
    "    \"The Little Prince\",\n",
    "    \"The Last Leaf\",\n",
    "    \"A \"\n",
    "]\n",
    "for book in books:\n",
    "    key = sum(map(ord,book))\n",
    "    table.put(key,book)\n",
    "for key in table.table.keys():\n",
    "    print(key,table.table[key])\n"
   ]
  },
  {
   "cell_type": "code",
   "execution_count": null,
   "id": "b8712a6e",
   "metadata": {},
   "outputs": [],
   "source": [
    "\n",
    "books = [\n",
    "    \"The Little Prince\",\n",
    "    \"The Last Leaf\",\n",
    "    \"A \"\n",
    "]\n",
    "for book in books:\n",
    "    key = sum(map(ord,book))\n",
    "    table.put(key,book)\n",
    "for key in table.table.keys():\n",
    "    print(key,table.table[key])\n"
   ]
  },
  {
   "cell_type": "code",
   "execution_count": null,
   "id": "34d60876",
   "metadata": {},
   "outputs": [],
   "source": []
  },
  {
   "cell_type": "code",
   "execution_count": null,
   "id": "73e2e507",
   "metadata": {},
   "outputs": [],
   "source": [
    "]\n",
    "for book in books:\n",
    "    key = sum(map(ord,book))\n",
    "    table.put(key,book)\n",
    "for key in table.table.keys():\n",
    "    print(key,table.table[key])\n"
   ]
  },
  {
   "cell_type": "code",
   "execution_count": null,
   "id": "63430928",
   "metadata": {},
   "outputs": [],
   "source": []
  },
  {
   "cell_type": "code",
   "execution_count": null,
   "id": "fc51b8ae",
   "metadata": {},
   "outputs": [],
   "source": [
    "]\n",
    "for book in books:\n",
    "    key = sum(map(ord,book))\n",
    "    table.put(key,book)\n",
    "for key in table.table.keys():\n",
    "    print(key,table.table[key])\n"
   ]
  },
  {
   "cell_type": "code",
   "execution_count": null,
   "metadata": {},
   "outputs": [],
   "source": [
    "]\n",
    "for book in books:\n",
    "    key = sum(map(ord,book))\n",
    "    table.put(key,book)\n",
    "for key in table.table.keys():\n",
    "    print(key,table.table[key])\n"
   ]
  },
  {
   "cell_type": "code",
   "execution_count": null,
   "id": "2b1061d6",
   "metadata": {},
   "outputs": [],
   "source": []
  },
  {
   "cell_type": "code",
   "execution_count": null,
   "id": "50f14c56",
   "metadata": {},
   "outputs": [],
   "source": []
  },
  {
   "cell_type": "code",
   "execution_count": null,
   "id": "5db49756",
   "metadata": {},
   "outputs": [],
   "source": []
  },
  {
   "cell_type": "code",
   "execution_count": null,
   "id": "bf6f19a6",
   "metadata": {},
   "outputs": [],
   "source": []
  }
 ],
 "metadata": {
  "kernelspec": {
   "display_name": "Python 3",
   "language": "python",
   "name": "python3"
  },
  "language_info": {
   "codemirror_mode": {
    "name": "ipython",
    "version": 3
   },
   "file_extension": ".py",
   "mimetype": "text/x-python",
   "name": "python",
   "nbconvert_exporter": "python",
   "pygments_lexer": "ipython3",
   "version": "3.12.3"
  }
 },
 "nbformat": 4,
 "nbformat_minor": 5
}
