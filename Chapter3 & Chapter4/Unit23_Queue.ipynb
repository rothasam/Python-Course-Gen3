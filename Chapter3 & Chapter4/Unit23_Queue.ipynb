{
 "cells": [
  {
   "cell_type": "code",
   "execution_count": 13,
   "id": "3c43f378",
   "metadata": {},
   "outputs": [
    {
     "name": "stdout",
     "output_type": "stream",
     "text": [
      "['Item2', 'Item3', 'Item4', 'Item5']\n"
     ]
    }
   ],
   "source": [
    "class Queue:\n",
    "    def __init__(self):\n",
    "        self.queue = []\n",
    "    def is_empty(self):\n",
    "        return True if len(self.queue) == 0 else False\n",
    "\n",
    "    def enqueue(self,item):\n",
    "        self.queue.append(item)\n",
    "        \n",
    "    def  dequeue(self):\n",
    "        return  None if self.is_empty() else self.queue.pop(0)\n",
    "    \n",
    "queue = Queue()\n",
    "queue.enqueue('Item1')\n",
    "queue.enqueue('Item2')\n",
    "queue.enqueue('Item3')\n",
    "queue.enqueue('Item4')\n",
    "queue.enqueue('Item5')\n",
    "\n",
    "queue.dequeue() #remove the first item in list\n",
    "print(queue.queue) # call list in __init__"
   ]
  },
  {
   "cell_type": "code",
   "execution_count": null,
   "id": "43c6bdd0",
   "metadata": {},
   "outputs": [],
   "source": []
  },
  {
   "cell_type": "code",
   "execution_count": null,
   "id": "f24e47f8",
   "metadata": {},
   "outputs": [],
   "source": []
  }
 ],
 "metadata": {
  "kernelspec": {
   "display_name": "Python 3 (ipykernel)",
   "language": "python",
   "name": "python3"
  },
  "language_info": {
   "codemirror_mode": {
    "name": "ipython",
    "version": 3
   },
   "file_extension": ".py",
   "mimetype": "text/x-python",
   "name": "python",
   "nbconvert_exporter": "python",
   "pygments_lexer": "ipython3",
   "version": "3.11.7"
  }
 },
 "nbformat": 4,
 "nbformat_minor": 5
}
