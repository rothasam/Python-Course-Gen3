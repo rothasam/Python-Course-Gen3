{
 "cells": [
  {
   "cell_type": "code",
   "execution_count": 6,
   "id": "c0cb1339",
   "metadata": {},
   "outputs": [],
   "source": [
    "class Cat:\n",
    "    #constructor\n",
    "    def __init__(self,name,color):\n",
    "        pass\n",
    "    \n",
    "#create instance or object from class\n",
    "cat1 = Cat('cat1','Blue') # cat1 is an instance of the Cat"
   ]
  },
  {
   "cell_type": "markdown",
   "id": "6d9595c7",
   "metadata": {},
   "source": [
    "# Quiz"
   ]
  },
  {
   "cell_type": "code",
   "execution_count": 2,
   "id": "3230639d",
   "metadata": {},
   "outputs": [
    {
     "name": "stdout",
     "output_type": "stream",
     "text": [
      "woof woof\n",
      "Bingo : woof woof\n"
     ]
    }
   ],
   "source": [
    "\n",
    "# ANSWER from AI\n",
    "\n",
    "# Quiz 1: Create a Dog class with a bark method\n",
    "class Dog:\n",
    "    def bark(self):\n",
    "        print(\"woof woof\")\n",
    "\n",
    "# Creating an instance of Dog\n",
    "my_dog = Dog()\n",
    "\n",
    "# Calling the bark method to print the barking sound\n",
    "my_dog.bark()\n",
    "\n",
    "\n",
    "# Quiz 2: Create a Dog class with a name attribute and bark method\n",
    "class Dog:\n",
    "    def __init__(self, name):\n",
    "        self.name = name\n",
    "    \n",
    "    def bark(self):\n",
    "        print(f\"{self.name} : woof woof\")\n",
    "\n",
    "# Creating an instance of Dog with the name 'Bingo'\n",
    "my_dog = Dog('Bingo')\n",
    "\n",
    "# Calling the bark method to print the name and barking sound\n",
    "my_dog.bark()\n"
   ]
  },
  {
   "cell_type": "code",
   "execution_count": null,
   "id": "335a5295",
   "metadata": {},
   "outputs": [],
   "source": []
  }
 ],
 "metadata": {
  "kernelspec": {
   "display_name": "Python 3 (ipykernel)",
   "language": "python",
   "name": "python3"
  },
  "language_info": {
   "codemirror_mode": {
    "name": "ipython",
    "version": 3
   },
   "file_extension": ".py",
   "mimetype": "text/x-python",
   "name": "python",
   "nbconvert_exporter": "python",
   "pygments_lexer": "ipython3",
   "version": "3.11.7"
  }
 },
 "nbformat": 4,
 "nbformat_minor": 5
}
