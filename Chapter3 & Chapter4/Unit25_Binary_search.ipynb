{
 "cells": [
  {
   "cell_type": "code",
   "execution_count": 7,
   "id": "07c3d284",
   "metadata": {},
   "outputs": [
    {
     "name": "stdout",
     "output_type": "stream",
     "text": [
      "Enter x : 59\n",
      "In S 59 is at position 7\n"
     ]
    }
   ],
   "source": [
    "def bin_search(nums,x):\n",
    "    low , high = 0, len(nums) -1\n",
    "    while low <= high:\n",
    "        mid = (low + high) // 2\n",
    "        if nums[mid] == x : \n",
    "            return mid\n",
    "        elif nums[mid] > x :\n",
    "            high = mid - 1\n",
    "        else:\n",
    "            low = mid +1\n",
    "    return -1\n",
    "\n",
    "S = [11,17,26,28,37,45,53,59]\n",
    "x = int(input('Enter x : '))\n",
    "pos = bin_search(S,x)\n",
    "print(f'In S {x} is at position {pos}')\n",
    "    "
   ]
  },
  {
   "cell_type": "code",
   "execution_count": null,
   "id": "cd299679",
   "metadata": {},
   "outputs": [],
   "source": [
    "def do_experiment(floor,breaking):\n",
    "    return floor >= breaking\n",
    "def find_highest_safe_floor2(hight,breaking):\n",
    "    low, high =1 , height\n",
    "    while low < high:\n",
    "        "
   ]
  },
  {
   "cell_type": "code",
   "execution_count": null,
   "id": "43046f1c",
   "metadata": {},
   "outputs": [],
   "source": []
  }
 ],
 "metadata": {
  "kernelspec": {
   "display_name": "Python 3 (ipykernel)",
   "language": "python",
   "name": "python3"
  },
  "language_info": {
   "codemirror_mode": {
    "name": "ipython",
    "version": 3
   },
   "file_extension": ".py",
   "mimetype": "text/x-python",
   "name": "python",
   "nbconvert_exporter": "python",
   "pygments_lexer": "ipython3",
   "version": "3.11.7"
  }
 },
 "nbformat": 4,
 "nbformat_minor": 5
}
