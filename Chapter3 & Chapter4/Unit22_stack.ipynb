{
 "cells": [
  {
   "cell_type": "code",
   "execution_count": 33,
   "id": "951e420b",
   "metadata": {},
   "outputs": [
    {
     "name": "stdout",
     "output_type": "stream",
     "text": [
      "['apple', 'banana']\n"
     ]
    },
    {
     "data": {
      "text/plain": [
       "True"
      ]
     },
     "execution_count": 33,
     "metadata": {},
     "output_type": "execute_result"
    }
   ],
   "source": [
    "stack = []\n",
    "\n",
    "# add item to list\n",
    "def push(stack,item):\n",
    "    stack.append(item)\n",
    "    \n",
    "#remove item from list\n",
    "# def pop(stack):\n",
    "#     return stack.pop()\n",
    "\n",
    "#check the empty stack\n",
    "def is_empty(stack):\n",
    "    return True if len(stack) == 0 else False\n",
    "\n",
    "def pop(stack):\n",
    "    return None if is_empty(stack) else stack.pop()\n",
    "\n",
    "\n",
    "push(stack,'apple')\n",
    "push(stack,'banana')\n",
    "print(stack)\n",
    "pop(stack)\n",
    "pop(stack)\n",
    "is_empty(stack) # true if the stack is empty"
   ]
  },
  {
   "cell_type": "code",
   "execution_count": null,
   "id": "e0a5b640",
   "metadata": {},
   "outputs": [],
   "source": [
    "class Stack:\n",
    "    def __init__(self):\n",
    "        self.stack = []\n",
    "        \n",
    "    # add item to list\n",
    "    def push(self,item):\n",
    "        self.stack.append(item)\n",
    "\n",
    "    #check the empty stack\n",
    "    def is_empty(self):\n",
    "        return True if len(self.stack) == 0 else False\n",
    "\n",
    "    def pop(self):\n",
    "        return None if is_empty() else stack.pop()\n",
    "    \n",
    "def check_parentheses(expr):\n",
    "    opening = \"[{(\"\n",
    "    closing = \"]})\"\n",
    "    \n",
    "    stack = Stack()\n",
    "    for char in expr:\n",
    "        if char in opening:\n",
    "            stack.push(char)\n",
    "        elif char in closing:\n",
    "            if stack.is_empty():\n",
    "                return  False;\n",
    "            if opening.index(stack.pop()) != closing.index(char):\n",
    "                return False;\n",
    "    return stack.is_empty;\n",
    "\n",
    "str = input(\"Input a string of  parentheses : \")\n",
    "print(\"Valid\" if check_parentheses(str) else \"Invalid\")\n",
    "s\n",
    "#create instance\n",
    "# stack = Stack()\n",
    "# stack.push('item1')\n",
    "# stack.push('item2')\n",
    "# print(stack_1.stack)"
   ]
  },
  {
   "cell_type": "code",
   "execution_count": null,
   "id": "30d4149c",
   "metadata": {},
   "outputs": [],
   "source": []
  },
  {
   "cell_type": "code",
   "execution_count": null,
   "id": "6cb7ab99",
   "metadata": {},
   "outputs": [],
   "source": []
  },
  {
   "cell_type": "code",
   "execution_count": null,
   "id": "f062d2f6",
   "metadata": {},
   "outputs": [],
   "source": []
  }
 ],
 "metadata": {
  "kernelspec": {
   "display_name": "Python 3 (ipykernel)",
   "language": "python",
   "name": "python3"
  },
  "language_info": {
   "codemirror_mode": {
    "name": "ipython",
    "version": 3
   },
   "file_extension": ".py",
   "mimetype": "text/x-python",
   "name": "python",
   "nbconvert_exporter": "python",
   "pygments_lexer": "ipython3",
   "version": "3.11.7"
  }
 },
 "nbformat": 4,
 "nbformat_minor": 5
}
