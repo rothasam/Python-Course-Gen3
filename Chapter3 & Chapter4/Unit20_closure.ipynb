{
 "cells": [
  {
   "cell_type": "markdown",
   "id": "8f3a82ed",
   "metadata": {},
   "source": [
    "# Global and Local variable"
   ]
  },
  {
   "cell_type": "code",
   "execution_count": 6,
   "id": "b5b6fa7b",
   "metadata": {},
   "outputs": [
    {
     "name": "stdout",
     "output_type": "stream",
     "text": [
      "Counter inside function =  200\n",
      "counter =  200\n"
     ]
    }
   ],
   "source": [
    "def print_counter():\n",
    "    #local variable\n",
    "    global counter \n",
    "    counter = 200\n",
    "    print(\"Counter inside function = \",counter)\n",
    "counter = 100\n",
    "print_counter()\n",
    "print('counter = ',counter)"
   ]
  },
  {
   "cell_type": "markdown",
   "id": "c265e24b",
   "metadata": {},
   "source": [
    "# First-class function"
   ]
  },
  {
   "cell_type": "markdown",
   "id": "e0345b51",
   "metadata": {},
   "source": [
    "# 3.1. Keyword 'global'"
   ]
  },
  {
   "cell_type": "code",
   "execution_count": 7,
   "id": "8e1fff87",
   "metadata": {},
   "outputs": [
    {
     "name": "stdout",
     "output_type": "stream",
     "text": [
      "2\n"
     ]
    }
   ],
   "source": [
    "n1 = 1\n",
    "def func1():\n",
    "    def func2():\n",
    "        global n1\n",
    "        n1+=1\n",
    "        print(n1) \n",
    "    func2()\n",
    "func1()"
   ]
  },
  {
   "cell_type": "code",
   "execution_count": 9,
   "id": "9337400a",
   "metadata": {},
   "outputs": [
    {
     "name": "stdout",
     "output_type": "stream",
     "text": [
      "2\n"
     ]
    }
   ],
   "source": [
    "def func1():\n",
    "    n2=1\n",
    "    def func2():\n",
    "        nonlocal n2\n",
    "        n2+=1\n",
    "        print(n2)\n",
    "    func2()\n",
    "func1()"
   ]
  },
  {
   "cell_type": "markdown",
   "id": "475458af",
   "metadata": {},
   "source": [
    "# 1.2. Drawing a picture with turtle"
   ]
  },
  {
   "cell_type": "code",
   "execution_count": 11,
   "id": "49e08386",
   "metadata": {},
   "outputs": [],
   "source": [
    "import turtle as t\n",
    "t.setup(width =400, height = 400)\n",
    "for i in range(200):\n",
    "    t.forward(i)\n",
    "    t.left(93)\n",
    "t.done()"
   ]
  },
  {
   "cell_type": "code",
   "execution_count": 1,
   "id": "5d81bb04",
   "metadata": {},
   "outputs": [],
   "source": [
    "import turtle \n",
    "star = turtle.Turtle() \n",
    "  \n",
    "star.right(75) \n",
    "star.forward(100) \n",
    "  \n",
    "for i in range(4): \n",
    "    star.right(144) \n",
    "    star.forward(100) \n",
    "      \n",
    "turtle.done() "
   ]
  },
  {
   "cell_type": "code",
   "execution_count": 1,
   "id": "42e4e2c4",
   "metadata": {},
   "outputs": [
    {
     "ename": "Terminator",
     "evalue": "",
     "output_type": "error",
     "traceback": [
      "\u001b[1;31m---------------------------------------------------------------------------\u001b[0m",
      "\u001b[1;31mTerminator\u001b[0m                                Traceback (most recent call last)",
      "Cell \u001b[1;32mIn[1], line 12\u001b[0m\n\u001b[0;32m     10\u001b[0m t\u001b[38;5;241m.\u001b[39mwidth(x\u001b[38;5;241m/\u001b[39m\u001b[38;5;241m/\u001b[39m\u001b[38;5;241m100\u001b[39m \u001b[38;5;241m+\u001b[39m \u001b[38;5;241m1\u001b[39m) \n\u001b[0;32m     11\u001b[0m t\u001b[38;5;241m.\u001b[39mforward(x) \n\u001b[1;32m---> 12\u001b[0m t\u001b[38;5;241m.\u001b[39mleft(\u001b[38;5;241m59\u001b[39m)\n",
      "File \u001b[1;32m~\\anaconda3\\Lib\\turtle.py:1700\u001b[0m, in \u001b[0;36mTNavigator.left\u001b[1;34m(self, angle)\u001b[0m\n\u001b[0;32m   1681\u001b[0m \u001b[38;5;28;01mdef\u001b[39;00m \u001b[38;5;21mleft\u001b[39m(\u001b[38;5;28mself\u001b[39m, angle):\n\u001b[0;32m   1682\u001b[0m \u001b[38;5;250m    \u001b[39m\u001b[38;5;124;03m\"\"\"Turn turtle left by angle units.\u001b[39;00m\n\u001b[0;32m   1683\u001b[0m \n\u001b[0;32m   1684\u001b[0m \u001b[38;5;124;03m    Aliases: left | lt\u001b[39;00m\n\u001b[1;32m   (...)\u001b[0m\n\u001b[0;32m   1698\u001b[0m \u001b[38;5;124;03m    67.0\u001b[39;00m\n\u001b[0;32m   1699\u001b[0m \u001b[38;5;124;03m    \"\"\"\u001b[39;00m\n\u001b[1;32m-> 1700\u001b[0m     \u001b[38;5;28mself\u001b[39m\u001b[38;5;241m.\u001b[39m_rotate(angle)\n",
      "File \u001b[1;32m~\\anaconda3\\Lib\\turtle.py:3293\u001b[0m, in \u001b[0;36mRawTurtle._rotate\u001b[1;34m(self, angle)\u001b[0m\n\u001b[0;32m   3291\u001b[0m     \u001b[38;5;28;01mfor\u001b[39;00m _ \u001b[38;5;129;01min\u001b[39;00m \u001b[38;5;28mrange\u001b[39m(steps):\n\u001b[0;32m   3292\u001b[0m         \u001b[38;5;28mself\u001b[39m\u001b[38;5;241m.\u001b[39m_orient \u001b[38;5;241m=\u001b[39m \u001b[38;5;28mself\u001b[39m\u001b[38;5;241m.\u001b[39m_orient\u001b[38;5;241m.\u001b[39mrotate(delta)\n\u001b[1;32m-> 3293\u001b[0m         \u001b[38;5;28mself\u001b[39m\u001b[38;5;241m.\u001b[39m_update()\n\u001b[0;32m   3294\u001b[0m \u001b[38;5;28mself\u001b[39m\u001b[38;5;241m.\u001b[39m_orient \u001b[38;5;241m=\u001b[39m neworient\n\u001b[0;32m   3295\u001b[0m \u001b[38;5;28mself\u001b[39m\u001b[38;5;241m.\u001b[39m_update()\n",
      "File \u001b[1;32m~\\anaconda3\\Lib\\turtle.py:2661\u001b[0m, in \u001b[0;36mRawTurtle._update\u001b[1;34m(self)\u001b[0m\n\u001b[0;32m   2659\u001b[0m     \u001b[38;5;28;01mreturn\u001b[39;00m\n\u001b[0;32m   2660\u001b[0m \u001b[38;5;28;01melif\u001b[39;00m screen\u001b[38;5;241m.\u001b[39m_tracing \u001b[38;5;241m==\u001b[39m \u001b[38;5;241m1\u001b[39m:\n\u001b[1;32m-> 2661\u001b[0m     \u001b[38;5;28mself\u001b[39m\u001b[38;5;241m.\u001b[39m_update_data()\n\u001b[0;32m   2662\u001b[0m     \u001b[38;5;28mself\u001b[39m\u001b[38;5;241m.\u001b[39m_drawturtle()\n\u001b[0;32m   2663\u001b[0m     screen\u001b[38;5;241m.\u001b[39m_update()                  \u001b[38;5;66;03m# TurtleScreenBase\u001b[39;00m\n",
      "File \u001b[1;32m~\\anaconda3\\Lib\\turtle.py:2647\u001b[0m, in \u001b[0;36mRawTurtle._update_data\u001b[1;34m(self)\u001b[0m\n\u001b[0;32m   2646\u001b[0m \u001b[38;5;28;01mdef\u001b[39;00m \u001b[38;5;21m_update_data\u001b[39m(\u001b[38;5;28mself\u001b[39m):\n\u001b[1;32m-> 2647\u001b[0m     \u001b[38;5;28mself\u001b[39m\u001b[38;5;241m.\u001b[39mscreen\u001b[38;5;241m.\u001b[39m_incrementudc()\n\u001b[0;32m   2648\u001b[0m     \u001b[38;5;28;01mif\u001b[39;00m \u001b[38;5;28mself\u001b[39m\u001b[38;5;241m.\u001b[39mscreen\u001b[38;5;241m.\u001b[39m_updatecounter \u001b[38;5;241m!=\u001b[39m \u001b[38;5;241m0\u001b[39m:\n\u001b[0;32m   2649\u001b[0m         \u001b[38;5;28;01mreturn\u001b[39;00m\n",
      "File \u001b[1;32m~\\anaconda3\\Lib\\turtle.py:1293\u001b[0m, in \u001b[0;36mTurtleScreen._incrementudc\u001b[1;34m(self)\u001b[0m\n\u001b[0;32m   1291\u001b[0m \u001b[38;5;28;01mif\u001b[39;00m \u001b[38;5;129;01mnot\u001b[39;00m TurtleScreen\u001b[38;5;241m.\u001b[39m_RUNNING:\n\u001b[0;32m   1292\u001b[0m     TurtleScreen\u001b[38;5;241m.\u001b[39m_RUNNING \u001b[38;5;241m=\u001b[39m \u001b[38;5;28;01mTrue\u001b[39;00m\n\u001b[1;32m-> 1293\u001b[0m     \u001b[38;5;28;01mraise\u001b[39;00m Terminator\n\u001b[0;32m   1294\u001b[0m \u001b[38;5;28;01mif\u001b[39;00m \u001b[38;5;28mself\u001b[39m\u001b[38;5;241m.\u001b[39m_tracing \u001b[38;5;241m>\u001b[39m \u001b[38;5;241m0\u001b[39m:\n\u001b[0;32m   1295\u001b[0m     \u001b[38;5;28mself\u001b[39m\u001b[38;5;241m.\u001b[39m_updatecounter \u001b[38;5;241m+\u001b[39m\u001b[38;5;241m=\u001b[39m \u001b[38;5;241m1\u001b[39m\n",
      "\u001b[1;31mTerminator\u001b[0m: "
     ]
    }
   ],
   "source": [
    "\n",
    "\n",
    "# Python program to draw  \n",
    "# Rainbow Benzene \n",
    "# using Turtle Programming \n",
    "import turtle \n",
    "colors = ['red', 'purple', 'blue', 'green', 'orange', 'yellow'] \n",
    "t = turtle.Pen() \n",
    "turtle.bgcolor('black') \n",
    "for x in range(360): \n",
    "    t.pencolor(colors[x%6]) \n",
    "    t.width(x//100 + 1) \n",
    "    t.forward(x) \n",
    "    t.left(59) "
   ]
  },
  {
   "cell_type": "code",
   "execution_count": 2,
   "id": "6ca413f2",
   "metadata": {},
   "outputs": [
    {
     "name": "stdout",
     "output_type": "stream",
     "text": [
      "side length = 39.47233207824713\n",
      "side length = 39.47233207824713\n",
      "side length = 39.47233207824713\n",
      "side length = 39.47233207824713\n",
      "side length = 39.47233207824713\n",
      "side length = 39.47233207824713\n",
      "side length = 39.47233207824713\n",
      "side length = 39.47233207824713\n",
      "side length = 39.47233207824713\n",
      "side length = 39.47233207824713\n",
      "side length = 39.47233207824713\n",
      "side length = 39.47233207824713\n",
      "side length = 39.47233207824713\n",
      "side length = 39.47233207824713\n",
      "side length = 39.47233207824713\n",
      "side length = 39.47233207824713\n",
      "side length = 39.47233207824713\n",
      "side length = 39.47233207824713\n",
      "side length = 39.47233207824713\n",
      "side length = 39.47233207824713\n",
      "side length = 41.531774207602034\n",
      "side length = 41.531774207602034\n",
      "side length = 41.531774207602034\n",
      "side length = 41.531774207602034\n",
      "side length = 41.531774207602034\n",
      "side length = 41.531774207602034\n",
      "side length = 41.531774207602034\n",
      "side length = 41.531774207602034\n",
      "side length = 41.531774207602034\n",
      "side length = 41.531774207602034\n",
      "side length = 41.531774207602034\n",
      "side length = 41.531774207602034\n",
      "side length = 41.531774207602034\n",
      "side length = 41.531774207602034\n",
      "side length = 41.531774207602034\n",
      "side length = 41.531774207602034\n",
      "side length = 41.531774207602034\n",
      "side length = 41.531774207602034\n",
      "side length = 41.531774207602034\n",
      "side length = 43.81684542313723\n",
      "side length = 43.81684542313723\n",
      "side length = 43.81684542313723\n",
      "side length = 43.81684542313723\n",
      "side length = 43.81684542313723\n",
      "side length = 43.81684542313723\n",
      "side length = 43.81684542313723\n",
      "side length = 43.81684542313723\n",
      "side length = 43.81684542313723\n",
      "side length = 43.81684542313723\n",
      "side length = 43.81684542313723\n",
      "side length = 43.81684542313723\n",
      "side length = 43.81684542313723\n",
      "side length = 43.81684542313723\n",
      "side length = 43.81684542313723\n",
      "side length = 43.81684542313723\n",
      "side length = 43.81684542313723\n",
      "side length = 43.81684542313723\n",
      "side length = 46.366565023927926\n",
      "side length = 46.366565023927926\n",
      "side length = 46.366565023927926\n",
      "side length = 46.366565023927926\n",
      "side length = 46.366565023927926\n",
      "side length = 46.366565023927926\n",
      "side length = 46.366565023927926\n",
      "side length = 46.366565023927926\n",
      "side length = 46.366565023927926\n",
      "side length = 46.366565023927926\n",
      "side length = 46.366565023927926\n",
      "side length = 46.366565023927926\n",
      "side length = 46.366565023927926\n",
      "side length = 46.366565023927926\n",
      "side length = 46.366565023927926\n",
      "side length = 46.366565023927926\n",
      "side length = 46.366565023927926\n",
      "side length = 49.22944388128973\n",
      "side length = 49.22944388128973\n",
      "side length = 49.22944388128973\n",
      "side length = 49.22944388128973\n",
      "side length = 49.22944388128973\n",
      "side length = 49.22944388128973\n",
      "side length = 49.22944388128973\n",
      "side length = 49.22944388128973\n",
      "side length = 49.22944388128973\n",
      "side length = 49.22944388128973\n",
      "side length = 49.22944388128973\n",
      "side length = 49.22944388128973\n",
      "side length = 49.22944388128973\n",
      "side length = 49.22944388128973\n",
      "side length = 49.22944388128973\n",
      "side length = 49.22944388128973\n",
      "side length = 52.4665376001199\n",
      "side length = 52.4665376001199\n",
      "side length = 52.4665376001199\n",
      "side length = 52.4665376001199\n",
      "side length = 52.4665376001199\n",
      "side length = 52.4665376001199\n",
      "side length = 52.4665376001199\n",
      "side length = 52.4665376001199\n",
      "side length = 52.4665376001199\n",
      "side length = 52.4665376001199\n",
      "side length = 52.4665376001199\n",
      "side length = 52.4665376001199\n",
      "side length = 52.4665376001199\n",
      "side length = 52.4665376001199\n",
      "side length = 52.4665376001199\n",
      "side length = 56.15575034719814\n",
      "side length = 56.15575034719814\n",
      "side length = 56.15575034719814\n",
      "side length = 56.15575034719814\n",
      "side length = 56.15575034719814\n",
      "side length = 56.15575034719814\n",
      "side length = 56.15575034719814\n",
      "side length = 56.15575034719814\n",
      "side length = 56.15575034719814\n",
      "side length = 56.15575034719814\n",
      "side length = 56.15575034719814\n",
      "side length = 56.15575034719814\n",
      "side length = 56.15575034719814\n",
      "side length = 56.15575034719814\n",
      "side length = 60.39802589256278\n",
      "side length = 60.39802589256278\n",
      "side length = 60.39802589256278\n",
      "side length = 60.39802589256278\n",
      "side length = 60.39802589256278\n",
      "side length = 60.39802589256278\n",
      "side length = 60.39802589256278\n",
      "side length = 60.39802589256278\n",
      "side length = 60.39802589256278\n",
      "side length = 60.39802589256278\n",
      "side length = 60.39802589256278\n",
      "side length = 60.39802589256278\n",
      "side length = 60.39802589256278\n",
      "side length = 65.32645839432845\n",
      "side length = 65.32645839432845\n",
      "side length = 65.32645839432845\n",
      "side length = 65.32645839432845\n",
      "side length = 65.32645839432845\n",
      "side length = 65.32645839432845\n",
      "side length = 65.32645839432845\n",
      "side length = 65.32645839432845\n",
      "side length = 65.32645839432845\n",
      "side length = 65.32645839432845\n",
      "side length = 65.32645839432845\n",
      "side length = 65.32645839432845\n",
      "side length = 71.12004933396797\n",
      "side length = 71.12004933396797\n",
      "side length = 71.12004933396797\n",
      "side length = 71.12004933396797\n",
      "side length = 71.12004933396797\n",
      "side length = 71.12004933396797\n",
      "side length = 71.12004933396797\n",
      "side length = 71.12004933396797\n",
      "side length = 71.12004933396797\n",
      "side length = 71.12004933396797\n",
      "side length = 71.12004933396797\n",
      "side length = 78.02509818829004\n",
      "side length = 78.02509818829004\n",
      "side length = 78.02509818829004\n",
      "side length = 78.02509818829004\n",
      "side length = 78.02509818829004\n",
      "side length = 78.02509818829004\n",
      "side length = 78.02509818829004\n",
      "side length = 78.02509818829004\n",
      "side length = 78.02509818829004\n",
      "side length = 78.02509818829004\n",
      "side length = 86.3896049001792\n",
      "side length = 86.3896049001792\n",
      "side length = 86.3896049001792\n",
      "side length = 86.3896049001792\n",
      "side length = 86.3896049001792\n",
      "side length = 86.3896049001792\n",
      "side length = 86.3896049001792\n",
      "side length = 86.3896049001792\n",
      "side length = 86.3896049001792\n",
      "side length = 96.72081995654877\n",
      "side length = 96.72081995654877\n",
      "side length = 96.72081995654877\n",
      "side length = 96.72081995654877\n",
      "side length = 96.72081995654877\n",
      "side length = 96.72081995654877\n",
      "side length = 96.72081995654877\n",
      "side length = 96.72081995654877\n",
      "side length = 109.78611460423534\n",
      "side length = 109.78611460423534\n",
      "side length = 109.78611460423534\n",
      "side length = 109.78611460423534\n"
     ]
    },
    {
     "ename": "TclError",
     "evalue": "invalid command name \".!canvas\"",
     "output_type": "error",
     "traceback": [
      "\u001b[1;31m---------------------------------------------------------------------------\u001b[0m",
      "\u001b[1;31mTclError\u001b[0m                                  Traceback (most recent call last)",
      "Cell \u001b[1;32mIn[2], line 28\u001b[0m\n\u001b[0;32m     24\u001b[0m rest \u001b[38;5;241m=\u001b[39m turtle\u001b[38;5;241m.\u001b[39mTurtle()\n\u001b[0;32m     25\u001b[0m wn \u001b[38;5;241m=\u001b[39m turtle\u001b[38;5;241m.\u001b[39mScreen()\n\u001b[1;32m---> 28\u001b[0m draw_polygons()\n\u001b[0;32m     30\u001b[0m wn\u001b[38;5;241m.\u001b[39mexitonclick()\n",
      "Cell \u001b[1;32mIn[2], line 15\u001b[0m, in \u001b[0;36mdraw_polygons\u001b[1;34m()\u001b[0m\n\u001b[0;32m     13\u001b[0m     rest\u001b[38;5;241m.\u001b[39mfillcolor(a_color)\n\u001b[0;32m     14\u001b[0m rest\u001b[38;5;241m.\u001b[39mbegin_fill()\n\u001b[1;32m---> 15\u001b[0m rest\u001b[38;5;241m.\u001b[39mforward(side_length)\n\u001b[0;32m     16\u001b[0m rest\u001b[38;5;241m.\u001b[39mleft(\u001b[38;5;241m360\u001b[39m\u001b[38;5;241m/\u001b[39msd)\n\u001b[0;32m     17\u001b[0m \u001b[38;5;28mprint\u001b[39m(\u001b[38;5;124m\"\u001b[39m\u001b[38;5;124mside length =\u001b[39m\u001b[38;5;124m\"\u001b[39m, side_length)\n",
      "File \u001b[1;32m~\\anaconda3\\Lib\\turtle.py:1638\u001b[0m, in \u001b[0;36mTNavigator.forward\u001b[1;34m(self, distance)\u001b[0m\n\u001b[0;32m   1617\u001b[0m \u001b[38;5;28;01mdef\u001b[39;00m \u001b[38;5;21mforward\u001b[39m(\u001b[38;5;28mself\u001b[39m, distance):\n\u001b[0;32m   1618\u001b[0m \u001b[38;5;250m    \u001b[39m\u001b[38;5;124;03m\"\"\"Move the turtle forward by the specified distance.\u001b[39;00m\n\u001b[0;32m   1619\u001b[0m \n\u001b[0;32m   1620\u001b[0m \u001b[38;5;124;03m    Aliases: forward | fd\u001b[39;00m\n\u001b[1;32m   (...)\u001b[0m\n\u001b[0;32m   1636\u001b[0m \u001b[38;5;124;03m    (-50.00,0.00)\u001b[39;00m\n\u001b[0;32m   1637\u001b[0m \u001b[38;5;124;03m    \"\"\"\u001b[39;00m\n\u001b[1;32m-> 1638\u001b[0m     \u001b[38;5;28mself\u001b[39m\u001b[38;5;241m.\u001b[39m_go(distance)\n",
      "File \u001b[1;32m~\\anaconda3\\Lib\\turtle.py:1606\u001b[0m, in \u001b[0;36mTNavigator._go\u001b[1;34m(self, distance)\u001b[0m\n\u001b[0;32m   1604\u001b[0m \u001b[38;5;250m\u001b[39m\u001b[38;5;124;03m\"\"\"move turtle forward by specified distance\"\"\"\u001b[39;00m\n\u001b[0;32m   1605\u001b[0m ende \u001b[38;5;241m=\u001b[39m \u001b[38;5;28mself\u001b[39m\u001b[38;5;241m.\u001b[39m_position \u001b[38;5;241m+\u001b[39m \u001b[38;5;28mself\u001b[39m\u001b[38;5;241m.\u001b[39m_orient \u001b[38;5;241m*\u001b[39m distance\n\u001b[1;32m-> 1606\u001b[0m \u001b[38;5;28mself\u001b[39m\u001b[38;5;241m.\u001b[39m_goto(ende)\n",
      "File \u001b[1;32m~\\anaconda3\\Lib\\turtle.py:3193\u001b[0m, in \u001b[0;36mRawTurtle._goto\u001b[1;34m(self, end)\u001b[0m\n\u001b[0;32m   3191\u001b[0m     \u001b[38;5;28mself\u001b[39m\u001b[38;5;241m.\u001b[39m_position \u001b[38;5;241m=\u001b[39m start \u001b[38;5;241m+\u001b[39m delta \u001b[38;5;241m*\u001b[39m n\n\u001b[0;32m   3192\u001b[0m     \u001b[38;5;28;01mif\u001b[39;00m \u001b[38;5;28mself\u001b[39m\u001b[38;5;241m.\u001b[39m_drawing:\n\u001b[1;32m-> 3193\u001b[0m         screen\u001b[38;5;241m.\u001b[39m_drawline(\u001b[38;5;28mself\u001b[39m\u001b[38;5;241m.\u001b[39mdrawingLineItem,\n\u001b[0;32m   3194\u001b[0m                          (start, \u001b[38;5;28mself\u001b[39m\u001b[38;5;241m.\u001b[39m_position),\n\u001b[0;32m   3195\u001b[0m                          \u001b[38;5;28mself\u001b[39m\u001b[38;5;241m.\u001b[39m_pencolor, \u001b[38;5;28mself\u001b[39m\u001b[38;5;241m.\u001b[39m_pensize, top)\n\u001b[0;32m   3196\u001b[0m     \u001b[38;5;28mself\u001b[39m\u001b[38;5;241m.\u001b[39m_update()\n\u001b[0;32m   3197\u001b[0m \u001b[38;5;28;01mif\u001b[39;00m \u001b[38;5;28mself\u001b[39m\u001b[38;5;241m.\u001b[39m_drawing:\n",
      "File \u001b[1;32m~\\anaconda3\\Lib\\turtle.py:545\u001b[0m, in \u001b[0;36mTurtleScreenBase._drawline\u001b[1;34m(self, lineitem, coordlist, fill, width, top)\u001b[0m\n\u001b[0;32m    543\u001b[0m         cl\u001b[38;5;241m.\u001b[39mappend(x \u001b[38;5;241m*\u001b[39m \u001b[38;5;28mself\u001b[39m\u001b[38;5;241m.\u001b[39mxscale)\n\u001b[0;32m    544\u001b[0m         cl\u001b[38;5;241m.\u001b[39mappend(\u001b[38;5;241m-\u001b[39my \u001b[38;5;241m*\u001b[39m \u001b[38;5;28mself\u001b[39m\u001b[38;5;241m.\u001b[39myscale)\n\u001b[1;32m--> 545\u001b[0m     \u001b[38;5;28mself\u001b[39m\u001b[38;5;241m.\u001b[39mcv\u001b[38;5;241m.\u001b[39mcoords(lineitem, \u001b[38;5;241m*\u001b[39mcl)\n\u001b[0;32m    546\u001b[0m \u001b[38;5;28;01mif\u001b[39;00m fill \u001b[38;5;129;01mis\u001b[39;00m \u001b[38;5;129;01mnot\u001b[39;00m \u001b[38;5;28;01mNone\u001b[39;00m:\n\u001b[0;32m    547\u001b[0m     \u001b[38;5;28mself\u001b[39m\u001b[38;5;241m.\u001b[39mcv\u001b[38;5;241m.\u001b[39mitemconfigure(lineitem, fill\u001b[38;5;241m=\u001b[39mfill)\n",
      "File \u001b[1;32m<string>:1\u001b[0m, in \u001b[0;36mcoords\u001b[1;34m(self, *args, **kw)\u001b[0m\n",
      "File \u001b[1;32m~\\anaconda3\\Lib\\tkinter\\__init__.py:2822\u001b[0m, in \u001b[0;36mCanvas.coords\u001b[1;34m(self, *args)\u001b[0m\n\u001b[0;32m   2818\u001b[0m \u001b[38;5;250m\u001b[39m\u001b[38;5;124;03m\"\"\"Return a list of coordinates for the item given in ARGS.\"\"\"\u001b[39;00m\n\u001b[0;32m   2819\u001b[0m \u001b[38;5;66;03m# XXX Should use _flatten on args\u001b[39;00m\n\u001b[0;32m   2820\u001b[0m \u001b[38;5;28;01mreturn\u001b[39;00m [\u001b[38;5;28mself\u001b[39m\u001b[38;5;241m.\u001b[39mtk\u001b[38;5;241m.\u001b[39mgetdouble(x) \u001b[38;5;28;01mfor\u001b[39;00m x \u001b[38;5;129;01min\u001b[39;00m\n\u001b[0;32m   2821\u001b[0m                    \u001b[38;5;28mself\u001b[39m\u001b[38;5;241m.\u001b[39mtk\u001b[38;5;241m.\u001b[39msplitlist(\n\u001b[1;32m-> 2822\u001b[0m            \u001b[38;5;28mself\u001b[39m\u001b[38;5;241m.\u001b[39mtk\u001b[38;5;241m.\u001b[39mcall((\u001b[38;5;28mself\u001b[39m\u001b[38;5;241m.\u001b[39m_w, \u001b[38;5;124m'\u001b[39m\u001b[38;5;124mcoords\u001b[39m\u001b[38;5;124m'\u001b[39m) \u001b[38;5;241m+\u001b[39m args))]\n",
      "\u001b[1;31mTclError\u001b[0m: invalid command name \".!canvas\""
     ]
    }
   ],
   "source": [
    "import turtle\n",
    "import math\n",
    "\n",
    "\n",
    "def draw_polygons():\n",
    "    \"\"\"\"Make t draws a polygon of side sd and length l\"\"\"\n",
    "    sd = 20\n",
    "    area = 50000\n",
    "    while sd >= 3:\n",
    "        side_length = math.sqrt(area / sd * 4 * math.atan(math.pi / sd))\n",
    "        for i in range(sd):\n",
    "            for a_color in [\"red\", \"yellow\", \"blue\", \"brown\", \"pink\", \"green\", \"black\", \"orange\", \"purple\"]:\n",
    "                rest.fillcolor(a_color)\n",
    "            rest.begin_fill()\n",
    "            rest.forward(side_length)\n",
    "            rest.left(360/sd)\n",
    "            print(\"side length =\", side_length)\n",
    "        rest.penup()\n",
    "        rest.forward(side_length / 2)\n",
    "        rest.pendown()\n",
    "        rest.right(30)\n",
    "        sd -= 1\n",
    "\n",
    "rest = turtle.Turtle()\n",
    "wn = turtle.Screen()\n",
    "\n",
    "\n",
    "draw_polygons()\n",
    "\n",
    "wn.exitonclick()"
   ]
  },
  {
   "cell_type": "code",
   "execution_count": null,
   "id": "dc2bd353",
   "metadata": {},
   "outputs": [],
   "source": []
  }
 ],
 "metadata": {
  "kernelspec": {
   "display_name": "Python 3 (ipykernel)",
   "language": "python",
   "name": "python3"
  },
  "language_info": {
   "codemirror_mode": {
    "name": "ipython",
    "version": 3
   },
   "file_extension": ".py",
   "mimetype": "text/x-python",
   "name": "python",
   "nbconvert_exporter": "python",
   "pygments_lexer": "ipython3",
   "version": "3.11.7"
  }
 },
 "nbformat": 4,
 "nbformat_minor": 5
}
