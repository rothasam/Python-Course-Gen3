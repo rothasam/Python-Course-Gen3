{
 "cells": [
  {
   "cell_type": "markdown",
   "id": "c398ec7e",
   "metadata": {},
   "source": [
    "# 1.2. Standard Module, Standard Library"
   ]
  },
  {
   "cell_type": "code",
   "execution_count": 15,
   "id": "7fb5f824",
   "metadata": {},
   "outputs": [
    {
     "data": {
      "text/plain": [
       "0.8414709848078965"
      ]
     },
     "execution_count": 15,
     "metadata": {},
     "output_type": "execute_result"
    }
   ],
   "source": [
    "import math  # import only one module which is math\n",
    "math.sin(1)  # # use sin() function,part of math module\n",
    "\n",
    "# standard modules are build-in modules within python\n",
    "# External module that are created by 3rd party."
   ]
  },
  {
   "cell_type": "markdown",
   "id": "ba681879",
   "metadata": {},
   "source": [
    "# 1.3. External Module, External Library"
   ]
  },
  {
   "cell_type": "code",
   "execution_count": 16,
   "id": "5d816e1a",
   "metadata": {},
   "outputs": [
    {
     "name": "stdout",
     "output_type": "stream",
     "text": [
      "Requirement already satisfied: chart in c:\\users\\user\\appdata\\local\\programs\\python\\python312\\lib\\site-packages (0.2.3)\n",
      "Note: you may need to restart the kernel to use updated packages.\n"
     ]
    }
   ],
   "source": [
    "pip install chart"
   ]
  },
  {
   "cell_type": "code",
   "execution_count": 17,
   "id": "1723ab7f",
   "metadata": {},
   "outputs": [
    {
     "name": "stdout",
     "output_type": "stream",
     "text": [
      "▇        \n",
      "▇        \n",
      "▇        \n",
      "▇        \n",
      "▇ ▇      \n",
      "▇ ▇      \n",
      "▇ ▇      \n",
      "▇ ▇     ▇\n",
      "▇ ▇     ▇\n",
      "▇ ▇   ▇ ▇\n",
      "\n"
     ]
    }
   ],
   "source": [
    "import chart # chart is an external module\n",
    "data = [1,2,4,3,3,1,7,9,9,1,3,2,1,2]\n",
    "chart.histogram(data) # use to output histogram chart "
   ]
  },
  {
   "cell_type": "markdown",
   "id": "2d98e234",
   "metadata": {},
   "source": [
    "# 1.4. Make Your Own Module and Bring It Up For"
   ]
  },
  {
   "cell_type": "code",
   "execution_count": 18,
   "id": "faadda0a",
   "metadata": {},
   "outputs": [
    {
     "name": "stdout",
     "output_type": "stream",
     "text": [
      "Total Donation Amount:  13\n"
     ]
    }
   ],
   "source": [
    "\n",
    "import fund_cal # import module we've been created\n",
    "def main():\n",
    "    # t = int(input(\"Enter the total number of people who participate in the hospital donation event: \"))   This is line is not working since ValueError: invalid literal for int() with base 10\" occurs in Python\n",
    "    t = int(2) # but this is worked\n",
    "    total = fund_cal.fund(t)\n",
    "\n",
    "    print(\"Total Donation Amount: \",total)\n",
    "\n",
    "main()"
   ]
  },
  {
   "cell_type": "code",
   "execution_count": 29,
   "id": "a5d7c1da",
   "metadata": {},
   "outputs": [
    {
     "name": "stdout",
     "output_type": "stream",
     "text": [
      "10\n",
      "5050\n"
     ]
    }
   ],
   "source": [
    "import cal_n as c\n",
    "def main():\n",
    "    n = 5\n",
    "    total = c.sum_n(n)\n",
    "    print(total)\n",
    "    print(c.sum_n2(100))\n",
    "main()"
   ]
  },
  {
   "cell_type": "markdown",
   "id": "390fe28d",
   "metadata": {},
   "source": [
    "# 1.5. Python Syntax: Form"
   ]
  },
  {
   "cell_type": "markdown",
   "id": "f7aab421",
   "metadata": {},
   "source": [
    "- When you want to use specific function or... in the module : \n",
    "- from Module import FunctionName or from Module import FunctionName1, FunctionName2, FunctionName3\n",
    "- from Module import ClassName\n",
    "- from Module import  Variable \n",
    "- import like this so we don't need to use module name dot to those function , class or variable \n",
    "\n",
    "- we can use:  from Module import *  \n"
   ]
  },
  {
   "cell_type": "markdown",
   "id": "b8a77a5e",
   "metadata": {},
   "source": [
    "# 1.6. Python Syntax: As"
   ]
  },
  {
   "cell_type": "markdown",
   "id": "44e560fd",
   "metadata": {},
   "source": [
    "- When the nane of module is too long we can use this form : import ModuleName as m\n",
    "- or : from Module import Variable as Name1, Funciton as Name2, Class as Name3\n",
    "- Example : from math importa sin as s, cos as c"
   ]
  },
  {
   "cell_type": "markdown",
   "id": "ae3d156e",
   "metadata": {},
   "source": [
    "# 2. Using Typical Standard Libraries"
   ]
  },
  {
   "cell_type": "markdown",
   "id": "4853b141",
   "metadata": {},
   "source": [
    "# 2.1. Using the Random Module to Create Random Numbers"
   ]
  },
  {
   "cell_type": "code",
   "execution_count": 31,
   "id": "87a0716f",
   "metadata": {},
   "outputs": [
    {
     "name": "stdout",
     "output_type": "stream",
     "text": [
      "0.34183909075907415\n",
      "0.07446154788480597\n",
      "0.8790181596583233\n",
      "0.39600605607995687\n",
      "0.19397657963325143\n",
      "0.4175728711911547\n",
      "0.030650142735956898\n",
      "0.09118213011796994\n",
      "0.8381840448275638\n",
      "0.3952630234423413\n"
     ]
    }
   ],
   "source": [
    "# random() is a function beloging to the random module which randomly generates floats between 0 and 1\n",
    "import random\n",
    "i=0\n",
    "for i in range(10):\n",
    "    a = random.random()\n",
    "    print(a)"
   ]
  },
  {
   "cell_type": "code",
   "execution_count": 38,
   "id": "3d1a6935",
   "metadata": {},
   "outputs": [
    {
     "name": "stdout",
     "output_type": "stream",
     "text": [
      "[44, 11, 10, 55, 5, 7]\n",
      "Red Red\n"
     ]
    }
   ],
   "source": [
    "import random \n",
    "data = [1,2,3,4,5,6,7,8,9,10,11,22,33,44,55,66]\n",
    "a = random.sample(data,6) \n",
    "print(a)\n",
    "# sample(listName,num of sample)is function that randomly extracts as many sample as the number of sample from the list.\n",
    "# sample() is part of list or tuple and set which mean it used as a collection of data extraction targets\n",
    "\n",
    "dog_list = ('Ah bee','Red Red','Ah leap','Tulu','JoJo')  #\n",
    "myd = random.choice(dog_list)\n",
    "print(myd)\n",
    "\n",
    "# choice() is a function randomly extracted element from the collection without specifying the number of samples"
   ]
  },
  {
   "cell_type": "code",
   "execution_count": null,
   "id": "853f581a",
   "metadata": {},
   "outputs": [],
   "source": []
  },
  {
   "cell_type": "code",
   "execution_count": null,
   "id": "00cb4eb8",
   "metadata": {},
   "outputs": [],
   "source": [
    "import random\n",
    "roll = random.randint(1,10)\n",
    "print(f'You rolled {roll}')"
   ]
  },
  {
   "cell_type": "code",
   "execution_count": 20,
   "id": "fa56c0c2",
   "metadata": {},
   "outputs": [
    {
     "ename": "SyntaxError",
     "evalue": "invalid syntax (2459592767.py, line 94)",
     "output_type": "error",
     "traceback": [
      "\u001b[1;36m  Cell \u001b[1;32mIn[20], line 94\u001b[1;36m\u001b[0m\n\u001b[1;33m    Analyze the execution result of the following code, and compare it with the performance of the bin1() and bin2() functions\u001b[0m\n\u001b[1;37m            ^\u001b[0m\n\u001b[1;31mSyntaxError\u001b[0m\u001b[1;31m:\u001b[0m invalid syntax\n"
     ]
    }
   ],
   "source": [
    "# import random\n",
    "# import time\n",
    "\n",
    "# number_dice = input('Enter number of dice: ')\n",
    "# number_dice = int(number_dice)\n",
    "# ready = input('Ready to start? Hit any key to continue')\n",
    "\n",
    "# def roll_dice(n):\n",
    "#     dice = [] \n",
    "#     for i in range(n):\n",
    "#         dice.append(random.randint(1,6))\n",
    "#     return dice\n",
    "# user_rolls = roll_dice(number_dice)\n",
    "# print('User first roll: ',user_rolls)\n",
    "\n",
    "# user_choices = input('Enter - to hold or r to roll again : ')\n",
    "# while len(user_choices) != number_dice:\n",
    "#     print('You must enter ', number_dice, choices)\n",
    "#     user_choices = input('Enter - to hold or r to roll again : ')\n",
    "    \n",
    "# def roll_again(choice,dice_list):\n",
    "#     print('Rolling again...')\n",
    "#     time.sleep(3)\n",
    "#     for i in range(len(choices)):\n",
    "#         if choices[i] == 'r':\n",
    "#             dice_list[i] = random.randint(1,6)\n",
    "#     time.sleep(3)\n",
    "    \n",
    "# roll_again(user_choices,user_rolls)\n",
    "# print('Play new Roll: ',user_rolls)\n",
    "\n",
    "# print('Computer turn ')\n",
    "# computer_rolls = roll_dice(number_dice)\n",
    "# print('Computer first roll: ',computer_rolls)\n",
    "\n",
    "# def computer_strategy1(n):\n",
    "#     print('Computer is thinking ... ')\n",
    "#     time.sleep(3)\n",
    "#     choices = '' \n",
    "\n",
    "# def computer_strategy2(n):\n",
    "#     print('Computer is thinking...')\n",
    "#     time.sleep(3)\n",
    "#     choices = ''\n",
    "#     for i in range(n):\n",
    "\n",
    "# In the coin exchange problem, suppose there is a 400 won coin.\n",
    "# if so , write the output of how the coin_change() will determine the change for the 800 won coin.\n",
    "\n",
    "# coin = [500,400,100,50,10]\n",
    "# amount = int(input('Input the amount : '))\n",
    "# changes = coin_change(coins,amount)\n",
    "# print(changes,len(changes))\n",
    "\n",
    "\n",
    "# You have eight identical coins numbered 1 to 8. Of these, only one coin is heavier than the other. Assuming you can weigh coins with a balanced scale, design an algorithm that finds the heaviest coin. \n",
    "# At this time, how many times should the balanced scale be used at least?\n",
    "\n",
    "# Now, there are nine identical coin numbered 1 through 9. Assuming that the conditions are the same as the previous problem, design an algorithm that finds one heavy coin in this case. \n",
    "# At this time, how many times should the balanced scale be used at least?\n",
    "\n",
    "# Analyze the execution result of the following code, and compare it with the performance of the fib1(), fib2() and fib3() functions\n",
    "# def fib1(n):\n",
    "#     if n==0 or n==1:\n",
    "#         return n\n",
    "#     else:\n",
    "#         return fib1(n-1) + fib1(n-2)\n",
    "# def fib2(n):\n",
    "#     if n in F:\n",
    "#         return F[n]\n",
    "#     else:\n",
    "#         F[n] = fib2(n-1) + fib2(n-2)\n",
    "#         return F[n]\n",
    "# def fib3(F,n):\n",
    "#     if n <= 1:\n",
    "#         return F[n]\n",
    "#     else:\n",
    "#         if F[n] < 0:\n",
    "#             F[n] = fib3(F,n-1) + fib3(F,n-2)\n",
    "#         return F[n]\n",
    "\n",
    "# def fib4(n): \n",
    "#     if n <= 1:\n",
    "#         return n\n",
    "#     else:\n",
    "#         a,b = 0,1\n",
    "#         for i in range(2,n+1):\n",
    "#             a,b = b,a+b\n",
    "#         return b\n",
    "# N = int(input('Input a number: '))\n",
    "# print(fib4(N))\n",
    "\n",
    "\n",
    "Analyze the execution result of the following code, and compare it with the performance of the bin1() and bin2() functions\n",
    "\n",
    "def bin1(n,k):\n",
    "    if k == 0 or n==k:\n",
    "        return 1\n",
    "    else:\n",
    "        return bin1(n-1,k-1) + bin1(n-1,k)\n",
    "def bin2(n,k):\n",
    "    B = [[0] * (i+1) for i in range(n+1)]\n",
    "    for i in range(i+1):\n",
    "        if j == 0 or j == i:\n",
    "            B[i][k] = 1\n",
    "        else:\n",
    "            B[i][j] = B[i-1] + B[i-1][j]\n",
    "    return B[n][k]\n",
    "\n",
    "def bin3(n,k):\n",
    "    B = [0] * (n+1)\n",
    "    for i in range(n+1):\n",
    "        for j in range(n,-1,-1):\n",
    "            if j==0 or j ==i:\n",
    "                B[j] = 1\n",
    "            else:\n",
    "                B[j] = B[j] + B[j-1]\n",
    "    return B[k]\n",
    "\n",
    "for i in range(10):\n",
    "    for j in range(i+1):\n",
    "        print(bin3(i,j),end=\"\")\n",
    "    print()\n",
    "\n",
    "\n",
    "\n",
    "\n",
    "        "
   ]
  },
  {
   "cell_type": "code",
   "execution_count": null,
   "id": "f0ba67bf",
   "metadata": {},
   "outputs": [],
   "source": []
  }
 ],
 "metadata": {
  "kernelspec": {
   "display_name": "Python 3",
   "language": "python",
   "name": "python3"
  },
  "language_info": {
   "codemirror_mode": {
    "name": "ipython",
    "version": 3
   },
   "file_extension": ".py",
   "mimetype": "text/x-python",
   "name": "python",
   "nbconvert_exporter": "python",
   "pygments_lexer": "ipython3",
   "version": "3.12.3"
  }
 },
 "nbformat": 4,
 "nbformat_minor": 5
}
