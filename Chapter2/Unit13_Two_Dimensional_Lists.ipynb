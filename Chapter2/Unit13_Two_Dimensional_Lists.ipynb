{
 "cells": [
  {
   "cell_type": "markdown",
   "id": "8f25ffa8",
   "metadata": {},
   "source": [
    "# 1.1. Example of a two-dimensional list with 3 rows and 3 columns"
   ]
  },
  {
   "cell_type": "code",
   "execution_count": 6,
   "id": "0e99d2cc",
   "metadata": {},
   "outputs": [
    {
     "name": "stdout",
     "output_type": "stream",
     "text": [
      "[4, 5, 6]\n",
      "5\n",
      "200\n",
      "[1, 2, 3]\n",
      "[4, 5, 6]\n",
      "[200, 8, 9]\n"
     ]
    }
   ],
   "source": [
    "list_array = [ # 3 rows and 3 column\n",
    "    [1,2,3,], #list_array[0]  called element has value which is 1,2,3\n",
    "    [4,5,6], #list_array[1]\n",
    "    [7,8,9]  #list_array[2]\n",
    "]  \n",
    "print(list_array[1]) \n",
    "print(list_array[1][1])\n",
    "list_array[2][0] = 200\n",
    "print(list_array[2][0])\n",
    "for item in list_array:\n",
    "    print(item)"
   ]
  },
  {
   "cell_type": "code",
   "execution_count": 9,
   "id": "1f388100",
   "metadata": {},
   "outputs": [
    {
     "name": "stdout",
     "output_type": "stream",
     "text": [
      "1 2 3\n",
      "4 5 6\n",
      "200 8 9\n"
     ]
    }
   ],
   "source": [
    "for i,j,k in list_array:\n",
    "    print(i,j,k)"
   ]
  },
  {
   "cell_type": "code",
   "execution_count": 10,
   "id": "183a2fb2",
   "metadata": {},
   "outputs": [
    {
     "name": "stdout",
     "output_type": "stream",
     "text": [
      "1 2 3 4 5 6 200 8 9 "
     ]
    }
   ],
   "source": [
    "for i,j,k in list_array:\n",
    "    print(i,j,k, end=' ')"
   ]
  },
  {
   "cell_type": "markdown",
   "id": "55f01958",
   "metadata": {},
   "source": [
    "# 3.4. Double for loop and two-dimenstional list"
   ]
  },
  {
   "cell_type": "code",
   "execution_count": 15,
   "id": "c3568d0a",
   "metadata": {},
   "outputs": [
    {
     "name": "stdout",
     "output_type": "stream",
     "text": [
      "1 2 3 \n",
      "4 \n",
      "8 9 \n"
     ]
    }
   ],
   "source": [
    "list_array = [[1,2,3],[4],[8,9]]   # the element in each doesn't hava the same so we list nested loop\n",
    "for i in list_array:\n",
    "    for j in i:\n",
    "        print(j,end=' ')\n",
    "        \n",
    "    print() \n"
   ]
  },
  {
   "cell_type": "markdown",
   "id": "6925a955",
   "metadata": {},
   "source": [
    "# 3.6. printing using index"
   ]
  },
  {
   "cell_type": "code",
   "execution_count": 22,
   "id": "2eb91ed8",
   "metadata": {},
   "outputs": [
    {
     "name": "stdout",
     "output_type": "stream",
     "text": [
      "The size of 2D list =  3\n",
      "1 2 3 \n",
      "4 5 6 \n",
      "7 8 9 \n"
     ]
    }
   ],
   "source": [
    "list1 = [\n",
    "    [1,2,3],\n",
    "    [4,5,6,],\n",
    "    [7,8,9]\n",
    "]\n",
    "print('The size of 2D list = ',len(list1))\n",
    "for i in range(len(list1)):\n",
    "    for j in range(len(list1[i])):\n",
    "        print(list1[i][j],end=' ')\n",
    "    print()"
   ]
  },
  {
   "cell_type": "markdown",
   "id": "9c48b935",
   "metadata": {},
   "source": [
    "# 4.1. Two-dimensional list assignment and reference"
   ]
  },
  {
   "cell_type": "code",
   "execution_count": 26,
   "id": "0c9c6dfd",
   "metadata": {},
   "outputs": [
    {
     "name": "stdout",
     "output_type": "stream",
     "text": [
      "Element of list_array :  [[10, 20, 30], [40, 50, 60], [70, 80, 90]]\n",
      "Element of list_1     :  [[10, 20, 30], [40, 50, 60], [70, 80, 90]]\n"
     ]
    }
   ],
   "source": [
    "list_array = [[10,20,30],[40,50,60],[70,80,90]]\n",
    "list_1 = list_array \n",
    "print('Element of list_array : ',list_array)\n",
    "print('Element of list_1     : ',list_1)"
   ]
  },
  {
   "cell_type": "code",
   "execution_count": 29,
   "id": "f1f2afda",
   "metadata": {},
   "outputs": [
    {
     "name": "stdout",
     "output_type": "stream",
     "text": [
      "Element of list_array :  [[10, 111, 30], [40, 50, 60], [70, 80, 90]]\n",
      "Element of list_1     :  [[10, 111, 30], [40, 50, 60], [70, 80, 90]]\n"
     ]
    }
   ],
   "source": [
    "list_1[0][1] = 111\n",
    "print('Element of list_array : ',list_array)\n",
    "print('Element of list_1     : ',list_1)"
   ]
  },
  {
   "cell_type": "code",
   "execution_count": 33,
   "id": "c66529be",
   "metadata": {},
   "outputs": [
    {
     "name": "stdout",
     "output_type": "stream",
     "text": [
      "List_2 after modified :  [[11, 1009, 33], [44, 55, 66], [77, 88, 99]]\n",
      "List_1                :  [[11, 22, 33], [44, 55, 66], [77, 88, 99]]\n",
      "False\n"
     ]
    }
   ],
   "source": [
    "import copy\n",
    "list_1 = [[11,22,33],[44,55,66],[77,88,99]]\n",
    "list_2 = copy.deepcopy(list_1)\n",
    "list_2[0][1] = 1009\n",
    "print('List_2 after modified : ',list_2)\n",
    "print('List_1                : ',list_1)\n",
    "print(list_1 is list_2)"
   ]
  },
  {
   "cell_type": "markdown",
   "id": "6388f44d",
   "metadata": {},
   "source": [
    "# 4.2. Use for loop to create two-dimensional list of 3 rows and 2 columns"
   ]
  },
  {
   "cell_type": "code",
   "execution_count": 42,
   "id": "335e7c13",
   "metadata": {},
   "outputs": [
    {
     "name": "stdout",
     "output_type": "stream",
     "text": [
      "[[0, 0], [0, 0], [0, 0]]\n"
     ]
    }
   ],
   "source": [
    "list1 = []\n",
    "for i in range(3): # range from 0 , 1 ,2\n",
    "    line = [] # empty list use to store value\n",
    "    for j in range(2): # j in range 0 and 1 which mean it repeat 2 times\n",
    "        line.append(0) #empty list is about to append value 0 which is [0,0]\n",
    "    list1.append(line) # add line[] to our list1[] then outter loop start again => line is empty which use to store list value\n",
    "#     print(list1)\n",
    "print(list1)"
   ]
  },
  {
   "cell_type": "markdown",
   "id": "57ffca74",
   "metadata": {},
   "source": [
    "# 5. Creating Jagged List"
   ]
  },
  {
   "cell_type": "code",
   "execution_count": 49,
   "id": "382020d3",
   "metadata": {},
   "outputs": [
    {
     "name": "stdout",
     "output_type": "stream",
     "text": [
      "[[0], [0, 1], [0, 1, 2], [0, 1, 2, 3], [0, 1, 2, 3, 4]]\n"
     ]
    }
   ],
   "source": [
    "list1 = [1,2,3,4,5]\n",
    "list2 = []\n",
    "\n",
    "#outer for loop\n",
    "for i in list1: # return 1,2,3,4,5\n",
    "    line=[]\n",
    "    #inner for loop\n",
    "    for j in range(i):\n",
    "        line.append(j)\n",
    "    list2.append(line)\n",
    "print(list2)\n"
   ]
  },
  {
   "cell_type": "markdown",
   "id": "ea105935",
   "metadata": {},
   "source": [
    "# Quiz1"
   ]
  },
  {
   "cell_type": "code",
   "execution_count": 50,
   "id": "365c3d67",
   "metadata": {},
   "outputs": [
    {
     "name": "stdout",
     "output_type": "stream",
     "text": [
      "30\n"
     ]
    }
   ],
   "source": [
    "list_array = [[10,20],[30,40],[50,60]]\n",
    "print(list_array[1][0])\n"
   ]
  },
  {
   "cell_type": "markdown",
   "id": "f71176d4",
   "metadata": {},
   "source": [
    "# Quiz2"
   ]
  },
  {
   "cell_type": "code",
   "execution_count": 71,
   "id": "6709f86c",
   "metadata": {},
   "outputs": [
    {
     "name": "stdout",
     "output_type": "stream",
     "text": [
      "1 2 3 4\n",
      "5 6 7 8\n",
      "9 10 11 12\n",
      "13 14 15 16\n"
     ]
    }
   ],
   "source": [
    "list_ = []\n",
    "var = 1\n",
    "for i in range(4):\n",
    "    line=[]\n",
    "    for j in range(4):\n",
    "        line.append(var)\n",
    "        var+=1\n",
    "    list_.append(line)\n",
    "    \n",
    "# for item in list_:\n",
    "#     for k in item:\n",
    "#         print(k,end=' ')\n",
    "#     print()\n",
    "\n",
    "for i,j,k,l in list_:\n",
    "    print(i,j,k,l)"
   ]
  },
  {
   "cell_type": "markdown",
   "id": "1451b8df",
   "metadata": {},
   "source": [
    "# 1.2. Creating two-dimensional list comprehensive expression"
   ]
  },
  {
   "cell_type": "code",
   "execution_count": 74,
   "id": "618dde2d",
   "metadata": {},
   "outputs": [
    {
     "name": "stdout",
     "output_type": "stream",
     "text": [
      "[[0, 0], [0, 0], [0, 0]]\n"
     ]
    }
   ],
   "source": [
    "list_array = [[0] * 2 for i in range(3)]\n",
    "print(list_array)"
   ]
  },
  {
   "cell_type": "code",
   "execution_count": 75,
   "id": "dc1630fa",
   "metadata": {},
   "outputs": [
    {
     "name": "stdout",
     "output_type": "stream",
     "text": [
      "[0, 2, 4, 6, 8]\n"
     ]
    }
   ],
   "source": [
    "list_array = [i for i in range(10) if i % 2 == 0]\n",
    "print(list_array)"
   ]
  },
  {
   "cell_type": "markdown",
   "id": "8028baff",
   "metadata": {},
   "source": [
    "# 4.3. Writing files and modes"
   ]
  },
  {
   "cell_type": "code",
   "execution_count": 103,
   "id": "369256df",
   "metadata": {},
   "outputs": [],
   "source": [
    "f = open('hello.csv','w')\n",
    "f.write('hello python!')\n",
    "f.close()"
   ]
  },
  {
   "cell_type": "code",
   "execution_count": 104,
   "id": "a9bca68d",
   "metadata": {},
   "outputs": [],
   "source": [
    "f = open('testing.txt','w')\n",
    "f.write('Welcome to Python class!!!')\n",
    "f.close()"
   ]
  },
  {
   "cell_type": "code",
   "execution_count": 99,
   "id": "beb523ea",
   "metadata": {},
   "outputs": [],
   "source": [
    "f = open('testing.txt','wt')"
   ]
  },
  {
   "cell_type": "code",
   "execution_count": 100,
   "id": "f4624d0c",
   "metadata": {},
   "outputs": [],
   "source": [
    "f = open('testing.txt','wb')"
   ]
  },
  {
   "cell_type": "code",
   "execution_count": 101,
   "id": "53b19452",
   "metadata": {},
   "outputs": [],
   "source": [
    "f = open('testing.txt','a+t')"
   ]
  },
  {
   "cell_type": "code",
   "execution_count": 102,
   "id": "06b9666f",
   "metadata": {},
   "outputs": [
    {
     "data": {
      "text/plain": [
       "8"
      ]
     },
     "execution_count": 102,
     "metadata": {},
     "output_type": "execute_result"
    }
   ],
   "source": [
    "f.write('Helloooo')"
   ]
  },
  {
   "cell_type": "markdown",
   "id": "8a6451de",
   "metadata": {},
   "source": [
    "# 4.12.Add file"
   ]
  },
  {
   "cell_type": "code",
   "execution_count": 105,
   "id": "949b8fe8",
   "metadata": {},
   "outputs": [],
   "source": [
    "f = open('testing.txt','a+') # open file\n",
    "f.write('This will be appended.\\n')\n",
    "f.write('This too\\n')\n",
    "f.close()"
   ]
  },
  {
   "cell_type": "code",
   "execution_count": null,
   "id": "9b632aa2",
   "metadata": {},
   "outputs": [],
   "source": []
  }
 ],
 "metadata": {
  "kernelspec": {
   "display_name": "Python 3 (ipykernel)",
   "language": "python",
   "name": "python3"
  },
  "language_info": {
   "codemirror_mode": {
    "name": "ipython",
    "version": 3
   },
   "file_extension": ".py",
   "mimetype": "text/x-python",
   "name": "python",
   "nbconvert_exporter": "python",
   "pygments_lexer": "ipython3",
   "version": "3.11.7"
  }
 },
 "nbformat": 4,
 "nbformat_minor": 5
}
