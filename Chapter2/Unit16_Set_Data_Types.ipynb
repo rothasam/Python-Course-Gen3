{
 "cells": [
  {
   "cell_type": "code",
   "execution_count": 1,
   "id": "ad773509",
   "metadata": {},
   "outputs": [
    {
     "name": "stdout",
     "output_type": "stream",
     "text": [
      "<class 'set'>\n"
     ]
    }
   ],
   "source": [
    "t1 = (1,2,3,4,5)\n",
    "set1 = set(t1) #convert from Tupple to Set\n",
    "print(type(set1))"
   ]
  },
  {
   "cell_type": "markdown",
   "id": "ec37f3e7",
   "metadata": {},
   "source": [
    "# 1.2. How to make sets"
   ]
  },
  {
   "cell_type": "code",
   "execution_count": 5,
   "id": "c00b507c",
   "metadata": {},
   "outputs": [
    {
     "data": {
      "text/plain": [
       "{1, 2, 3, 4, 5}"
      ]
     },
     "execution_count": 5,
     "metadata": {},
     "output_type": "execute_result"
    }
   ],
   "source": [
    "l1 = [1,2,3,4,5]\n",
    "s1 = set(l1)\n",
    "s1"
   ]
  },
  {
   "cell_type": "markdown",
   "id": "e0510802",
   "metadata": {},
   "source": [
    "# 2.1. in operator"
   ]
  },
  {
   "cell_type": "code",
   "execution_count": null,
   "id": "66048e1b",
   "metadata": {},
   "outputs": [],
   "source": [
    "# st1 = 'Welcome'"
   ]
  },
  {
   "cell_type": "markdown",
   "id": "f7072997",
   "metadata": {},
   "source": [
    "# 2.2. Indexing  "
   ]
  },
  {
   "cell_type": "code",
   "execution_count": null,
   "id": "f71c2be1",
   "metadata": {},
   "outputs": [],
   "source": []
  }
 ],
 "metadata": {
  "kernelspec": {
   "display_name": "Python 3 (ipykernel)",
   "language": "python",
   "name": "python3"
  },
  "language_info": {
   "codemirror_mode": {
    "name": "ipython",
    "version": 3
   },
   "file_extension": ".py",
   "mimetype": "text/x-python",
   "name": "python",
   "nbconvert_exporter": "python",
   "pygments_lexer": "ipython3",
   "version": "3.11.7"
  }
 },
 "nbformat": 4,
 "nbformat_minor": 5
}
