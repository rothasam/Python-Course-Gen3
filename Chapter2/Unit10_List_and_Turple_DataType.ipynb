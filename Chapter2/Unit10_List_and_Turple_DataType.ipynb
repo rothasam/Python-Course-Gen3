{
 "cells": [
  {
   "cell_type": "markdown",
   "id": "9a15846f",
   "metadata": {},
   "source": [
    "# List and Turple data types"
   ]
  },
  {
   "cell_type": "markdown",
   "id": "6b9a7b38",
   "metadata": {},
   "source": [
    "# 2.1. What is List?"
   ]
  },
  {
   "cell_type": "code",
   "execution_count": 1,
   "id": "544346a3",
   "metadata": {},
   "outputs": [
    {
     "data": {
      "text/plain": [
       "[87, 84, 95, 67, 88, 94, 63]"
      ]
     },
     "execution_count": 1,
     "metadata": {},
     "output_type": "execute_result"
    }
   ],
   "source": [
    "score_list = [87,84,95,67,88,94,63];\n",
    "score_list"
   ]
  },
  {
   "cell_type": "code",
   "execution_count": 7,
   "id": "bc4cb6de",
   "metadata": {},
   "outputs": [
    {
     "name": "stdout",
     "output_type": "stream",
     "text": [
      "The number of item in list :  7\n",
      "[87, 84, 95, 67, 88, 94, 63]\n",
      "87 63\n",
      "87\n",
      "84\n",
      "95\n",
      "67\n",
      "88\n",
      "94\n",
      "63\n"
     ]
    }
   ],
   "source": [
    "score_list = [87,84,95,67,88,94,63]\n",
    "print('The number of item in list : ',len(score_list)) \n",
    "print(score_list)\n",
    "\n",
    "print(score_list[0],score_list[6])  # print element of list on specific index\n",
    "\n",
    "#print all element using for loop\n",
    "for i in score_list:\n",
    "    print(i)"
   ]
  },
  {
   "cell_type": "code",
   "execution_count": 10,
   "id": "f67e0478",
   "metadata": {},
   "outputs": [
    {
     "name": "stdout",
     "output_type": "stream",
     "text": [
      "['banana', 'apple', 'ornge', 'kiwi']\n",
      "[100, 200, 'apple', 400]\n"
     ]
    }
   ],
   "source": [
    "fruit = ['banana','apple','ornge','kiwi']  # list of string\n",
    "print(fruit)\n",
    "mixed_list = [100,200,'apple',400]  # mix list\n",
    "print(mixed_list)"
   ]
  },
  {
   "cell_type": "markdown",
   "id": "38ad68e3",
   "metadata": {},
   "source": [
    "# 2.3. The range function to create a sequence"
   ]
  },
  {
   "cell_type": "code",
   "execution_count": 12,
   "id": "03f78bf5",
   "metadata": {},
   "outputs": [
    {
     "name": "stdout",
     "output_type": "stream",
     "text": [
      "[1, 2, 3, 4, 5, 6, 7, 8, 9]\n"
     ]
    }
   ],
   "source": [
    "list_ = list(range(1,10))   # a list can be created by using the range or strings\n",
    "print(list_)"
   ]
  },
  {
   "cell_type": "markdown",
   "id": "fe80e1bb",
   "metadata": {},
   "source": [
    "# 3.2. List indexing and calculating length"
   ]
  },
  {
   "cell_type": "code",
   "execution_count": 15,
   "id": "8fabb935",
   "metadata": {},
   "outputs": [
    {
     "name": "stdout",
     "output_type": "stream",
     "text": [
      "[11, 22, 33, 44, 55, 66]\n",
      "The number of item :  6\n"
     ]
    }
   ],
   "source": [
    "list_n = [11,22,33,44,55,66]\n",
    "print(list_n)\n",
    "length = len(list_n)\n",
    "print('The number of item : ',length)"
   ]
  },
  {
   "cell_type": "code",
   "execution_count": 18,
   "id": "2ea2d788",
   "metadata": {},
   "outputs": [
    {
     "data": {
      "text/plain": [
       "66"
      ]
     },
     "execution_count": 18,
     "metadata": {},
     "output_type": "execute_result"
    }
   ],
   "source": [
    "list_n[length-1]"
   ]
  },
  {
   "cell_type": "code",
   "execution_count": 19,
   "id": "02c6cffe",
   "metadata": {},
   "outputs": [
    {
     "data": {
      "text/plain": [
       "22"
      ]
     },
     "execution_count": 19,
     "metadata": {},
     "output_type": "execute_result"
    }
   ],
   "source": [
    "list_n[-5]"
   ]
  },
  {
   "cell_type": "markdown",
   "id": "8dcdcaab",
   "metadata": {},
   "source": [
    "# 4.1. + calculating to add list"
   ]
  },
  {
   "cell_type": "code",
   "execution_count": 20,
   "id": "ff367aa4",
   "metadata": {},
   "outputs": [
    {
     "name": "stdout",
     "output_type": "stream",
     "text": [
      "['David Doe', 20, 1, 180.0, 100.0, 'Jonh Smith', 25, 1, 170.0, 70.0]\n"
     ]
    }
   ],
   "source": [
    "person_1 = ['David Doe',20,1,180.0,100.0]\n",
    "person_2 = ['Jonh Smith',25,1,170.0,70.0]\n",
    "\n",
    "person_list = person_1+person_2\n",
    "print(person_list)"
   ]
  },
  {
   "cell_type": "markdown",
   "id": "ea21491f",
   "metadata": {},
   "source": [
    "# 4.2. The append method for list element addition"
   ]
  },
  {
   "cell_type": "code",
   "execution_count": 35,
   "id": "5f1f67e0",
   "metadata": {},
   "outputs": [
    {
     "name": "stdout",
     "output_type": "stream",
     "text": [
      "The list before adding new item ['A', 'B', 'C', 'D']\n",
      "The list after adding new item :  ['A', 'B', 'C', 'D', 'E']\n"
     ]
    }
   ],
   "source": [
    "a_list = ['A','B','C','D']\n",
    "print('The list before adding new item',a_list)\n",
    "a_list.append('E')  # add or append item at the end of list\n",
    "\n",
    "new_list = a_list\n",
    "print('The list after adding new item : ',new_list)\n",
    "\n",
    "\n"
   ]
  },
  {
   "cell_type": "markdown",
   "id": "5cb87a50",
   "metadata": {},
   "source": [
    "# 4.3. The extend method for list element addition"
   ]
  },
  {
   "cell_type": "code",
   "execution_count": 50,
   "id": "b8b7dad3",
   "metadata": {},
   "outputs": [
    {
     "name": "stdout",
     "output_type": "stream",
     "text": [
      "['A', 'B', 'C', 1, 2, 3]\n"
     ]
    }
   ],
   "source": [
    "list_1 = ['A','B','C']\n",
    "list_2 = [1,2,3]\n",
    "list_1.extend(list_2)\n",
    "print(list_1)"
   ]
  },
  {
   "cell_type": "code",
   "execution_count": 51,
   "id": "d2bf55af",
   "metadata": {},
   "outputs": [
    {
     "name": "stdout",
     "output_type": "stream",
     "text": [
      "['A', 'B', 'C', 1, 2, 3, 'd']\n"
     ]
    }
   ],
   "source": [
    "list_1.extend('d')\n",
    "print(list_1)"
   ]
  },
  {
   "cell_type": "code",
   "execution_count": 52,
   "id": "db32caca",
   "metadata": {},
   "outputs": [
    {
     "name": "stdout",
     "output_type": "stream",
     "text": [
      "[1, 2, 3, 100]\n"
     ]
    }
   ],
   "source": [
    "a = [100]\n",
    "list_2.extend(a)\n",
    "new_list = list_2\n",
    "print(new_list)"
   ]
  },
  {
   "cell_type": "markdown",
   "id": "e13199a9",
   "metadata": {},
   "source": [
    "# 4.4. Methods to delete list elements"
   ]
  },
  {
   "cell_type": "code",
   "execution_count": 53,
   "id": "7dfe3a58",
   "metadata": {},
   "outputs": [
    {
     "name": "stdout",
     "output_type": "stream",
     "text": [
      "List before deleting :  [11, 22, 33, 44, 55, 66]\n",
      "List after deleting element at index 1 :  [11, 33, 44, 55, 66]\n"
     ]
    }
   ],
   "source": [
    "n_list = [11,22,33,44,55,66]\n",
    "print('List before deleting : ',n_list)\n",
    "del n_list[1]\n",
    "print('List after deleting element at index 1 : ',n_list)"
   ]
  },
  {
   "cell_type": "code",
   "execution_count": 54,
   "id": "adee6cf1",
   "metadata": {},
   "outputs": [
    {
     "name": "stdout",
     "output_type": "stream",
     "text": [
      "List before using pop() :  ['A', 'B', 'C']\n",
      "List after using pop() :  ['A', 'B']\n",
      "The element that have been deleted :  C\n"
     ]
    }
   ],
   "source": [
    "n_list = ['A','B','C']\n",
    "print('List before using pop() : ',n_list)\n",
    "n = n_list.pop()\n",
    "print('List after using pop() : ',n_list)\n",
    "print('The element that have been deleted : ',n)"
   ]
  },
  {
   "cell_type": "code",
   "execution_count": 62,
   "id": "5a24db68",
   "metadata": {},
   "outputs": [
    {
     "name": "stdout",
     "output_type": "stream",
     "text": [
      "List before using remove() :  [11, 22, 33, 44, 55, 66, 33]\n",
      "List after using remove :  [11, 22, 44, 55, 66, 33]\n"
     ]
    }
   ],
   "source": [
    "n_list = [11,22,33,44,55,66,33] \n",
    "print('List before using remove() : ',n_list)\n",
    "n_list.remove(33)  # if the value are more than 2 it will delete the first element\n",
    "print('List after using remove : ',n_list)"
   ]
  },
  {
   "cell_type": "markdown",
   "id": "8cbbccb6",
   "metadata": {},
   "source": [
    "# 5.1. Slicing"
   ]
  },
  {
   "cell_type": "code",
   "execution_count": 63,
   "id": "964107ea",
   "metadata": {},
   "outputs": [
    {
     "name": "stdout",
     "output_type": "stream",
     "text": [
      "[20, 30, 40, 50, 60, 70]\n"
     ]
    }
   ],
   "source": [
    "my_list = [10,20,30,40,50,60,70,80]\n",
    "new_list = my_list[1:7]\n",
    "print(new_list)"
   ]
  },
  {
   "cell_type": "markdown",
   "id": "35162e12",
   "metadata": {},
   "source": [
    "# 6.1. in operator"
   ]
  },
  {
   "cell_type": "code",
   "execution_count": 64,
   "id": "7e698d9f",
   "metadata": {},
   "outputs": [
    {
     "data": {
      "text/plain": [
       "False"
      ]
     },
     "execution_count": 64,
     "metadata": {},
     "output_type": "execute_result"
    }
   ],
   "source": [
    "my_list = [10,20,30,40]\n",
    "90 in my_list"
   ]
  },
  {
   "cell_type": "markdown",
   "id": "46642dfd",
   "metadata": {},
   "source": [
    "# 6.2. Using the in operator"
   ]
  },
  {
   "cell_type": "code",
   "execution_count": 68,
   "id": "89ce4c29",
   "metadata": {},
   "outputs": [
    {
     "name": "stdout",
     "output_type": "stream",
     "text": [
      "my_list after using in operator with if statment =  [10, 20, 30, 40, 60]\n"
     ]
    }
   ],
   "source": [
    "my_list = [10,20,30,40,50,60]\n",
    "if 50 in my_list:\n",
    "    my_list.remove(50)\n",
    "if 70 in my_list:\n",
    "    my_list.remove(70)\n",
    "print('my_list after using in operator with if statment = ',my_list)"
   ]
  },
  {
   "cell_type": "code",
   "execution_count": 70,
   "id": "2d1c7ed4",
   "metadata": {},
   "outputs": [
    {
     "name": "stdout",
     "output_type": "stream",
     "text": [
      "Enter te number that will be deleted : 111\n",
      "111  is not in the list\n",
      "[10, 20, 30, 40, 50, 60]\n"
     ]
    }
   ],
   "source": [
    "my_list = [10,20,30,40,50,60]\n",
    "n=int(input('Enter te number that will be deleted : '))\n",
    "\n",
    "if n in my_list:\n",
    "    my_list.remove(n)\n",
    "else:\n",
    "    print(n,' is not in the list')\n",
    "print(my_list)"
   ]
  },
  {
   "cell_type": "markdown",
   "id": "bfb683ef",
   "metadata": {},
   "source": [
    "# Quiz1"
   ]
  },
  {
   "cell_type": "code",
   "execution_count": 83,
   "id": "3b476447",
   "metadata": {},
   "outputs": [
    {
     "name": "stdout",
     "output_type": "stream",
     "text": [
      "2\n"
     ]
    }
   ],
   "source": [
    "# QUIZ 1 : create prime list \n",
    "prime_list = [2,3,5,7]\n",
    "print(prime_list[0])"
   ]
  },
  {
   "cell_type": "markdown",
   "id": "a90b7ae2",
   "metadata": {},
   "source": [
    "# Quiz2 "
   ]
  },
  {
   "cell_type": "code",
   "execution_count": 72,
   "id": "ab81a851",
   "metadata": {},
   "outputs": [
    {
     "name": "stdout",
     "output_type": "stream",
     "text": [
      "The list before using append :  [2, 3, 5, 7]\n",
      "The list after using append :  [2, 3, 5, 7, 11]\n"
     ]
    }
   ],
   "source": [
    "prime_list = [2,3,5,7]\n",
    "print('The list before using append : ',prime_list)\n",
    "prime_list.append(11)\n",
    "print('The list after using append : ',prime_list)"
   ]
  },
  {
   "cell_type": "markdown",
   "id": "c9fc64aa",
   "metadata": {},
   "source": [
    "# Quiz3"
   ]
  },
  {
   "cell_type": "code",
   "execution_count": 82,
   "id": "4809da35",
   "metadata": {},
   "outputs": [
    {
     "name": "stdout",
     "output_type": "stream",
     "text": [
      "3 * 2 = 6\n",
      "3 * 3 = 9\n",
      "3 * 4 = 12\n",
      "3 * 5 = 15\n",
      "3 * 6 = 18\n",
      "5 * 2 = 10\n",
      "5 * 3 = 15\n",
      "5 * 4 = 20\n",
      "5 * 5 = 25\n",
      "5 * 6 = 30\n",
      "7 * 2 = 14\n",
      "7 * 3 = 21\n",
      "7 * 4 = 28\n",
      "7 * 5 = 35\n",
      "7 * 6 = 42\n"
     ]
    }
   ],
   "source": [
    "list1 = [3,5,7]\n",
    "list2 = [2,3,4,5,6]\n",
    "for i in list1:\n",
    "    for j in list2:\n",
    "        print(i,'*',j,'=',i*j)"
   ]
  },
  {
   "cell_type": "markdown",
   "id": "121c4032",
   "metadata": {},
   "source": [
    "# 2.1. Build-in function used in the list"
   ]
  },
  {
   "cell_type": "code",
   "execution_count": 88,
   "id": "cb496ae7",
   "metadata": {},
   "outputs": [
    {
     "data": {
      "text/plain": [
       "400"
      ]
     },
     "execution_count": 88,
     "metadata": {},
     "output_type": "execute_result"
    }
   ],
   "source": [
    "n_list = [100,300,400,100]\n",
    "max(n_list)"
   ]
  },
  {
   "cell_type": "code",
   "execution_count": 90,
   "id": "017f5a9f",
   "metadata": {},
   "outputs": [
    {
     "data": {
      "text/plain": [
       "100"
      ]
     },
     "execution_count": 90,
     "metadata": {},
     "output_type": "execute_result"
    }
   ],
   "source": [
    "min(n_list)\n"
   ]
  },
  {
   "cell_type": "code",
   "execution_count": 89,
   "id": "cd90d113",
   "metadata": {},
   "outputs": [
    {
     "data": {
      "text/plain": [
       "900"
      ]
     },
     "execution_count": 89,
     "metadata": {},
     "output_type": "execute_result"
    }
   ],
   "source": [
    "sum(n_list)"
   ]
  },
  {
   "cell_type": "markdown",
   "id": "bd6e3308",
   "metadata": {},
   "source": [
    "# 3.1. Operating the list element value"
   ]
  },
  {
   "cell_type": "code",
   "execution_count": null,
   "id": "585250c6",
   "metadata": {},
   "outputs": [],
   "source": [
    "my_list = ['A',23,'B',45,'C',89]\n",
    "my_list.insert(2,'K')\n",
    "my_list"
   ]
  }
 ],
 "metadata": {
  "kernelspec": {
   "display_name": "Python 3 (ipykernel)",
   "language": "python",
   "name": "python3"
  },
  "language_info": {
   "codemirror_mode": {
    "name": "ipython",
    "version": 3
   },
   "file_extension": ".py",
   "mimetype": "text/x-python",
   "name": "python",
   "nbconvert_exporter": "python",
   "pygments_lexer": "ipython3",
   "version": "3.11.7"
  }
 },
 "nbformat": 4,
 "nbformat_minor": 5
}
