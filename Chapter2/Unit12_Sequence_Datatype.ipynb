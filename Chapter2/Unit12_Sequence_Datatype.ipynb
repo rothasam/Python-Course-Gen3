{
 "cells": [
  {
   "cell_type": "code",
   "execution_count": 1,
   "id": "face7788",
   "metadata": {},
   "outputs": [
    {
     "data": {
      "text/plain": [
       "True"
      ]
     },
     "execution_count": 1,
     "metadata": {},
     "output_type": "execute_result"
    }
   ],
   "source": [
    "list1 = [10,20,30,40]\n",
    "10 in list1"
   ]
  },
  {
   "cell_type": "code",
   "execution_count": 2,
   "id": "8e114f38",
   "metadata": {},
   "outputs": [
    {
     "data": {
      "text/plain": [
       "False"
      ]
     },
     "execution_count": 2,
     "metadata": {},
     "output_type": "execute_result"
    }
   ],
   "source": [
    "list1 = [10,20,30,40]\n",
    "10 not in list1"
   ]
  },
  {
   "cell_type": "code",
   "execution_count": 3,
   "id": "0e5f2d36",
   "metadata": {},
   "outputs": [
    {
     "data": {
      "text/plain": [
       "True"
      ]
     },
     "execution_count": 3,
     "metadata": {},
     "output_type": "execute_result"
    }
   ],
   "source": [
    "tup = (1,2,3,4)\n",
    "3 in tup"
   ]
  },
  {
   "cell_type": "code",
   "execution_count": 4,
   "id": "bf2c82e7",
   "metadata": {},
   "outputs": [
    {
     "data": {
      "text/plain": [
       "False"
      ]
     },
     "execution_count": 4,
     "metadata": {},
     "output_type": "execute_result"
    }
   ],
   "source": [
    "11 in range(10)"
   ]
  },
  {
   "cell_type": "code",
   "execution_count": 6,
   "id": "5d28d414",
   "metadata": {},
   "outputs": [
    {
     "data": {
      "text/plain": [
       "False"
      ]
     },
     "execution_count": 6,
     "metadata": {},
     "output_type": "execute_result"
    }
   ],
   "source": [
    "'a' in 'abcd'"
   ]
  },
  {
   "cell_type": "code",
   "execution_count": 7,
   "id": "874a64e4",
   "metadata": {},
   "outputs": [
    {
     "data": {
      "text/plain": [
       "False"
      ]
     },
     "execution_count": 7,
     "metadata": {},
     "output_type": "execute_result"
    }
   ],
   "source": [
    "'a' in 'Abcd'"
   ]
  },
  {
   "cell_type": "code",
   "execution_count": 9,
   "id": "d05a4af6",
   "metadata": {},
   "outputs": [
    {
     "name": "stdout",
     "output_type": "stream",
     "text": [
      "[11, 22, 33, 44]\n",
      "[11, 22, 33, 44, 55, 66]\n"
     ]
    }
   ],
   "source": [
    "list1 = [11,22,33,44]\n",
    "list2 = [55,66]\n",
    "print(list1)\n",
    "print(list1 + list2)  # concatenate list or we call linking lists "
   ]
  },
  {
   "cell_type": "code",
   "execution_count": 12,
   "id": "6deda411",
   "metadata": {},
   "outputs": [
    {
     "name": "stdout",
     "output_type": "stream",
     "text": [
      "(1, 2, 3, 4, 5, 6)\n"
     ]
    }
   ],
   "source": [
    "tup1 = (1,2,3)\n",
    "tup2 = (4,5,6)\n",
    "print(tup1 + tup2)"
   ]
  },
  {
   "cell_type": "code",
   "execution_count": 15,
   "id": "b0fa9ed2",
   "metadata": {},
   "outputs": [
    {
     "name": "stdout",
     "output_type": "stream",
     "text": [
      "[0, 1, 2, 3, 4, 5, 6, 7, 8, 9, 10, 11, 12, 13, 14, 15, 16, 17, 18, 19]\n"
     ]
    }
   ],
   "source": [
    "# range(10) + range(10,20) Error\n",
    "\n",
    "list1 = list(range(10))\n",
    "list2 = list(range(10,20))\n",
    "print(list1+list2)"
   ]
  },
  {
   "cell_type": "code",
   "execution_count": 18,
   "id": "523964d5",
   "metadata": {},
   "outputs": [
    {
     "data": {
      "text/plain": [
       "(0, 1, 2, 3, 4, 5, 6, 7, 8, 9, 10, 11, 12, 13, 14, 15, 16, 17, 18, 19)"
      ]
     },
     "execution_count": 18,
     "metadata": {},
     "output_type": "execute_result"
    }
   ],
   "source": [
    "tuple(range(10)) + tuple(range(10,20))"
   ]
  },
  {
   "cell_type": "code",
   "execution_count": 17,
   "id": "99ef3ad1",
   "metadata": {},
   "outputs": [
    {
     "name": "stdout",
     "output_type": "stream",
     "text": [
      "[11, 22, 33, 44, 11, 22, 33, 44, 11, 22, 33, 44]\n"
     ]
    }
   ],
   "source": [
    "list1 = [11,22,33,44]*2 # duplicate list or repeat the list 2 time\n",
    "print(list1)   "
   ]
  },
  {
   "cell_type": "code",
   "execution_count": 21,
   "id": "b7729866",
   "metadata": {},
   "outputs": [
    {
     "name": "stdout",
     "output_type": "stream",
     "text": [
      "(1, 2, 3, 1, 2, 3)\n"
     ]
    }
   ],
   "source": [
    "tup1 = (1,2,3)\n",
    "print(tup1*2)  # repeat 2 time of tuple"
   ]
  },
  {
   "cell_type": "code",
   "execution_count": 28,
   "id": "904f1c9e",
   "metadata": {},
   "outputs": [
    {
     "data": {
      "text/plain": [
       "[0, 1, 2, 3, 4, 5, 6, 7, 8, 9, 0, 1, 2, 3, 4, 5, 6, 7, 8, 9]"
      ]
     },
     "execution_count": 28,
     "metadata": {},
     "output_type": "execute_result"
    }
   ],
   "source": [
    "list_ = list(range(10))\n",
    "# print(list1*2)\n",
    "list_*2"
   ]
  },
  {
   "cell_type": "code",
   "execution_count": 29,
   "id": "0c616f9c",
   "metadata": {},
   "outputs": [
    {
     "data": {
      "text/plain": [
       "(0, 1, 2, 3, 4, 0, 1, 2, 3, 4, 0, 1, 2, 3, 4)"
      ]
     },
     "execution_count": 29,
     "metadata": {},
     "output_type": "execute_result"
    }
   ],
   "source": [
    "tuple_ = tuple(range(5))\n",
    "tuple_*3"
   ]
  },
  {
   "cell_type": "code",
   "execution_count": 33,
   "id": "7da9878b",
   "metadata": {},
   "outputs": [
    {
     "name": "stdout",
     "output_type": "stream",
     "text": [
      "(0, 1, 2, 0, 1, 2, 3, 4)\n"
     ]
    }
   ],
   "source": [
    "t1 = tuple(range(3))\n",
    "t2 = tuple(range(5))\n",
    "print(t1+t2)"
   ]
  },
  {
   "cell_type": "code",
   "execution_count": 37,
   "id": "134a408f",
   "metadata": {},
   "outputs": [
    {
     "name": "stdout",
     "output_type": "stream",
     "text": [
      "The number of 11 have 4 in the list\n"
     ]
    }
   ],
   "source": [
    "mylist = [11,11,11,22,44,33,11]\n",
    "print(\"The number of 11 have\",mylist.count(11),\"in the list\")"
   ]
  },
  {
   "cell_type": "code",
   "execution_count": 40,
   "id": "ce1c21be",
   "metadata": {},
   "outputs": [
    {
     "name": "stdout",
     "output_type": "stream",
     "text": [
      "Enter number to count : 11\n",
      "11 have 3 in the list\n"
     ]
    }
   ],
   "source": [
    "mylist1 = [11,11,33,22,44,55,11]\n",
    "user_input = int(input('Enter number to count : '))\n",
    "count_list = mylist1.count(user_input)\n",
    "print('{} have {} in the list'.format(user_input,count_list))"
   ]
  },
  {
   "cell_type": "code",
   "execution_count": 42,
   "id": "664cbb6b",
   "metadata": {},
   "outputs": [
    {
     "name": "stdout",
     "output_type": "stream",
     "text": [
      "2\n"
     ]
    }
   ],
   "source": [
    "str1 = 'Hello World'\n",
    "print(str1.count('o'))"
   ]
  },
  {
   "cell_type": "code",
   "execution_count": 46,
   "id": "a779dd9c",
   "metadata": {},
   "outputs": [
    {
     "name": "stdout",
     "output_type": "stream",
     "text": [
      "5\n",
      "1\n"
     ]
    }
   ],
   "source": [
    "ran = range(0,5,1)\n",
    "print(len(ran))  # find number of element\n",
    "print(ran.count(2)) # find number of element at specific of item we want to count"
   ]
  },
  {
   "cell_type": "code",
   "execution_count": 47,
   "id": "783ccaf4",
   "metadata": {},
   "outputs": [
    {
     "name": "stdout",
     "output_type": "stream",
     "text": [
      "33\n"
     ]
    }
   ],
   "source": [
    "list1 = [11,22,33,44]\n",
    "print(list1[2])"
   ]
  },
  {
   "cell_type": "code",
   "execution_count": 52,
   "id": "f83d0fff",
   "metadata": {},
   "outputs": [
    {
     "name": "stdout",
     "output_type": "stream",
     "text": [
      "index[0] = 0\n",
      "index[1] = 2\n",
      "index[2] = 4\n",
      "index[3] = 6\n",
      "index[4] = 8\n",
      "index[5] = 10\n",
      "index[6] = 12\n",
      "index[7] = 14\n",
      "index[8] = 16\n",
      "index[9] = 18\n",
      "index[10] = 20\n",
      "index[11] = 22\n",
      "index[12] = 24\n"
     ]
    }
   ],
   "source": [
    "ran = range(0,25,2)\n",
    "for index,i in enumerate(ran):\n",
    "    print(f\"index[{index}] = {i}\")"
   ]
  },
  {
   "cell_type": "code",
   "execution_count": null,
   "id": "8fb97af6",
   "metadata": {},
   "outputs": [],
   "source": [
    "list1 = [10,20,30,40,50,60]\n"
   ]
  },
  {
   "cell_type": "markdown",
   "id": "c286f9cc",
   "metadata": {},
   "source": [
    "# 6.2. len example code"
   ]
  },
  {
   "cell_type": "code",
   "execution_count": 62,
   "id": "da3ab130",
   "metadata": {},
   "outputs": [
    {
     "name": "stdout",
     "output_type": "stream",
     "text": [
      "The total nations in list :  4\n",
      "last element of nations :  Malaysia\n"
     ]
    }
   ],
   "source": [
    "nations = ['Korea','China','Russia','Malaysia']\n",
    "print('The total nations in list : ',len(nations))\n",
    "print('last element of nations : ',nations[len(nations)-1])"
   ]
  },
  {
   "cell_type": "code",
   "execution_count": null,
   "id": "353974c7",
   "metadata": {},
   "outputs": [],
   "source": [
    "a = ('A','B','C')\n",
    "ord()"
   ]
  },
  {
   "cell_type": "code",
   "execution_count": 76,
   "id": "c7037f23",
   "metadata": {},
   "outputs": [
    {
     "name": "stdout",
     "output_type": "stream",
     "text": [
      "True\n",
      "False\n",
      "True\n",
      "('a', 'b', 'c', 'd', 'e')\n",
      "[('a', 'b', 'c', 'd', 'e')]\n",
      "('a', 'b', 'c')\n"
     ]
    }
   ],
   "source": [
    "t1 = 'a','b','c'\n",
    "t2 = ('a','b','c')\n",
    "t3 = ('d','e')\n",
    "print(t1==t2)\n",
    "print(t1>t3)\n",
    "print(t1<t3)\n",
    "print(t2+t3)\n",
    "print([t2+t3])\n",
    "print(t1)"
   ]
  },
  {
   "cell_type": "code",
   "execution_count": null,
   "id": "39d228bb",
   "metadata": {},
   "outputs": [],
   "source": []
  },
  {
   "cell_type": "code",
   "execution_count": null,
   "id": "c147827a",
   "metadata": {},
   "outputs": [],
   "source": []
  },
  {
   "cell_type": "code",
   "execution_count": 87,
   "id": "0ddbd99e",
   "metadata": {},
   "outputs": [
    {
     "name": "stdout",
     "output_type": "stream",
     "text": [
      "In the past 10 days, 3days had reduced sales compared to the previous day.\n"
     ]
    }
   ],
   "source": [
    "sale_record = (100,121,120,130,140,120,122,123,190,125)\n",
    "\n",
    "counting = 0\n",
    "for i in range(1,len(sale_record)):\n",
    "    if sale_record[i] < sale_record[i-1]:\n",
    "        counting+=1\n",
    "print(f'In the past 10 days, {counting}days had reduced sales compared to the previous day.')"
   ]
  },
  {
   "cell_type": "markdown",
   "id": "7d8b8d86",
   "metadata": {},
   "source": [
    "# 1.1. Definition of tuple"
   ]
  },
  {
   "cell_type": "code",
   "execution_count": 90,
   "id": "850a187a",
   "metadata": {},
   "outputs": [
    {
     "name": "stdout",
     "output_type": "stream",
     "text": [
      "[11, 22, 33, 44]\n"
     ]
    }
   ],
   "source": [
    "list1 = [11,22,44,44] # replace item = 44 by 33  , but in tuple we cannot change item like this(list)\n",
    "list1[2] = 33  \n",
    "print(list1)"
   ]
  },
  {
   "cell_type": "markdown",
   "id": "3260381e",
   "metadata": {},
   "source": [
    "# 1.2. How to create tuple"
   ]
  },
  {
   "cell_type": "code",
   "execution_count": 94,
   "id": "e9094105",
   "metadata": {},
   "outputs": [
    {
     "name": "stdout",
     "output_type": "stream",
     "text": [
      "<class 'int'>\n",
      "<class 'tuple'>\n"
     ]
    }
   ],
   "source": [
    "tup1 = (10)\n",
    "tup2 = (20,)\n",
    "print(type(tup1))\n",
    "print(type(tup2))"
   ]
  },
  {
   "cell_type": "code",
   "execution_count": 95,
   "id": "0d8e15b9",
   "metadata": {},
   "outputs": [
    {
     "ename": "TypeError",
     "evalue": "'tuple' object does not support item assignment",
     "output_type": "error",
     "traceback": [
      "\u001b[1;31m---------------------------------------------------------------------------\u001b[0m",
      "\u001b[1;31mTypeError\u001b[0m                                 Traceback (most recent call last)",
      "Cell \u001b[1;32mIn[95], line 2\u001b[0m\n\u001b[0;32m      1\u001b[0m t \u001b[38;5;241m=\u001b[39m (\u001b[38;5;241m1\u001b[39m,\u001b[38;5;241m2\u001b[39m,\u001b[38;5;241m3\u001b[39m,\u001b[38;5;241m4\u001b[39m,\u001b[38;5;241m5\u001b[39m)\n\u001b[1;32m----> 2\u001b[0m t[\u001b[38;5;241m2\u001b[39m] \u001b[38;5;241m=\u001b[39m \u001b[38;5;241m10\u001b[39m\n\u001b[0;32m      3\u001b[0m \u001b[38;5;28mprint\u001b[39m(t)\n",
      "\u001b[1;31mTypeError\u001b[0m: 'tuple' object does not support item assignment"
     ]
    }
   ],
   "source": [
    "t = (1,2,3,4,5)\n",
    "t[2] = 10\n",
    "print(t) \n",
    "#error because tuple we cannot change item like list"
   ]
  },
  {
   "cell_type": "code",
   "execution_count": 97,
   "id": "d1794030",
   "metadata": {},
   "outputs": [
    {
     "name": "stdout",
     "output_type": "stream",
     "text": [
      "4\n"
     ]
    }
   ],
   "source": [
    "c = (3,4)\n",
    "x,y=c\n",
    "print(y)"
   ]
  },
  {
   "cell_type": "markdown",
   "id": "f3918e4e",
   "metadata": {},
   "source": [
    "# 1.7.swapping"
   ]
  },
  {
   "cell_type": "code",
   "execution_count": 100,
   "id": "9b3827db",
   "metadata": {},
   "outputs": [
    {
     "name": "stdout",
     "output_type": "stream",
     "text": [
      "Before swapping the value of a =  100  value of b =  200\n",
      "After swapping the value of a = 200  value of b =  100\n"
     ]
    }
   ],
   "source": [
    "a = 100\n",
    "b = 200\n",
    "print('Before swapping the value of a = ',a,' value of b = ',b)\n",
    "temp = a\n",
    "a = b\n",
    "b = temp\n",
    "print('After swapping the value of a =',a,' value of b = ',b)"
   ]
  },
  {
   "cell_type": "code",
   "execution_count": null,
   "id": "47d741c6",
   "metadata": {},
   "outputs": [],
   "source": []
  },
  {
   "cell_type": "code",
   "execution_count": null,
   "id": "37eb989a",
   "metadata": {},
   "outputs": [],
   "source": []
  }
 ],
 "metadata": {
  "kernelspec": {
   "display_name": "Python 3 (ipykernel)",
   "language": "python",
   "name": "python3"
  },
  "language_info": {
   "codemirror_mode": {
    "name": "ipython",
    "version": 3
   },
   "file_extension": ".py",
   "mimetype": "text/x-python",
   "name": "python",
   "nbconvert_exporter": "python",
   "pygments_lexer": "ipython3",
   "version": "3.11.7"
  }
 },
 "nbformat": 4,
 "nbformat_minor": 5
}
