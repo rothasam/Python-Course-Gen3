{
 "cells": [
  {
   "cell_type": "markdown",
   "id": "ed3a9ef6",
   "metadata": {},
   "source": [
    "# 3.1. This is how cafe menu program works."
   ]
  },
  {
   "cell_type": "code",
   "execution_count": 5,
   "id": "a63329fb",
   "metadata": {},
   "outputs": [
    {
     "name": "stdout",
     "output_type": "stream",
     "text": [
      "Start menu program...Press a to exit\n",
      "$ 3000\n",
      "input error\n",
      "$ 9\n",
      "input error\n",
      "$ <\n",
      "input error\n",
      "$ >\n",
      " not in the menu\n",
      "$ hh\n",
      "input error\n",
      "$ 5\n",
      "input error\n",
      "$ q\n",
      "exiting cafe menu program.\n"
     ]
    }
   ],
   "source": [
    "print(\"Start menu program...Press a to exit\")\n",
    "cafe_menu = {'Ice coffee':3000}\n",
    "while True:\n",
    "    str = input('$ ')\n",
    "    if str.startswith('q'):  # startswidth \n",
    "        break;\n",
    "    command = str[0]\n",
    "    \n",
    "    if command == '<':\n",
    "        str = str.replace('<',\"\")  # replace\n",
    "        inputStr = str.split(':') # split\n",
    "        if len(inputStr) < 2 :\n",
    "            print('input error')\n",
    "            continue\n",
    "        else:\n",
    "            cafe_menu[inputStr[0].strip()] = inputStr[1].strip()  # strip\n",
    "    elif command == '>':\n",
    "        str = str.replace('>',\"\")\n",
    "        inputStr = str.strip()\n",
    "        if inputStr in cafe_menu:\n",
    "            print(cafe_menu[inputStr])\n",
    "        else:\n",
    "            print('{} not in the menu'.format(inputStr))\n",
    "    elif command == 'q':\n",
    "        break\n",
    "    else:\n",
    "        print('input error')\n",
    "print(\"exiting cafe menu program.\")"
   ]
  },
  {
   "cell_type": "markdown",
   "id": "5afc8aa0",
   "metadata": {},
   "source": [
    "# 1.2. Dictionary code without setdefault"
   ]
  },
  {
   "cell_type": "code",
   "execution_count": 6,
   "id": "c7b2f54b",
   "metadata": {},
   "outputs": [
    {
     "name": "stdout",
     "output_type": "stream",
     "text": [
      "alphabet counting :  {'a': 2, 'b': 3, 'c': 2}\n"
     ]
    }
   ],
   "source": [
    "str1 = ['a','b','c','b','a','b','c']\n",
    "dic = {}\n",
    "for ch in str1:\n",
    "    if ch not in dic.keys():\n",
    "        dic[ch] = 0\n",
    "    dic[ch]+=1\n",
    "    \n",
    "print('alphabet counting : ',dic)"
   ]
  },
  {
   "cell_type": "markdown",
   "id": "2366390e",
   "metadata": {},
   "source": [
    "# 1.3. Dictionary code with setdefault"
   ]
  },
  {
   "cell_type": "code",
   "execution_count": 8,
   "id": "ecbe5099",
   "metadata": {},
   "outputs": [
    {
     "name": "stdout",
     "output_type": "stream",
     "text": [
      "[('a', 1)]\n",
      "[('a', 1), ('b', 1)]\n",
      "[('a', 1), ('b', 1), ('c', 1)]\n",
      "[('a', 1), ('b', 2), ('c', 1)]\n",
      "[('a', 2), ('b', 2), ('c', 1)]\n",
      "[('a', 2), ('b', 3), ('c', 1)]\n",
      "[('a', 2), ('b', 3), ('c', 2)]\n",
      "alphabet counting :  {'a': 2, 'b': 3, 'c': 2}\n"
     ]
    }
   ],
   "source": [
    "str = ['a',' b','c','b',' a',' b','c']\n",
    "dic = {}\n",
    "for ch in str1:\n",
    "    dic.setdefault(ch,0)\n",
    "    dic[ch] += 1\n",
    "    print(list(dic.items()))\n",
    "    \n",
    "print('alphabet counting : ',dic)"
   ]
  },
  {
   "cell_type": "markdown",
   "id": "0cfe2fd2",
   "metadata": {},
   "source": [
    "# 1.4. Update changes value of key."
   ]
  },
  {
   "cell_type": "code",
   "execution_count": 10,
   "id": "1e4910a1",
   "metadata": {},
   "outputs": [
    {
     "name": "stdout",
     "output_type": "stream",
     "text": [
      "{'a': 10000, 'b': 22, 'c': 33}\n"
     ]
    }
   ],
   "source": [
    "dic = {'a':11,'b':22,'c':33}\n",
    "dic.update(a=10000)\n",
    "print(dic)"
   ]
  },
  {
   "cell_type": "code",
   "execution_count": 11,
   "id": "fbcafb3f",
   "metadata": {},
   "outputs": [
    {
     "name": "stdout",
     "output_type": "stream",
     "text": [
      "{'a': 11, 'b': 22, 'c': 33, 'f': 10000}\n"
     ]
    }
   ],
   "source": [
    "dic2 = {'a':11,'b':22,'c':33}\n",
    "dic2.update(f = 10000)\n",
    "print(dic2)"
   ]
  },
  {
   "cell_type": "markdown",
   "id": "a55db293",
   "metadata": {},
   "source": [
    "# 1.9. Different between setdefault and update"
   ]
  },
  {
   "cell_type": "code",
   "execution_count": 15,
   "id": "2b0f3c2a",
   "metadata": {},
   "outputs": [
    {
     "name": "stdout",
     "output_type": "stream",
     "text": [
      "{'a': 10, ' b': 20, 'c': 30, 'd': 40}\n",
      "{'a': 10, ' b': 20, 'c': 30, 'd': 40}\n"
     ]
    }
   ],
   "source": [
    "dic_  = {'a':10,' b':20,'c':30,'d':40}\n",
    "print(dic_)\n",
    "dic_.setdefault('a',90)\n",
    "print(dic_)"
   ]
  },
  {
   "cell_type": "markdown",
   "id": "feff055d",
   "metadata": {},
   "source": [
    "# 2.1. Pop method"
   ]
  },
  {
   "cell_type": "code",
   "execution_count": 16,
   "id": "544b23e6",
   "metadata": {},
   "outputs": [
    {
     "name": "stdout",
     "output_type": "stream",
     "text": [
      "10\n",
      "{'b': 20, 'c': 30, 'd': 40}\n"
     ]
    }
   ],
   "source": [
    "dic = {'a':10,'b':20,'c':30,'d':40}\n",
    "print(dic.pop('a'))\n",
    "print(dic)"
   ]
  },
  {
   "cell_type": "markdown",
   "id": "2df8138d",
   "metadata": {},
   "source": [
    "# 2.2. Pop application"
   ]
  },
  {
   "cell_type": "code",
   "execution_count": 20,
   "id": "8d38bddc",
   "metadata": {},
   "outputs": [
    {
     "name": "stdout",
     "output_type": "stream",
     "text": [
      "10\n",
      "{'b': 20, 'c': 30, 'd': 40}\n",
      "8\n"
     ]
    }
   ],
   "source": [
    "dic = {'a':10,'b':20,'c':30,'d':40}\n",
    "print(dic.pop('a'))\n",
    "print(dic)\n",
    "print(dic.pop('f',8))"
   ]
  },
  {
   "cell_type": "markdown",
   "id": "d65c03ca",
   "metadata": {},
   "source": [
    "# 2.3. Popitem method"
   ]
  },
  {
   "cell_type": "code",
   "execution_count": 21,
   "id": "26e4c62f",
   "metadata": {},
   "outputs": [
    {
     "name": "stdout",
     "output_type": "stream",
     "text": [
      "('d', 40)\n"
     ]
    }
   ],
   "source": [
    "dic1 = {'a':10,'b':20,'c':30,'d':40}\n",
    "print(dic.popitem())"
   ]
  },
  {
   "cell_type": "markdown",
   "id": "d1b015e8",
   "metadata": {},
   "source": [
    "# QUIZ"
   ]
  },
  {
   "cell_type": "code",
   "execution_count": 25,
   "id": "12c2d75a",
   "metadata": {},
   "outputs": [
    {
     "name": "stdout",
     "output_type": "stream",
     "text": [
      "('Last Name', 'Doe')\n",
      "('First Name', 'David')\n",
      "('Company', 'Samsung')\n"
     ]
    }
   ],
   "source": [
    "person_dic = {'Last Name':'Doe','First Name':'David','Company':'Samsung'}\n",
    "for item in person_dic.items():\n",
    "    print(item)\n",
    "    "
   ]
  },
  {
   "cell_type": "code",
   "execution_count": 37,
   "id": "8e5fdf4b",
   "metadata": {},
   "outputs": [
    {
     "name": "stdout",
     "output_type": "stream",
     "text": [
      "Enter name of the item: Milk\n",
      "1\n"
     ]
    }
   ],
   "source": [
    "items = {\"Coffee\":7,\"Pen\":3,\"Milk\":1,\"Coke\":4,\"Book\":5}\n",
    "data = input('Enter name of the item: ')\n",
    "a = items.get(data)\n",
    "print(a)"
   ]
  },
  {
   "cell_type": "markdown",
   "id": "a9b05442",
   "metadata": {},
   "source": [
    "# 1.3.Split method"
   ]
  },
  {
   "cell_type": "code",
   "execution_count": 42,
   "id": "7ac4bb68",
   "metadata": {},
   "outputs": [
    {
     "name": "stdout",
     "output_type": "stream",
     "text": [
      "['Welcome', 'to', 'Python']\n"
     ]
    }
   ],
   "source": [
    "s = 'Welcome to Python'\n",
    "new_s = s.split()\n",
    "print(new_s)"
   ]
  },
  {
   "cell_type": "markdown",
   "id": "b0bfff18",
   "metadata": {},
   "source": [
    "# 1.4. Example of using split"
   ]
  },
  {
   "cell_type": "code",
   "execution_count": 43,
   "id": "9e178ef8",
   "metadata": {},
   "outputs": [
    {
     "data": {
      "text/plain": [
       "['Welcome', 'to', 'Python']"
      ]
     },
     "execution_count": 43,
     "metadata": {},
     "output_type": "execute_result"
    }
   ],
   "source": [
    "data = '2024.07.08'\n",
    "s.split()"
   ]
  },
  {
   "cell_type": "markdown",
   "id": "4f42d56e",
   "metadata": {},
   "source": [
    "# 1.5. Strip method"
   ]
  },
  {
   "cell_type": "code",
   "execution_count": 46,
   "id": "1b72fc66",
   "metadata": {},
   "outputs": [
    {
     "data": {
      "text/plain": [
       "['Hello, World']"
      ]
     },
     "execution_count": 46,
     "metadata": {},
     "output_type": "execute_result"
    }
   ],
   "source": [
    "s = 'Hello, World'\n",
    "s.split('.')"
   ]
  },
  {
   "cell_type": "markdown",
   "id": "007fda2c",
   "metadata": {},
   "source": [
    "# 1.6. Strip method and how to delete specific characters"
   ]
  },
  {
   "cell_type": "code",
   "execution_count": 47,
   "id": "0889c4e2",
   "metadata": {},
   "outputs": [
    {
     "data": {
      "text/plain": [
       "'this is an example'"
      ]
     },
     "execution_count": 47,
     "metadata": {},
     "output_type": "execute_result"
    }
   ],
   "source": [
    "s = \"########this is an example#####\"\n",
    "s.strip('#')"
   ]
  },
  {
   "cell_type": "code",
   "execution_count": 49,
   "id": "b9512566",
   "metadata": {},
   "outputs": [
    {
     "data": {
      "text/plain": [
       "'this is an example#####'"
      ]
     },
     "execution_count": 49,
     "metadata": {},
     "output_type": "execute_result"
    }
   ],
   "source": [
    "s = \"########this is an example#####\"\n",
    "s.lstrip('#')"
   ]
  },
  {
   "cell_type": "code",
   "execution_count": 50,
   "id": "0ff0a553",
   "metadata": {},
   "outputs": [
    {
     "data": {
      "text/plain": [
       "'########this is an example'"
      ]
     },
     "execution_count": 50,
     "metadata": {},
     "output_type": "execute_result"
    }
   ],
   "source": [
    "s = \"########this is an example#####\"\n",
    "s.rstrip('#')"
   ]
  },
  {
   "cell_type": "code",
   "execution_count": null,
   "id": "61c8cd18",
   "metadata": {},
   "outputs": [],
   "source": []
  }
 ],
 "metadata": {
  "kernelspec": {
   "display_name": "Python 3 (ipykernel)",
   "language": "python",
   "name": "python3"
  },
  "language_info": {
   "codemirror_mode": {
    "name": "ipython",
    "version": 3
   },
   "file_extension": ".py",
   "mimetype": "text/x-python",
   "name": "python",
   "nbconvert_exporter": "python",
   "pygments_lexer": "ipython3",
   "version": "3.11.7"
  }
 },
 "nbformat": 4,
 "nbformat_minor": 5
}
