{
 "cells": [
  {
   "cell_type": "markdown",
   "id": "f8bb5092",
   "metadata": {},
   "source": [
    "# 17 June 2024 :  Unit2"
   ]
  },
  {
   "cell_type": "markdown",
   "id": "954da27d",
   "metadata": {},
   "source": [
    "# 2.1. How the cafe menu works #1"
   ]
  },
  {
   "cell_type": "code",
   "execution_count": 5,
   "id": "c390c242",
   "metadata": {},
   "outputs": [
    {
     "name": "stdout",
     "output_type": "stream",
     "text": [
      "Americano        price : 3,000,000 KRW\n",
      "Ice Americano    price : 3,500 KRW\n",
      "Cappuccino       price : 4,000 KRW\n",
      "Cafe Latte       price : 4,500 KRW\n",
      "Espresso         price : 3,600 KRW\n"
     ]
    }
   ],
   "source": [
    "menu = {'Americano':3000000, 'Ice Americano':3500, 'Cappuccino':4000,'Cafe Latte':4500,'Espresso':3600}\n",
    "for key in menu:\n",
    "    print(\"{:16s} price : {:,} KRW\".format(key,menu[key]))"
   ]
  },
  {
   "cell_type": "markdown",
   "id": "51a138e7",
   "metadata": {},
   "source": [
    "# How the cafe menu works #2"
   ]
  },
  {
   "cell_type": "code",
   "execution_count": 10,
   "id": "ec3d491a",
   "metadata": {},
   "outputs": [
    {
     "name": "stdout",
     "output_type": "stream",
     "text": [
      "Americano       Price : 3,000 KRW\n",
      "Ice Americano   Price : 3,500 KRW\n",
      "Cappuccino      Price : 4,000 KRW\n",
      "Cafe Latte      Price : 4,500 KRW\n",
      "Espresso        Price : 3,600 KRW\n",
      "Select one menu from list: Espresso\n",
      "Espressois3,600 KRW. Please make a payment.\n"
     ]
    }
   ],
   "source": [
    "print('Americano       Price : 3,000 KRW')\n",
    "print('Ice Americano   Price : 3,500 KRW')\n",
    "print('Cappuccino      Price : 4,000 KRW')\n",
    "print('Cafe Latte      Price : 4,500 KRW')\n",
    "print('Espresso        Price : 3,600 KRW')\n",
    "choice = input('Select one menu from list: ')\n",
    "if choice in menu.keys():\n",
    "    print('{}is{:,} KRW. Please make a payment.'.format(choice,menu[choice]))\n",
    "else:\n",
    "    print('Sorry. {} is not in the menu.'.format(choice))"
   ]
  },
  {
   "cell_type": "code",
   "execution_count": 18,
   "id": "8636acd4",
   "metadata": {},
   "outputs": [
    {
     "name": "stdout",
     "output_type": "stream",
     "text": [
      "<class 'dict'>\n",
      "David Doe\n",
      "{'father': 'John Doe', 'mother': 'Marry Doe'}\n",
      "True\n"
     ]
    }
   ],
   "source": [
    "import json\n",
    "\n",
    "data = '{\"Name\":\"David Doe\",\"Age\":25,\"Hobby\":[\"baseketball\"],\\\n",
    "\"Family\":{\"father\":\"John Doe\",\"mother\":\"Marry Doe\"},\"Married\":true}'\n",
    "\n",
    "json_data = json.loads(data)\n",
    "\n",
    "print(type(json_data))\n",
    "print(json_data['Name'])  # print value of key \"Name\"\n",
    "print(json_data['Family'])\n",
    "print(json_data['Married'])"
   ]
  },
  {
   "cell_type": "code",
   "execution_count": 19,
   "id": "526a2884",
   "metadata": {},
   "outputs": [
    {
     "ename": "JSONDecodeError",
     "evalue": "Expecting ':' delimiter: line 1 column 43 (char 42)",
     "output_type": "error",
     "traceback": [
      "\u001b[1;31m---------------------------------------------------------------------------\u001b[0m",
      "\u001b[1;31mJSONDecodeError\u001b[0m                           Traceback (most recent call last)",
      "Cell \u001b[1;32mIn[19], line 4\u001b[0m\n\u001b[0;32m      1\u001b[0m \u001b[38;5;28;01mimport\u001b[39;00m \u001b[38;5;21;01mjson\u001b[39;00m\n\u001b[0;32m      3\u001b[0m data \u001b[38;5;241m=\u001b[39m \u001b[38;5;124m'\u001b[39m\u001b[38;5;124m{\u001b[39m\u001b[38;5;124m\"\u001b[39m\u001b[38;5;124mtitle\u001b[39m\u001b[38;5;124m\"\u001b[39m\u001b[38;5;124m: \u001b[39m\u001b[38;5;124m\"\u001b[39m\u001b[38;5;124mThe Old man and The Sea\u001b[39m\u001b[38;5;124m\"\u001b[39m\u001b[38;5;124m,\u001b[39m\u001b[38;5;124m\"\u001b[39m\u001b[38;5;124mISBM\u001b[39m\u001b[38;5;124m\"\u001b[39m\u001b[38;5;124m,\u001b[39m\u001b[38;5;124m\"\u001b[39m\u001b[38;5;124m12345\u001b[39m\u001b[38;5;124m\"\u001b[39m\u001b[38;5;124m,\u001b[39m\u001b[38;5;124m\"\u001b[39m\u001b[38;5;124mAuthor\u001b[39m\u001b[38;5;124m\"\u001b[39m\u001b[38;5;124m:\u001b[39m\u001b[38;5;124m\"\u001b[39m\u001b[38;5;124mErnest Hemingway\u001b[39m\u001b[38;5;124m\"\u001b[39m\u001b[38;5;124m}\u001b[39m\u001b[38;5;124m'\u001b[39m\n\u001b[1;32m----> 4\u001b[0m json_data \u001b[38;5;241m=\u001b[39m json\u001b[38;5;241m.\u001b[39mloads(data)\n\u001b[0;32m      6\u001b[0m \u001b[38;5;28;01mwith\u001b[39;00m \u001b[38;5;28mopen\u001b[39m(\u001b[38;5;124m'\u001b[39m\u001b[38;5;124mbook.json\u001b[39m\u001b[38;5;124m'\u001b[39m,\u001b[38;5;124m'\u001b[39m\u001b[38;5;124mw\u001b[39m\u001b[38;5;124m'\u001b[39m) \u001b[38;5;28;01mas\u001b[39;00m f:\n\u001b[0;32m      7\u001b[0m     json\u001b[38;5;241m.\u001b[39mdump(json_data,f,indent\u001b[38;5;241m=\u001b[39m\u001b[38;5;124m'\u001b[39m\u001b[38;5;130;01m\\t\u001b[39;00m\u001b[38;5;124m'\u001b[39m)\n",
      "File \u001b[1;32m~\\anaconda3\\Lib\\json\\__init__.py:346\u001b[0m, in \u001b[0;36mloads\u001b[1;34m(s, cls, object_hook, parse_float, parse_int, parse_constant, object_pairs_hook, **kw)\u001b[0m\n\u001b[0;32m    341\u001b[0m     s \u001b[38;5;241m=\u001b[39m s\u001b[38;5;241m.\u001b[39mdecode(detect_encoding(s), \u001b[38;5;124m'\u001b[39m\u001b[38;5;124msurrogatepass\u001b[39m\u001b[38;5;124m'\u001b[39m)\n\u001b[0;32m    343\u001b[0m \u001b[38;5;28;01mif\u001b[39;00m (\u001b[38;5;28mcls\u001b[39m \u001b[38;5;129;01mis\u001b[39;00m \u001b[38;5;28;01mNone\u001b[39;00m \u001b[38;5;129;01mand\u001b[39;00m object_hook \u001b[38;5;129;01mis\u001b[39;00m \u001b[38;5;28;01mNone\u001b[39;00m \u001b[38;5;129;01mand\u001b[39;00m\n\u001b[0;32m    344\u001b[0m         parse_int \u001b[38;5;129;01mis\u001b[39;00m \u001b[38;5;28;01mNone\u001b[39;00m \u001b[38;5;129;01mand\u001b[39;00m parse_float \u001b[38;5;129;01mis\u001b[39;00m \u001b[38;5;28;01mNone\u001b[39;00m \u001b[38;5;129;01mand\u001b[39;00m\n\u001b[0;32m    345\u001b[0m         parse_constant \u001b[38;5;129;01mis\u001b[39;00m \u001b[38;5;28;01mNone\u001b[39;00m \u001b[38;5;129;01mand\u001b[39;00m object_pairs_hook \u001b[38;5;129;01mis\u001b[39;00m \u001b[38;5;28;01mNone\u001b[39;00m \u001b[38;5;129;01mand\u001b[39;00m \u001b[38;5;129;01mnot\u001b[39;00m kw):\n\u001b[1;32m--> 346\u001b[0m     \u001b[38;5;28;01mreturn\u001b[39;00m _default_decoder\u001b[38;5;241m.\u001b[39mdecode(s)\n\u001b[0;32m    347\u001b[0m \u001b[38;5;28;01mif\u001b[39;00m \u001b[38;5;28mcls\u001b[39m \u001b[38;5;129;01mis\u001b[39;00m \u001b[38;5;28;01mNone\u001b[39;00m:\n\u001b[0;32m    348\u001b[0m     \u001b[38;5;28mcls\u001b[39m \u001b[38;5;241m=\u001b[39m JSONDecoder\n",
      "File \u001b[1;32m~\\anaconda3\\Lib\\json\\decoder.py:337\u001b[0m, in \u001b[0;36mJSONDecoder.decode\u001b[1;34m(self, s, _w)\u001b[0m\n\u001b[0;32m    332\u001b[0m \u001b[38;5;28;01mdef\u001b[39;00m \u001b[38;5;21mdecode\u001b[39m(\u001b[38;5;28mself\u001b[39m, s, _w\u001b[38;5;241m=\u001b[39mWHITESPACE\u001b[38;5;241m.\u001b[39mmatch):\n\u001b[0;32m    333\u001b[0m \u001b[38;5;250m    \u001b[39m\u001b[38;5;124;03m\"\"\"Return the Python representation of ``s`` (a ``str`` instance\u001b[39;00m\n\u001b[0;32m    334\u001b[0m \u001b[38;5;124;03m    containing a JSON document).\u001b[39;00m\n\u001b[0;32m    335\u001b[0m \n\u001b[0;32m    336\u001b[0m \u001b[38;5;124;03m    \"\"\"\u001b[39;00m\n\u001b[1;32m--> 337\u001b[0m     obj, end \u001b[38;5;241m=\u001b[39m \u001b[38;5;28mself\u001b[39m\u001b[38;5;241m.\u001b[39mraw_decode(s, idx\u001b[38;5;241m=\u001b[39m_w(s, \u001b[38;5;241m0\u001b[39m)\u001b[38;5;241m.\u001b[39mend())\n\u001b[0;32m    338\u001b[0m     end \u001b[38;5;241m=\u001b[39m _w(s, end)\u001b[38;5;241m.\u001b[39mend()\n\u001b[0;32m    339\u001b[0m     \u001b[38;5;28;01mif\u001b[39;00m end \u001b[38;5;241m!=\u001b[39m \u001b[38;5;28mlen\u001b[39m(s):\n",
      "File \u001b[1;32m~\\anaconda3\\Lib\\json\\decoder.py:353\u001b[0m, in \u001b[0;36mJSONDecoder.raw_decode\u001b[1;34m(self, s, idx)\u001b[0m\n\u001b[0;32m    344\u001b[0m \u001b[38;5;250m\u001b[39m\u001b[38;5;124;03m\"\"\"Decode a JSON document from ``s`` (a ``str`` beginning with\u001b[39;00m\n\u001b[0;32m    345\u001b[0m \u001b[38;5;124;03ma JSON document) and return a 2-tuple of the Python\u001b[39;00m\n\u001b[0;32m    346\u001b[0m \u001b[38;5;124;03mrepresentation and the index in ``s`` where the document ended.\u001b[39;00m\n\u001b[1;32m   (...)\u001b[0m\n\u001b[0;32m    350\u001b[0m \n\u001b[0;32m    351\u001b[0m \u001b[38;5;124;03m\"\"\"\u001b[39;00m\n\u001b[0;32m    352\u001b[0m \u001b[38;5;28;01mtry\u001b[39;00m:\n\u001b[1;32m--> 353\u001b[0m     obj, end \u001b[38;5;241m=\u001b[39m \u001b[38;5;28mself\u001b[39m\u001b[38;5;241m.\u001b[39mscan_once(s, idx)\n\u001b[0;32m    354\u001b[0m \u001b[38;5;28;01mexcept\u001b[39;00m \u001b[38;5;167;01mStopIteration\u001b[39;00m \u001b[38;5;28;01mas\u001b[39;00m err:\n\u001b[0;32m    355\u001b[0m     \u001b[38;5;28;01mraise\u001b[39;00m JSONDecodeError(\u001b[38;5;124m\"\u001b[39m\u001b[38;5;124mExpecting value\u001b[39m\u001b[38;5;124m\"\u001b[39m, s, err\u001b[38;5;241m.\u001b[39mvalue) \u001b[38;5;28;01mfrom\u001b[39;00m \u001b[38;5;28;01mNone\u001b[39;00m\n",
      "\u001b[1;31mJSONDecodeError\u001b[0m: Expecting ':' delimiter: line 1 column 43 (char 42)"
     ]
    }
   ],
   "source": [
    "import json\n",
    "\n",
    "data = '{\"title\": \"The Old man and The Sea\",\"ISBM\",\"12345\",\"Author\":\"Ernest Hemingway\"}'\n",
    "json_data = json.loads(data)\n",
    "\n",
    "with open('book.json','w') as f:\n",
    "    json.dump(json_data,f,indent='\\t')"
   ]
  },
  {
   "cell_type": "markdown",
   "id": "aafadd1e",
   "metadata": {},
   "source": [
    "# Quiz1 Page:128"
   ]
  },
  {
   "cell_type": "code",
   "execution_count": 4,
   "id": "ff8a6072",
   "metadata": {},
   "outputs": [
    {
     "name": "stdout",
     "output_type": "stream",
     "text": [
      "Seoul\n"
     ]
    }
   ],
   "source": [
    "capital_dic = { \n",
    "    'Korea':'Seoul',\n",
    "    'China':'Beijing',\n",
    "    'USA':'Washington DC'\n",
    "}\n",
    "print(capital_dic['Korea'])"
   ]
  },
  {
   "cell_type": "markdown",
   "id": "100562fb",
   "metadata": {},
   "source": [
    "# Quiz2"
   ]
  },
  {
   "cell_type": "code",
   "execution_count": 45,
   "id": "2b7a817c",
   "metadata": {},
   "outputs": [
    {
     "name": "stdout",
     "output_type": "stream",
     "text": [
      "The price of an apple is 5000 KRW.\n",
      "The price of a banana is 4000 KRW.\n",
      "The price of a grape is 5300 KRW.\n",
      "The price of a melon is 6500 KRW.\n",
      "\n",
      "\n",
      "                      fruits_dic dictionary                      \n",
      "\n",
      "key:apple          key:banana         key:grape          key:melon          \n",
      "value:5000         value:4000         value:5300         value:6500         \n"
     ]
    }
   ],
   "source": [
    "fruits_dic = {\n",
    "    'apple':5000,\n",
    "    'banana':4000,\n",
    "    'grape':5300,\n",
    "    'melon':6500\n",
    "}\n",
    "vowels = {'a', 'e', 'i', 'o', 'u'}  # or use square bracket in between those letter\n",
    "key_output = ''\n",
    "value_output = ''\n",
    "\n",
    "for key in fruits_dic.keys():\n",
    "    if key[0] in vowels:\n",
    "        print('The price of an {} is {} KRW.'.format(key,fruits_dic[key]))\n",
    "    else:\n",
    "         print('The price of a {} is {} KRW.'.format(key,fruits_dic[key]))\n",
    "            \n",
    "\n",
    "print('\\n\\n{:^65}\\n'.format(\"fruits_dic dictionary\"))\n",
    "\n",
    "for key in fruits_dic.keys():\n",
    "    key_output+=\"key:{:<15}\".format(key)\n",
    "for value in fruits_dic.values():\n",
    "    value_output+=\"value:{:<13}\".format(value)\n",
    "    \n",
    "print(key_output)\n",
    "print(value_output)\n",
    "\n",
    "\n",
    "\n",
    "# for key in fruits_dic.keys():\n",
    "#     print('key:{:<8}'.format(key), end=' ')\n",
    "\n",
    "# for key, value in fruits_dic.items():\n",
    "#     print('{0:^20} : {1:^20}'.format(key, value))"
   ]
  },
  {
   "cell_type": "markdown",
   "id": "50e1bebf",
   "metadata": {},
   "source": [
    "# 1.2. Dictionary declaration"
   ]
  },
  {
   "cell_type": "code",
   "execution_count": 21,
   "id": "083054bf",
   "metadata": {},
   "outputs": [
    {
     "name": "stdout",
     "output_type": "stream",
     "text": [
      "010-1234-5678\n",
      "010-1234-5679\n",
      "010-1234-5680\n",
      "{'David': '010-1234-5678', 'Jonh': '010-1234-5679', 'Daniel': '010-1234-5680'}\n"
     ]
    }
   ],
   "source": [
    "phone_book = { }  # create an empty dictionary\n",
    "phone_book[\"David\"] = \"010-1234-5678\"  # assign value to dictionary via key and value\n",
    "phone_book[\"Jonh\"] = \"010-1234-5679\"\n",
    "phone_book[\"Daniel\"] = \"010-1234-5680\"\n",
    "\n",
    "for key in phone_book:\n",
    "    print(phone_book[key])\n",
    "    \n",
    "print(phone_book)"
   ]
  },
  {
   "cell_type": "markdown",
   "id": "69e623bb",
   "metadata": {},
   "source": [
    "# Quiz"
   ]
  },
  {
   "cell_type": "code",
   "execution_count": 128,
   "id": "418ac334",
   "metadata": {},
   "outputs": [
    {
     "name": "stdout",
     "output_type": "stream",
     "text": [
      "dict_keys(['apple', 'melon', 'banana', 'orange'])\n",
      "<class 'list'>\n",
      "apple is in fruits_dis\n",
      "mango is not in fruits_dis\n"
     ]
    }
   ],
   "source": [
    "fruits_dic = {\n",
    "    'apple':6000,\n",
    "    'melon':3000,\n",
    "    'banana':5000,\n",
    "    'orange':4000\n",
    "}\n",
    "\n",
    "keys_list = list(fruits_dic.keys())\n",
    "print('dict_keys({})'.format(keys_list))\n",
    "print(type(keys_list))  # make sure it is a list type\n",
    "\n",
    "# print(fruits_dic.keys())\n",
    "\n",
    "# keys_.list.append('kiwi')\n",
    "\n",
    "if 'apple' in fruits_dic.keys():\n",
    "    print('{} is in fruits_dis'.format('apple'))\n",
    "    \n",
    "if 'mango' not in fruits_dic.keys():\n",
    "    print('{} is not in fruits_dis'.format('mango'))\n",
    "\n",
    "\n",
    "# # Example list to check against\n",
    "# check_list = ['apple', 'grape', 'banana', 'kiwi']\n",
    "\n",
    "# # Examine if keys in keys_list are in check_list\n",
    "# for key in keys_list:\n",
    "#     if key in check_list:\n",
    "#         print(f\"The key '{key}' is in the check_list.\")\n",
    "#     else:\n",
    "#         print(f\"The key '{key}' is not in the check_list.\")"
   ]
  },
  {
   "cell_type": "markdown",
   "id": "282f07bf",
   "metadata": {},
   "source": [
    "# HOMEWORK : Using dictionary to store data of student such as Name,Gender,Shift,Score , and examine how many male and female student in the dic and who has the highest score."
   ]
  },
  {
   "cell_type": "code",
   "execution_count": 3,
   "id": "ba49f4c5",
   "metadata": {},
   "outputs": [
    {
     "name": "stdout",
     "output_type": "stream",
     "text": [
      "--------------------------------------------------\n",
      "             C&P Course Student List              \n",
      "--------------------------------------------------\n",
      "  No     NAME         GENDER     SHTIFT     SCORE\n",
      "--------------------------------------------------\n",
      "  1.  Srey Pich       Female     Afternoon  88.50\n",
      "  2.  Tha Vatey       Female     Evening    67.80\n",
      "  3.  Chi Vorn        Male       Evening    84.30\n",
      "  4.  Ya Ya           Female     Afternoon  90.50\n",
      "  5.  Ly Eang         Female     Afternoon  70.50\n",
      "  6.  Che Ka          Male       Eveninig   95.50\n",
      "  7.  Ly Ly           Male       Afternoon  80.80\n",
      "  8.  Rotha Sam       Female     Evening    92.50\n",
      "  9.  Nita Son        Female     Evening    92.66\n",
      " 10.  Dom Dom         Male       Afternoon  93.92\n",
      " 11.  Sum Vathana     Female     Afternoon  67.25\n",
      " 12.  Pha Pha         Female     Afternoon  79.67\n",
      " 13.  Na Na           Female     Evening    96.70\n",
      " 14.  Ka Ka           Male       Evening    56.78\n",
      " 15.  Panha Pich      Female     Evening    86.78\n",
      "--------------------------------------------------\n",
      " Total:15            Male:5            Female:10\n",
      "\n",
      "\n",
      "\n",
      "          >>> HIGTHEST SCORE STUDENT <<<          \n",
      "--------------------------------------------------\n",
      " Na Na           Female     Evening    96.70\n",
      "--------------------------------------------------\n",
      "\n",
      "\n",
      "\n"
     ]
    }
   ],
   "source": [
    "student_data = {\n",
    "    '1':{'Name':'Srey Pich','Gender':'Female', 'Shift':'Afternoon', 'Score':88.5},\n",
    "    '2':{'Name':'Tha Vatey','Gender':'Female', 'Shift':'Evening', 'Score':67.8},\n",
    "    '3': {'Name':'Chi Vorn','Gender':'Male', 'Shift':'Evening', 'Score':84.3},\n",
    "    '4': {'Name':'Ya Ya','Gender':'Female', 'Shift':'Afternoon', 'Score':90.5},\n",
    "    '5': {'Name':'Ly Eang','Gender':'Female', 'Shift':'Afternoon', 'Score':70.5},\n",
    "    '6': {'Name':'Che Ka','Gender':'Male', 'Shift':'Eveninig', 'Score':95.5},\n",
    "    '7': {'Name':'Ly Ly','Gender':'Male', 'Shift':'Afternoon', 'Score':80.8},\n",
    "    '8': {'Name':'Rotha Sam','Gender':'Female', 'Shift':'Evening', 'Score':92.5},\n",
    "    '9': {'Name':'Nita Son','Gender':'Female', 'Shift':'Evening', 'Score':92.66},\n",
    "    '10': {'Name':'Dom Dom','Gender':'Male', 'Shift':'Afternoon', 'Score':93.92},\n",
    "    '11': {'Name':'Sum Vathana','Gender':'Female', 'Shift':'Afternoon', 'Score':67.25},\n",
    "    '12': {'Name':'Pha Pha','Gender':'Female', 'Shift':'Afternoon', 'Score':79.67},\n",
    "    '13': {'Name':'Na Na','Gender':'Female', 'Shift':'Evening', 'Score':96.7},\n",
    "    '14': {'Name':'Ka Ka','Gender':'Male', 'Shift':'Evening', 'Score':56.78},\n",
    "    '15': {'Name':'Panha Pich','Gender':'Female', 'Shift':'Evening', 'Score':86.78}\n",
    "}\n",
    "\n",
    "total_stu = 0\n",
    "male_stu = 0\n",
    "female_stu = 0\n",
    "max_score=0\n",
    "topStu = {}\n",
    "\n",
    "\n",
    "print('-'*50)\n",
    "print('{:^50}'.format('C&P Course Student List'))\n",
    "print('-'*50)\n",
    "print('{0:>4}     {1:<12} {2:<10} {3:<10} {4}'.format('No','NAME','GENDER','SHTIFT','SCORE'))\n",
    "print('-'*50)\n",
    "for key in student_data.keys():\n",
    "    print('{0:>3}.  {1:<15} {2:<10} {3:<10} {4:.2f}'.format(key,student_data[key]['Name'],student_data[key]['Gender'],\n",
    "                                                          student_data[key]['Shift'],student_data[key]['Score']))\n",
    "print('-'*50)\n",
    "for i in student_data.keys():\n",
    "    total_stu += 1\n",
    "    if student_data[i]['Gender'] == 'Male':\n",
    "        male_stu += 1\n",
    "    else:\n",
    "        female_stu+=1\n",
    "    \n",
    "    if student_data[i]['Score'] > max_score:\n",
    "        max_score = student_data[i]['Score']\n",
    "        topStu = student_data[i]\n",
    "        \n",
    "print(' Total:{0:<12d}  Male:{1:<12d} Female:{2}'.format(total_stu,male_stu,female_stu))\n",
    "    \n",
    "    \n",
    "print('\\n\\n')\n",
    "\n",
    "print('{:^50}'.format('>>> HIGTHEST SCORE STUDENT <<<'))\n",
    "print('-'*50)\n",
    "print(' {0:<15} {1:<10} {2:<10} {3:.2f}'.format(topStu['Name'],topStu['Gender'],topStu['Shift'],topStu['Score']))\n",
    "print('-'*50)\n",
    "print('\\n\\n')"
   ]
  },
  {
   "cell_type": "code",
   "execution_count": null,
   "id": "abbd8d59",
   "metadata": {},
   "outputs": [],
   "source": []
  },
  {
   "cell_type": "code",
   "execution_count": null,
   "id": "34c61992",
   "metadata": {},
   "outputs": [],
   "source": []
  }
 ],
 "metadata": {
  "kernelspec": {
   "display_name": "Python 3 (ipykernel)",
   "language": "python",
   "name": "python3"
  },
  "language_info": {
   "codemirror_mode": {
    "name": "ipython",
    "version": 3
   },
   "file_extension": ".py",
   "mimetype": "text/x-python",
   "name": "python",
   "nbconvert_exporter": "python",
   "pygments_lexer": "ipython3",
   "version": "3.11.7"
  }
 },
 "nbformat": 4,
 "nbformat_minor": 5
}
