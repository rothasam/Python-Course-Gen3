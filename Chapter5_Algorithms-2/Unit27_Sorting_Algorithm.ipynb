{
 "cells": [
  {
   "cell_type": "code",
   "execution_count": 1,
   "metadata": {},
   "outputs": [
    {
     "name": "stdout",
     "output_type": "stream",
     "text": [
      "[50, 30, 40, 10, 20]\n",
      "[30, 50, 10, 20, 40]\n",
      "[30, 10, 50, 20, 40]\n",
      "[10, 30, 20, 50, 40]\n",
      "[30, 20, 10, 40, 50]\n",
      "[20, 10, 40, 30, 50]\n"
     ]
    }
   ],
   "source": [
    "def bubblesort(S):\n",
    "    n = len(S)\n",
    "    for i in range(n):\n",
    "        print(S)\n",
    "        for j in range(n-1):\n",
    "            if S[i] > S[j + 1]:\n",
    "                S[j],S[j+1] = S[j+1], S[j]\n",
    "\n",
    "S = [50,30,40,10,20]\n",
    "bubblesort(S)\n",
    "print(S)"
   ]
  },
  {
   "cell_type": "code",
   "execution_count": 3,
   "metadata": {},
   "outputs": [
    {
     "name": "stdout",
     "output_type": "stream",
     "text": [
      "[50, 30, 40, 10, 20]\n",
      "[30, 50, 40, 10, 20]\n",
      "[30, 40, 50, 10, 20]\n",
      "[10, 30, 40, 50, 20]\n",
      "[10, 20, 30, 40, 50]\n"
     ]
    }
   ],
   "source": [
    "def insertionsort2(S):\n",
    "    n = len(S)\n",
    "    for i in range(1,n):\n",
    "        print(S)\n",
    "        x = S[i]\n",
    "        j = i-1\n",
    "        while j >=0 and  S[j] > x :\n",
    "                S[j + 1] = S[j]\n",
    "                j -= 1\n",
    "        S[j + 1] = x\n",
    "\n",
    "S = [50,30,40,10,20]\n",
    "insertionsort2(S)\n",
    "print(S)"
   ]
  },
  {
   "cell_type": "code",
   "execution_count": 10,
   "metadata": {},
   "outputs": [
    {
     "name": "stdout",
     "output_type": "stream",
     "text": [
      "[6, 2, 11, 7, 5, 4, 8, 16, 10, 3]\n",
      "[6, 2, 11, 7, 5, 4, 8, 16, 10, 3]\n",
      "[6, 2, 11, 7, 5, 4, 8, 16, 10, 3]\n",
      "[6, 2, 11, 7, 5, 4, 8, 16, 10, 3]\n",
      "[2, 6, 6, 11, 5, 4, 8, 16, 10, 3]\n",
      "[2, 6, 6, 5, 6, 6, 6, 6, 6, 6]\n",
      "[2, 6, 6, 5, 6, 6, 6, 6, 6, 6]\n",
      "[2, 6, 6, 5, 6, 6, 6, 6, 6, 6]\n",
      "[2, 6, 6, 5, 6, 6, 6, 6, 6, 6]\n"
     ]
    },
    {
     "ename": "IndexError",
     "evalue": "list assignment index out of range",
     "output_type": "error",
     "traceback": [
      "\u001b[1;31m---------------------------------------------------------------------------\u001b[0m",
      "\u001b[1;31mIndexError\u001b[0m                                Traceback (most recent call last)",
      "Cell \u001b[1;32mIn[10], line 28\u001b[0m\n\u001b[0;32m     25\u001b[0m             S[low \u001b[38;5;241m+\u001b[39m k] \u001b[38;5;241m=\u001b[39m R[k]\n\u001b[0;32m     27\u001b[0m S \u001b[38;5;241m=\u001b[39m [\u001b[38;5;241m6\u001b[39m,\u001b[38;5;241m2\u001b[39m,\u001b[38;5;241m11\u001b[39m,\u001b[38;5;241m7\u001b[39m,\u001b[38;5;241m5\u001b[39m,\u001b[38;5;241m4\u001b[39m,\u001b[38;5;241m8\u001b[39m,\u001b[38;5;241m16\u001b[39m,\u001b[38;5;241m10\u001b[39m,\u001b[38;5;241m3\u001b[39m]\n\u001b[1;32m---> 28\u001b[0m \u001b[43mmergesort2\u001b[49m\u001b[43m(\u001b[49m\u001b[43mS\u001b[49m\u001b[43m,\u001b[49m\u001b[38;5;241;43m0\u001b[39;49m\u001b[43m,\u001b[49m\u001b[38;5;28;43mlen\u001b[39;49m\u001b[43m(\u001b[49m\u001b[43mS\u001b[49m\u001b[43m)\u001b[49m\u001b[38;5;241;43m-\u001b[39;49m\u001b[38;5;241;43m1\u001b[39;49m\u001b[43m)\u001b[49m\n\u001b[0;32m     29\u001b[0m \u001b[38;5;28mprint\u001b[39m(S)\n\u001b[0;32m     31\u001b[0m S \u001b[38;5;241m=\u001b[39m [\u001b[38;5;241m6\u001b[39m,\u001b[38;5;241m2\u001b[39m,\u001b[38;5;241m11\u001b[39m,\u001b[38;5;241m7\u001b[39m,\u001b[38;5;241m5\u001b[39m,\u001b[38;5;241m4\u001b[39m,\u001b[38;5;241m8\u001b[39m,\u001b[38;5;241m16\u001b[39m,\u001b[38;5;241m10\u001b[39m,\u001b[38;5;241m3\u001b[39m,\u001b[38;5;241m1\u001b[39m,\u001b[38;5;241m12\u001b[39m,\u001b[38;5;241m9\u001b[39m]\n",
      "Cell \u001b[1;32mIn[10], line 6\u001b[0m, in \u001b[0;36mmergesort2\u001b[1;34m(S, low, high)\u001b[0m\n\u001b[0;32m      4\u001b[0m mid \u001b[38;5;241m=\u001b[39m (low \u001b[38;5;241m+\u001b[39m high) \u001b[38;5;241m/\u001b[39m\u001b[38;5;241m/\u001b[39m \u001b[38;5;241m2\u001b[39m\n\u001b[0;32m      5\u001b[0m mergesort2(S, low, mid)\n\u001b[1;32m----> 6\u001b[0m \u001b[43mmergesort2\u001b[49m\u001b[43m(\u001b[49m\u001b[43mS\u001b[49m\u001b[43m,\u001b[49m\u001b[43m \u001b[49m\u001b[43mmid\u001b[49m\u001b[43m \u001b[49m\u001b[38;5;241;43m+\u001b[39;49m\u001b[43m \u001b[49m\u001b[38;5;241;43m1\u001b[39;49m\u001b[43m,\u001b[49m\u001b[43m \u001b[49m\u001b[43mhigh\u001b[49m\u001b[43m)\u001b[49m\n\u001b[0;32m      7\u001b[0m merge2(S,low,mid,high)\n",
      "Cell \u001b[1;32mIn[10], line 7\u001b[0m, in \u001b[0;36mmergesort2\u001b[1;34m(S, low, high)\u001b[0m\n\u001b[0;32m      5\u001b[0m mergesort2(S, low, mid)\n\u001b[0;32m      6\u001b[0m mergesort2(S, mid \u001b[38;5;241m+\u001b[39m \u001b[38;5;241m1\u001b[39m, high)\n\u001b[1;32m----> 7\u001b[0m \u001b[43mmerge2\u001b[49m\u001b[43m(\u001b[49m\u001b[43mS\u001b[49m\u001b[43m,\u001b[49m\u001b[43mlow\u001b[49m\u001b[43m,\u001b[49m\u001b[43mmid\u001b[49m\u001b[43m,\u001b[49m\u001b[43mhigh\u001b[49m\u001b[43m)\u001b[49m\n",
      "Cell \u001b[1;32mIn[10], line 25\u001b[0m, in \u001b[0;36mmerge2\u001b[1;34m(S, low, mid, high)\u001b[0m\n\u001b[0;32m     23\u001b[0m         R\u001b[38;5;241m.\u001b[39mappend(S[i])\n\u001b[0;32m     24\u001b[0m \u001b[38;5;28;01mfor\u001b[39;00m k \u001b[38;5;129;01min\u001b[39;00m \u001b[38;5;28mrange\u001b[39m(\u001b[38;5;28mlen\u001b[39m(R)):\n\u001b[1;32m---> 25\u001b[0m     \u001b[43mS\u001b[49m\u001b[43m[\u001b[49m\u001b[43mlow\u001b[49m\u001b[43m \u001b[49m\u001b[38;5;241;43m+\u001b[39;49m\u001b[43m \u001b[49m\u001b[43mk\u001b[49m\u001b[43m]\u001b[49m \u001b[38;5;241m=\u001b[39m R[k]\n",
      "\u001b[1;31mIndexError\u001b[0m: list assignment index out of range"
     ]
    }
   ],
   "source": [
    "def mergesort2(S,low,high):\n",
    "    if low < high :\n",
    "        print(S)\n",
    "        mid = (low + high) // 2\n",
    "        mergesort2(S, low, mid)\n",
    "        mergesort2(S, mid + 1, high)\n",
    "        merge2(S,low,mid,high)\n",
    "\n",
    "def merge2(S,low,mid,high):\n",
    "    R = []\n",
    "    i , j = low , mid + 1 \n",
    "    while i <= mid and j <= high:\n",
    "        if S[i] <= S[j]:\n",
    "            R.append(S[i]); i += 1\n",
    "        else:\n",
    "            R.append(S[j]) ; j += 1\n",
    "        \n",
    "        if i > mid:\n",
    "            for k in range(j,high + 1):\n",
    "                R.append(S[j])\n",
    "        else:\n",
    "            for k in range(i, mid + 1):\n",
    "                R.append(S[i])\n",
    "        for k in range(len(R)):\n",
    "            S[low + k] = R[k]\n",
    "\n",
    "S = [6,2,11,7,5,4,8,16,10,3]\n",
    "mergesort2(S,0,len(S)-1)\n",
    "print(S)\n",
    "\n",
    "S = [6,2,11,7,5,4,8,16,10,3,1,12,9]\n",
    "mergesort2(S,0,len(S)-1)\n",
    "print(S)"
   ]
  }
 ],
 "metadata": {
  "kernelspec": {
   "display_name": "Python 3",
   "language": "python",
   "name": "python3"
  },
  "language_info": {
   "codemirror_mode": {
    "name": "ipython",
    "version": 3
   },
   "file_extension": ".py",
   "mimetype": "text/x-python",
   "name": "python",
   "nbconvert_exporter": "python",
   "pygments_lexer": "ipython3",
   "version": "3.12.3"
  }
 },
 "nbformat": 4,
 "nbformat_minor": 2
}
