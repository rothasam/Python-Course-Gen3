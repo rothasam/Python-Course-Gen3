{
 "cells": [
  {
   "cell_type": "code",
   "execution_count": 5,
   "metadata": {},
   "outputs": [
    {
     "name": "stdout",
     "output_type": "stream",
     "text": [
      "[15, 10, 12, 20, 25, 13, 22] 0 6\n",
      "[15, 10, 12, 20, 25, 13, 22]\n"
     ]
    }
   ],
   "source": [
    "def partition1(S,low,high):\n",
    "    pivot = S[low]\n",
    "    left, right = low + 1,  high\n",
    "    while left < right:\n",
    "        print(S)\n",
    "        while left <= right and S[left] <= pivot:\n",
    "            left += 1\n",
    "        while left <= right and S[right] >= pivot:\n",
    "            right -= 1\n",
    "        if left < right:\n",
    "            S[left], S[right] = S[right], S[left]\n",
    "    pivotpoint = right\n",
    "    S[low], S[pivotpoint] = S[pivotpoint], S[low]\n",
    "    return pivotpoint\n",
    "\n",
    "S = [15,10,12,20,25,13,22]\n",
    "print(S,0,len(S)-1)\n",
    "print(S)\n",
    "# def quicksort1(S,low,high):\n",
    "#     if low < high:\n",
    "#         print(S)\n",
    "#         pivotpoint = partition1(S, low, high)\n",
    "#         quicksort1(S, low, pivotpoint - 1)\n",
    "#         quicksort1(S, pivotpoint + 1, high)\n",
    "\n",
    "# S = [15,10,12,20,25,13,22]\n",
    "# quicksort1(S,0,len(S)-1)\n",
    "# print(S)\n"
   ]
  },
  {
   "cell_type": "code",
   "execution_count": null,
   "metadata": {},
   "outputs": [
    {
     "ename": "ValueError",
     "evalue": "invalid literal for int() with base 10: ''",
     "output_type": "error",
     "traceback": [
      "\u001b[1;31m---------------------------------------------------------------------------\u001b[0m",
      "\u001b[1;31mValueError\u001b[0m                                Traceback (most recent call last)",
      "Cell \u001b[1;32mIn[1], line 13\u001b[0m\n\u001b[0;32m     10\u001b[0m     \u001b[38;5;28;01mreturn\u001b[39;00m changes\n\u001b[0;32m     12\u001b[0m coins \u001b[38;5;241m=\u001b[39m [\u001b[38;5;241m500\u001b[39m,\u001b[38;5;241m100\u001b[39m,\u001b[38;5;241m50\u001b[39m,\u001b[38;5;241m10\u001b[39m]\n\u001b[1;32m---> 13\u001b[0m amount \u001b[38;5;241m=\u001b[39m \u001b[38;5;28;43mint\u001b[39;49m\u001b[43m(\u001b[49m\u001b[38;5;28;43minput\u001b[39;49m\u001b[43m(\u001b[49m\u001b[38;5;124;43m\"\u001b[39;49m\u001b[38;5;124;43minput amount : \u001b[39;49m\u001b[38;5;124;43m\"\u001b[39;49m\u001b[43m)\u001b[49m\u001b[43m)\u001b[49m\n\u001b[0;32m     14\u001b[0m changes \u001b[38;5;241m=\u001b[39m coin_change(coins,amount)\n\u001b[0;32m     15\u001b[0m \u001b[38;5;28mprint\u001b[39m(changes,\u001b[38;5;28mlen\u001b[39m(changes))\n",
      "\u001b[1;31mValueError\u001b[0m: invalid literal for int() with base 10: ''"
     ]
    }
   ],
   "source": []
  }
 ],
 "metadata": {
  "kernelspec": {
   "display_name": "Python 3",
   "language": "python",
   "name": "python3"
  },
  "language_info": {
   "codemirror_mode": {
    "name": "ipython",
    "version": 3
   },
   "file_extension": ".py",
   "mimetype": "text/x-python",
   "name": "python",
   "nbconvert_exporter": "python",
   "pygments_lexer": "ipython3",
   "version": "3.12.3"
  }
 },
 "nbformat": 4,
 "nbformat_minor": 2
}
