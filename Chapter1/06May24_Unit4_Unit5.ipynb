{
 "cells": [
  {
   "cell_type": "code",
   "execution_count": 1,
   "id": "cc7d181d",
   "metadata": {},
   "outputs": [
    {
     "name": "stdout",
     "output_type": "stream",
     "text": [
      "Enter your name : rtha\n",
      "Enter your heigh in (cm) : 160\n",
      "Enter your weight in (kg) : 60\n",
      "rtha 's bmi us 23.437499999999996\n"
     ]
    }
   ],
   "source": [
    "name = input('Enter your name : ')\n",
    "heigh_cm = float(input('Enter your heigh in (cm) : '))\n",
    "heigh_m = heigh_cm/100\n",
    "weight = float(input('Enter your weight in (kg) : '))\n",
    "bmi = weight/(heigh_m**2)\n",
    "print(name,\"'s bmi us\",bmi)"
   ]
  },
  {
   "cell_type": "code",
   "execution_count": 4,
   "id": "283cf39e",
   "metadata": {},
   "outputs": [
    {
     "name": "stdout",
     "output_type": "stream",
     "text": [
      "Enter your name : rothah\n",
      "Enter your heigh in (cm) : 160\n",
      "Enter your weight in (kg) : 60\n",
      "********************\n",
      "rothah 's bmi us 23.437499999999996\n"
     ]
    }
   ],
   "source": [
    "name = input('Enter your name : ')  #inform user to input their name\n",
    "heigh_cm = float(input('Enter your heigh in (cm) : '))  \n",
    "heigh_m = heigh_cm/100  # convert form cm to m\n",
    "weight = float(input('Enter your weight in (kg) : '))\n",
    "bmi = weight/(heigh_m**2)  \n",
    "print('*'*20)\n",
    "print(name,\"'s bmi is\",bmi)\n",
    "if bmi<=18.5 : print('underweight')\n",
    "else if bmi>18.5 && bmi<=24.9 : print('Normal weight')\n",
    "else if bmi>=25 && bmi<=29.9\n",
    "else if bmi>=30.0 && bmi<=34.9 : print('Obesity')"
   ]
  },
  {
   "cell_type": "code",
   "execution_count": 8,
   "id": "b39d1690",
   "metadata": {},
   "outputs": [
    {
     "name": "stdout",
     "output_type": "stream",
     "text": [
      "The list of keyword :  ['False', 'None', 'True', 'and', 'as', 'assert', 'async', 'await', 'break', 'class', 'continue', 'def', 'del', 'elif', 'else', 'except', 'finally', 'for', 'from', 'global', 'if', 'import', 'in', 'is', 'lambda', 'nonlocal', 'not', 'or', 'pass', 'raise', 'return', 'try', 'while', 'with', 'yield']\n"
     ]
    }
   ],
   "source": [
    "import keyword\n",
    "print('The list of keyword : ',keyword.kwlist)"
   ]
  },
  {
   "cell_type": "code",
   "execution_count": 9,
   "id": "2a13a387",
   "metadata": {},
   "outputs": [
    {
     "name": "stdout",
     "output_type": "stream",
     "text": [
      "Money paid : 34\n",
      "Price of item : 43\n",
      "Money change : \n"
     ]
    }
   ],
   "source": [
    "# exercies change won to coin\n",
    "money = int(input('Money paid : '))\n",
    "price = int(input('Price of item : '))\n",
    "change = money - price \n",
    "# convert amount of change to coin (1coin = 500won)\n",
    "print('Money change : ',change)\n",
    "coin_500s = change//500\n",
    "#amount of change after converted to coin (1coin)\n",
    "change = change % 500\n",
    "coin_100s = change // 100\n",
    "\n",
    "print('The price of 500 won c')"
   ]
  },
  {
   "cell_type": "code",
   "execution_count": 10,
   "id": "85f12be9",
   "metadata": {},
   "outputs": [
    {
     "name": "stdout",
     "output_type": "stream",
     "text": [
      "Enter width : 30\n",
      "Enter heigh : 60\n",
      "The area of rectangle :  1800.0\n"
     ]
    }
   ],
   "source": [
    "width = float(input('Enter width : '))\n",
    "heigh = float(input('Enter heigh : '))\n",
    "rectangle = width*heigh\n",
    "print('The area of rectangle : ',rectangle)"
   ]
  },
  {
   "cell_type": "code",
   "execution_count": 14,
   "id": "c913df39",
   "metadata": {},
   "outputs": [
    {
     "name": "stdout",
     "output_type": "stream",
     "text": [
      "Enter a : 5\n",
      "Enter b : 4\n",
      "length =  6.4031242374328485\n"
     ]
    }
   ],
   "source": [
    "import math\n",
    "a = int(input('Enter a : '))\n",
    "b = int(input('Enter b : '))\n",
    "c = math.sqrt(a**2+b**2)\n",
    "print('length = ',c)"
   ]
  },
  {
   "cell_type": "code",
   "execution_count": 15,
   "id": "ae7156c8",
   "metadata": {},
   "outputs": [
    {
     "name": "stdout",
     "output_type": "stream",
     "text": [
      "8\n"
     ]
    }
   ],
   "source": [
    "print(2**3)"
   ]
  },
  {
   "cell_type": "code",
   "execution_count": null,
   "id": "11d0256e",
   "metadata": {},
   "outputs": [],
   "source": []
  },
  {
   "cell_type": "code",
   "execution_count": 16,
   "id": "47df5cc5",
   "metadata": {},
   "outputs": [
    {
     "name": "stdout",
     "output_type": "stream",
     "text": [
      "Please enter the year : 2024\n",
      "The leap year :  True\n"
     ]
    }
   ],
   "source": [
    "year = int(input('Please enter the year : '))\n",
    "leap_year = (year%4==0 and year%100 !=0) or year%400==0\n",
    "print('The leap year : ',leap_year)"
   ]
  },
  {
   "cell_type": "code",
   "execution_count": 18,
   "id": "cec8b65a",
   "metadata": {},
   "outputs": [
    {
     "name": "stdout",
     "output_type": "stream",
     "text": [
      "Enter n : 21\n",
      "True\n"
     ]
    }
   ],
   "source": [
    "n = int(input('Enter n : '))\n",
    "if n%2!=0 : print('False')\n",
    "else : print('True')"
   ]
  },
  {
   "cell_type": "code",
   "execution_count": 21,
   "id": "eb625192",
   "metadata": {},
   "outputs": [
    {
     "name": "stdout",
     "output_type": "stream",
     "text": [
      "Enter n : 13\n",
      "True\n"
     ]
    }
   ],
   "source": [
    "n = int(input('Enter n : '))\n",
    "if n==0 or n<=100 and n%2==0 : print('False')\n",
    "else : print('True')"
   ]
  },
  {
   "cell_type": "code",
   "execution_count": null,
   "id": "3b3b4cbc",
   "metadata": {},
   "outputs": [],
   "source": []
  }
 ],
 "metadata": {
  "kernelspec": {
   "display_name": "Python 3 (ipykernel)",
   "language": "python",
   "name": "python3"
  },
  "language_info": {
   "codemirror_mode": {
    "name": "ipython",
    "version": 3
   },
   "file_extension": ".py",
   "mimetype": "text/x-python",
   "name": "python",
   "nbconvert_exporter": "python",
   "pygments_lexer": "ipython3",
   "version": "3.11.7"
  }
 },
 "nbformat": 4,
 "nbformat_minor": 5
}
