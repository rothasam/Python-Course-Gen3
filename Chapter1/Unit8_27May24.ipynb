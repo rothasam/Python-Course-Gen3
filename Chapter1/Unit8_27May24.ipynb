{
 "cells": [
  {
   "cell_type": "markdown",
   "id": "1e52e928",
   "metadata": {},
   "source": [
    "# 3.2. Delicious Food Combinations operation process"
   ]
  },
  {
   "cell_type": "code",
   "execution_count": 6,
   "id": "14b548f4",
   "metadata": {},
   "outputs": [
    {
     "name": "stdout",
     "output_type": "stream",
     "text": [
      "Possible comnations of David's sandwich shop\n",
      "Rye bread + Meatball + Lettuce + Mayonnaise\n",
      "Rye bread + Meatball + Lettuce + Honey Mustard\n",
      "Rye bread + Meatball + Lettuce + Chili\n",
      "Rye bread + Meatball +  Tomato + Mayonnaise\n",
      "Rye bread + Meatball +  Tomato + Honey Mustard\n",
      "Rye bread + Meatball +  Tomato + Chili\n",
      "Rye bread + Meatball + Cucumber + Mayonnaise\n",
      "Rye bread + Meatball + Cucumber + Honey Mustard\n",
      "Rye bread + Meatball + Cucumber + Chili\n",
      "Rye bread +  Sausage + Lettuce + Mayonnaise\n",
      "Rye bread +  Sausage + Lettuce + Honey Mustard\n",
      "Rye bread +  Sausage + Lettuce + Chili\n",
      "Rye bread +  Sausage +  Tomato + Mayonnaise\n",
      "Rye bread +  Sausage +  Tomato + Honey Mustard\n",
      "Rye bread +  Sausage +  Tomato + Chili\n",
      "Rye bread +  Sausage + Cucumber + Mayonnaise\n",
      "Rye bread +  Sausage + Cucumber + Honey Mustard\n",
      "Rye bread +  Sausage + Cucumber + Chili\n",
      "Rye bread + Chicken breast + Lettuce + Mayonnaise\n",
      "Rye bread + Chicken breast + Lettuce + Honey Mustard\n",
      "Rye bread + Chicken breast + Lettuce + Chili\n",
      "Rye bread + Chicken breast +  Tomato + Mayonnaise\n",
      "Rye bread + Chicken breast +  Tomato + Honey Mustard\n",
      "Rye bread + Chicken breast +  Tomato + Chili\n",
      "Rye bread + Chicken breast + Cucumber + Mayonnaise\n",
      "Rye bread + Chicken breast + Cucumber + Honey Mustard\n",
      "Rye bread + Chicken breast + Cucumber + Chili\n",
      "Wheat + Meatball + Lettuce + Mayonnaise\n",
      "Wheat + Meatball + Lettuce + Honey Mustard\n",
      "Wheat + Meatball + Lettuce + Chili\n",
      "Wheat + Meatball +  Tomato + Mayonnaise\n",
      "Wheat + Meatball +  Tomato + Honey Mustard\n",
      "Wheat + Meatball +  Tomato + Chili\n",
      "Wheat + Meatball + Cucumber + Mayonnaise\n",
      "Wheat + Meatball + Cucumber + Honey Mustard\n",
      "Wheat + Meatball + Cucumber + Chili\n",
      "Wheat +  Sausage + Lettuce + Mayonnaise\n",
      "Wheat +  Sausage + Lettuce + Honey Mustard\n",
      "Wheat +  Sausage + Lettuce + Chili\n",
      "Wheat +  Sausage +  Tomato + Mayonnaise\n",
      "Wheat +  Sausage +  Tomato + Honey Mustard\n",
      "Wheat +  Sausage +  Tomato + Chili\n",
      "Wheat +  Sausage + Cucumber + Mayonnaise\n",
      "Wheat +  Sausage + Cucumber + Honey Mustard\n",
      "Wheat +  Sausage + Cucumber + Chili\n",
      "Wheat + Chicken breast + Lettuce + Mayonnaise\n",
      "Wheat + Chicken breast + Lettuce + Honey Mustard\n",
      "Wheat + Chicken breast + Lettuce + Chili\n",
      "Wheat + Chicken breast +  Tomato + Mayonnaise\n",
      "Wheat + Chicken breast +  Tomato + Honey Mustard\n",
      "Wheat + Chicken breast +  Tomato + Chili\n",
      "Wheat + Chicken breast + Cucumber + Mayonnaise\n",
      "Wheat + Chicken breast + Cucumber + Honey Mustard\n",
      "Wheat + Chicken breast + Cucumber + Chili\n",
      " White + Meatball + Lettuce + Mayonnaise\n",
      " White + Meatball + Lettuce + Honey Mustard\n",
      " White + Meatball + Lettuce + Chili\n",
      " White + Meatball +  Tomato + Mayonnaise\n",
      " White + Meatball +  Tomato + Honey Mustard\n",
      " White + Meatball +  Tomato + Chili\n",
      " White + Meatball + Cucumber + Mayonnaise\n",
      " White + Meatball + Cucumber + Honey Mustard\n",
      " White + Meatball + Cucumber + Chili\n",
      " White +  Sausage + Lettuce + Mayonnaise\n",
      " White +  Sausage + Lettuce + Honey Mustard\n",
      " White +  Sausage + Lettuce + Chili\n",
      " White +  Sausage +  Tomato + Mayonnaise\n",
      " White +  Sausage +  Tomato + Honey Mustard\n",
      " White +  Sausage +  Tomato + Chili\n",
      " White +  Sausage + Cucumber + Mayonnaise\n",
      " White +  Sausage + Cucumber + Honey Mustard\n",
      " White +  Sausage + Cucumber + Chili\n",
      " White + Chicken breast + Lettuce + Mayonnaise\n",
      " White + Chicken breast + Lettuce + Honey Mustard\n",
      " White + Chicken breast + Lettuce + Chili\n",
      " White + Chicken breast +  Tomato + Mayonnaise\n",
      " White + Chicken breast +  Tomato + Honey Mustard\n",
      " White + Chicken breast +  Tomato + Chili\n",
      " White + Chicken breast + Cucumber + Mayonnaise\n",
      " White + Chicken breast + Cucumber + Honey Mustard\n",
      " White + Chicken breast + Cucumber + Chili\n"
     ]
    }
   ],
   "source": [
    "breads = [\"Rye bread\",\"Wheat\",\" White\"]\n",
    "meats = [\"Meatball\",\" Sausage\",\"Chicken breast\"]\n",
    "vegis = [\"Lettuce\",\" Tomato\",\"Cucumber\"]\n",
    "sauces = [\"Mayonnaise\",\"Honey Mustard\",\"Chili\"]\n",
    "\n",
    "print(\"Possible comnations of David's sandwich shop\")\n",
    "for b in breads:\n",
    "    for m in meats:\n",
    "        for v in vegis:\n",
    "            for s in sauces:\n",
    "                print(b+\" + \"+m+\" + \"+v+\" + \"+s)"
   ]
  },
  {
   "cell_type": "markdown",
   "id": "44f75102",
   "metadata": {},
   "source": [
    "# Key concept"
   ]
  },
  {
   "cell_type": "markdown",
   "id": "780dd6b4",
   "metadata": {},
   "source": [
    "# 1.1. Necessity of iterated statements"
   ]
  },
  {
   "cell_type": "code",
   "execution_count": 7,
   "id": "7048dd25",
   "metadata": {},
   "outputs": [
    {
     "name": "stdout",
     "output_type": "stream",
     "text": [
      "Welcome to everyone\n",
      "Welcome to everyone\n",
      "Welcome to everyone\n",
      "Welcome to everyone\n",
      "Welcome to everyone\n"
     ]
    }
   ],
   "source": [
    "for i in range(5):\n",
    "    print('Welcome to everyone')"
   ]
  },
  {
   "cell_type": "code",
   "execution_count": 14,
   "id": "54d45602",
   "metadata": {},
   "outputs": [
    {
     "name": "stdout",
     "output_type": "stream",
     "text": [
      "1 Welcome to everyone\n",
      "2 Welcome to everyone\n",
      "3 Welcome to everyone\n",
      "4 Welcome to everyone\n",
      "5 Welcome to everyone\n"
     ]
    }
   ],
   "source": [
    "for _ in range(5):\n",
    "    print(_+1,\"Welcome to everyone\")"
   ]
  },
  {
   "cell_type": "markdown",
   "id": "9255698c",
   "metadata": {},
   "source": [
    "# 2.2. Structure of range"
   ]
  },
  {
   "cell_type": "code",
   "execution_count": 16,
   "id": "fef81b10",
   "metadata": {},
   "outputs": [
    {
     "name": "stdout",
     "output_type": "stream",
     "text": [
      "0\n",
      "2\n",
      "4\n",
      "6\n",
      "8\n"
     ]
    }
   ],
   "source": [
    "for i in range(0,10,2): #range(start,stop,step) \n",
    "    print(i)"
   ]
  },
  {
   "cell_type": "markdown",
   "id": "0356f66f",
   "metadata": {},
   "source": [
    "# 2.2. About range"
   ]
  },
  {
   "cell_type": "code",
   "execution_count": 25,
   "id": "4ab772a8",
   "metadata": {},
   "outputs": [
    {
     "name": "stdout",
     "output_type": "stream",
     "text": [
      "[8, 9]\n",
      "[0, 1, 2, 3, 4]\n",
      "[1, 3, 5, 7, 9, 11]\n",
      "[5, 10, 15, 20, 25]\n"
     ]
    }
   ],
   "source": [
    "print(list(range(8,10)))\n",
    "print(list(range(0,5,1)))\n",
    "print(list(range(1,12,2)))\n",
    "print(list(range(5,30,5)))"
   ]
  },
  {
   "cell_type": "markdown",
   "id": "4445a6cd",
   "metadata": {},
   "source": [
    "# 2.3. Problem solving using for in range"
   ]
  },
  {
   "cell_type": "code",
   "execution_count": 32,
   "id": "d5f7db9c",
   "metadata": {},
   "outputs": [
    {
     "name": "stdout",
     "output_type": "stream",
     "text": [
      "The sum of 1 to 11 : 55\n"
     ]
    }
   ],
   "source": [
    "s = 0\n",
    "for i in range(1,11):\n",
    "    s+=i\n",
    "    \n",
    "print(\"The sum of 1 to 11 :\",s)"
   ]
  },
  {
   "cell_type": "markdown",
   "id": "cb4cb363",
   "metadata": {},
   "source": [
    "# 2.5. Computing factorial"
   ]
  },
  {
   "cell_type": "code",
   "execution_count": 7,
   "id": "3fa309b7",
   "metadata": {
    "scrolled": true
   },
   "outputs": [
    {
     "name": "stdout",
     "output_type": "stream",
     "text": [
      "Enter n : 4\n",
      "Sum of fac =  24\n"
     ]
    }
   ],
   "source": [
    "n = int(input(\"Enter n : \"))\n",
    "fac = 1\n",
    "sum = 0\n",
    "for i in range(1,n+1):\n",
    "    fac=fac*i\n",
    "    #sum=sum+fac\n",
    "print(\"Sum of fac = \",fac)"
   ]
  },
  {
   "cell_type": "markdown",
   "id": "07c63ace",
   "metadata": {},
   "source": [
    "# 3.1. Object with order"
   ]
  },
  {
   "cell_type": "code",
   "execution_count": null,
   "id": "f3c09c32",
   "metadata": {},
   "outputs": [],
   "source": [
    "numbers = "
   ]
  },
  {
   "cell_type": "markdown",
   "id": "b6244eb7",
   "metadata": {},
   "source": [
    "# 3.2. Cumulative addition code example"
   ]
  },
  {
   "cell_type": "code",
   "execution_count": 8,
   "id": "79c1e177",
   "metadata": {},
   "outputs": [
    {
     "name": "stdout",
     "output_type": "stream",
     "text": [
      "['H', 'e', 'l', 'l', 'o']\n"
     ]
    }
   ],
   "source": [
    "st = \"Hello\"\n",
    "print(list(st))"
   ]
  },
  {
   "cell_type": "markdown",
   "id": "cf47dc48",
   "metadata": {},
   "source": [
    "# 3.3. Convert string data type to list data type"
   ]
  },
  {
   "cell_type": "code",
   "execution_count": 10,
   "id": "ed2b0cb2",
   "metadata": {},
   "outputs": [
    {
     "name": "stdout",
     "output_type": "stream",
     "text": [
      "H,e,l,l,o,"
     ]
    }
   ],
   "source": [
    "for ch in \"Hello\":\n",
    "    print(ch,end=\",\")"
   ]
  },
  {
   "cell_type": "code",
   "execution_count": null,
   "id": "b00a3c8e",
   "metadata": {},
   "outputs": [],
   "source": []
  }
 ],
 "metadata": {
  "kernelspec": {
   "display_name": "Python 3 (ipykernel)",
   "language": "python",
   "name": "python3"
  },
  "language_info": {
   "codemirror_mode": {
    "name": "ipython",
    "version": 3
   },
   "file_extension": ".py",
   "mimetype": "text/x-python",
   "name": "python",
   "nbconvert_exporter": "python",
   "pygments_lexer": "ipython3",
   "version": "3.11.7"
  }
 },
 "nbformat": 4,
 "nbformat_minor": 5
}
