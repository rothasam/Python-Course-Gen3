{
 "cells": [
  {
   "cell_type": "markdown",
   "id": "ff5dc1b0",
   "metadata": {},
   "source": [
    "# The program resolution code for ID verification"
   ]
  },
  {
   "cell_type": "code",
   "execution_count": 4,
   "id": "9676ad75",
   "metadata": {},
   "outputs": [
    {
     "name": "stdout",
     "output_type": "stream",
     "text": [
      "Enter Id : IlovePython\n",
      "Welcome!!\n"
     ]
    }
   ],
   "source": [
    "d = \"IlovePython\"\n",
    "id = input(\"Enter Id : \")\n",
    "if id == d:\n",
    "    print(\"Welcome!!\")\n",
    "else:\n",
    "    print(\"ID not found!!!\")"
   ]
  },
  {
   "cell_type": "markdown",
   "id": "61643973",
   "metadata": {},
   "source": [
    "# 1.3. Program to verify ID and password"
   ]
  },
  {
   "cell_type": "code",
   "execution_count": 5,
   "id": "d2d78c9f",
   "metadata": {},
   "outputs": [
    {
     "ename": "SyntaxError",
     "evalue": "invalid syntax (1496000122.py, line 3)",
     "output_type": "error",
     "traceback": [
      "\u001b[1;36m  Cell \u001b[1;32mIn[5], line 3\u001b[1;36m\u001b[0m\n\u001b[1;33m    id =\u001b[0m\n\u001b[1;37m         ^\u001b[0m\n\u001b[1;31mSyntaxError\u001b[0m\u001b[1;31m:\u001b[0m invalid syntax\n"
     ]
    }
   ],
   "source": [
    "my_id = \"001\";\n",
    "my_pw = \"iloveme\"\n",
    "id = "
   ]
  },
  {
   "cell_type": "markdown",
   "id": "54e5c116",
   "metadata": {},
   "source": [
    "# 2.1. Code example of random number generation"
   ]
  },
  {
   "cell_type": "code",
   "execution_count": 9,
   "id": "76114bc7",
   "metadata": {},
   "outputs": [
    {
     "name": "stdout",
     "output_type": "stream",
     "text": [
      "number =  32\n"
     ]
    }
   ],
   "source": [
    "import random\n",
    "number = random.randint(1,100)\n",
    "print(\"number = \",number) # display the value that randomly store in number variable"
   ]
  },
  {
   "cell_type": "markdown",
   "id": "6d825708",
   "metadata": {},
   "source": [
    "# 2.2. Coin tossing game using a random function"
   ]
  },
  {
   "cell_type": "code",
   "execution_count": 14,
   "id": "eb123c16",
   "metadata": {},
   "outputs": [
    {
     "name": "stdout",
     "output_type": "stream",
     "text": [
      "Number =  4\n"
     ]
    }
   ],
   "source": [
    "import random\n",
    "number = random.randrange(10)\n",
    "print(\"Number = \",number)"
   ]
  },
  {
   "cell_type": "code",
   "execution_count": 15,
   "id": "ac5798f1",
   "metadata": {},
   "outputs": [
    {
     "name": "stdout",
     "output_type": "stream",
     "text": [
      "Start coin tossing game\n",
      "Game finished\n"
     ]
    }
   ],
   "source": [
    "import random\n",
    "print(\"Start coin tossing game\")\n",
    "num = random.randrange(2)\n",
    "if num==0:\n",
    "    print(\"Front\")\n",
    "else:\n",
    "    print(\"Game finished\")"
   ]
  },
  {
   "cell_type": "code",
   "execution_count": null,
   "id": "2a848a65",
   "metadata": {},
   "outputs": [],
   "source": []
  },
  {
   "cell_type": "code",
   "execution_count": null,
   "id": "d04a6776",
   "metadata": {},
   "outputs": [],
   "source": []
  }
 ],
 "metadata": {
  "kernelspec": {
   "display_name": "Python 3 (ipykernel)",
   "language": "python",
   "name": "python3"
  },
  "language_info": {
   "codemirror_mode": {
    "name": "ipython",
    "version": 3
   },
   "file_extension": ".py",
   "mimetype": "text/x-python",
   "name": "python",
   "nbconvert_exporter": "python",
   "pygments_lexer": "ipython3",
   "version": "3.11.7"
  }
 },
 "nbformat": 4,
 "nbformat_minor": 5
}
