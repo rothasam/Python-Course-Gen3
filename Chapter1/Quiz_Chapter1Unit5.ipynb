{
 "cells": [
  {
   "cell_type": "code",
   "execution_count": 1,
   "id": "9bafb1c0",
   "metadata": {},
   "outputs": [
    {
     "name": "stdout",
     "output_type": "stream",
     "text": [
      "Enter an integer n : 21\n",
      "Is the integer odd? :: True\n"
     ]
    }
   ],
   "source": [
    "#Quiz1 : Write code to reciece the input value n from the user.\n",
    "try: \n",
    "    n=int(input(\"Enter an integer n : \"))\n",
    "    print(\"Is the integer odd? ::\",n%2!=0)\n",
    "except:\n",
    "    print(\"The value of n is not number!!!\")"
   ]
  },
  {
   "cell_type": "code",
   "execution_count": 10,
   "id": "9feadab8",
   "metadata": {},
   "outputs": [
    {
     "name": "stdout",
     "output_type": "stream",
     "text": [
      "Enter an integer : 2\n",
      "Is the input an even integer between 0 and 100?  True\n"
     ]
    }
   ],
   "source": [
    "#Quiz2 : Write code to obtain value from user's input if it even number between 0-100 or not.\n",
    "\n",
    "try: \n",
    "    n = int(input(\"Enter an integer : \")) \n",
    "    print(\"Is the input an even integer between 0 and 100? \",n%2==0 and n>=0 and n<=100) \n",
    "except: \n",
    "    print(\"The input value is not a number!!!\")"
   ]
  },
  {
   "cell_type": "code",
   "execution_count": null,
   "id": "a8516833",
   "metadata": {},
   "outputs": [],
   "source": []
  }
 ],
 "metadata": {
  "kernelspec": {
   "display_name": "Python 3 (ipykernel)",
   "language": "python",
   "name": "python3"
  },
  "language_info": {
   "codemirror_mode": {
    "name": "ipython",
    "version": 3
   },
   "file_extension": ".py",
   "mimetype": "text/x-python",
   "name": "python",
   "nbconvert_exporter": "python",
   "pygments_lexer": "ipython3",
   "version": "3.11.7"
  }
 },
 "nbformat": 4,
 "nbformat_minor": 5
}
