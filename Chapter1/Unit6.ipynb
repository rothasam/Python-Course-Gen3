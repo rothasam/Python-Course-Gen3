{
 "cells": [
  {
   "cell_type": "code",
   "execution_count": 2,
   "id": "4371111f",
   "metadata": {},
   "outputs": [
    {
     "name": "stdout",
     "output_type": "stream",
     "text": [
      "Enter game score : -100\n"
     ]
    }
   ],
   "source": [
    "game_score = int(input('Enter game score : '))\n",
    "if game_score > 1000:\n",
    "    print('You are a master')"
   ]
  },
  {
   "cell_type": "code",
   "execution_count": 8,
   "id": "a63edbd1",
   "metadata": {},
   "outputs": [
    {
     "name": "stdout",
     "output_type": "stream",
     "text": [
      "Enter integer between -100 and 100 : -10\n",
      "x =  -10\n"
     ]
    }
   ],
   "source": [
    "x = int(input('Enter integer between -100 and 100 : '))\n",
    "if x>=-100 and x<=100:\n",
    "    print('x = ',x)\n",
    "if x>0 and x<=100:\n",
    "    print(x,' is a natural number')"
   ]
  },
  {
   "cell_type": "code",
   "execution_count": 9,
   "id": "42278be5",
   "metadata": {},
   "outputs": [
    {
     "name": "stdout",
     "output_type": "stream",
     "text": [
      "['Rotha', 'SAM']\n"
     ]
    }
   ],
   "source": [
    "name = \"Rotha SAM\"\n",
    "name_list = name.split()\n",
    "print(name_list)"
   ]
  },
  {
   "cell_type": "code",
   "execution_count": 12,
   "id": "5fffa1de",
   "metadata": {},
   "outputs": [
    {
     "name": "stdout",
     "output_type": "stream",
     "text": [
      "Enter your age : 21\n",
      "Adult\n"
     ]
    }
   ],
   "source": [
    "age = int(input('Enter your age : '))\n",
    "if age>20: \n",
    "    print('Adult')\n",
    "elif age<20 and age>=10:\n",
    "    print('Youth')\n",
    "elif age<10 and age>=0:\n",
    "    print('Kid')"
   ]
  },
  {
   "cell_type": "markdown",
   "id": "c3668248",
   "metadata": {},
   "source": [
    "# input function and split method"
   ]
  },
  {
   "cell_type": "code",
   "execution_count": 3,
   "id": "74835ecc",
   "metadata": {},
   "outputs": [
    {
     "name": "stdout",
     "output_type": "stream",
     "text": [
      "Enter the integer divided by space. 11 33 545 \n",
      "Input= 11 33 545 \n",
      "Input is separated by split methosd, ['11 33 545 ']\n"
     ]
    }
   ],
   "source": [
    "str1 = input('Enter the integer divided by space. ')\n",
    "print('Input =',str1)\n",
    "print('Input is separated by split methosd,',str1.split(','))"
   ]
  },
  {
   "cell_type": "code",
   "execution_count": null,
   "id": "025f314d",
   "metadata": {},
   "outputs": [],
   "source": [
    "num1, num2, num3 = input('Enter three  integers separated by : ').split(',')\n",
    "num1, num2, num3 = int(num1), int(num2), int(num3)\n",
    "print()"
   ]
  }
 ],
 "metadata": {
  "kernelspec": {
   "display_name": "Python 3 (ipykernel)",
   "language": "python",
   "name": "python3"
  },
  "language_info": {
   "codemirror_mode": {
    "name": "ipython",
    "version": 3
   },
   "file_extension": ".py",
   "mimetype": "text/x-python",
   "name": "python",
   "nbconvert_exporter": "python",
   "pygments_lexer": "ipython3",
   "version": "3.11.7"
  }
 },
 "nbformat": 4,
 "nbformat_minor": 5
}
