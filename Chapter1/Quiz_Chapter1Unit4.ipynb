{
 "cells": [
  {
   "cell_type": "code",
   "execution_count": 2,
   "id": "09d1dcfa",
   "metadata": {},
   "outputs": [
    {
     "name": "stdout",
     "output_type": "stream",
     "text": [
      "Area of Rectangle : 1800\n"
     ]
    }
   ],
   "source": [
    "# Quiz1 : Finding area of rectangle\n",
    "width = 30\n",
    "height = 60\n",
    "area = width*height\n",
    "print('Area of Rectangle :',area)"
   ]
  },
  {
   "cell_type": "code",
   "execution_count": 6,
   "id": "92986c3d",
   "metadata": {},
   "outputs": [
    {
     "name": "stdout",
     "output_type": "stream",
     "text": [
      "Enter base of triangle(cm) : 7\n",
      "Enter height of triangle(cm) : 7\n",
      "Hypotenuse =  9.899494936611665 cm\n"
     ]
    }
   ],
   "source": [
    "# Quiz2 : Writing code to calculates the length of the hypotenuse\n",
    "import math\n",
    "base = int(input(\"Enter base of triangle(cm) : \"))\n",
    "height = int(input(\"Enter height of triangle(cm) : \"))\n",
    "hypotenuse = math.sqrt((base**2) + (height**2))\n",
    "print(\"Hypotenuse = \",hypotenuse,\"cm\")"
   ]
  },
  {
   "cell_type": "code",
   "execution_count": null,
   "id": "b9cda3e0",
   "metadata": {},
   "outputs": [],
   "source": []
  }
 ],
 "metadata": {
  "kernelspec": {
   "display_name": "Python 3 (ipykernel)",
   "language": "python",
   "name": "python3"
  },
  "language_info": {
   "codemirror_mode": {
    "name": "ipython",
    "version": 3
   },
   "file_extension": ".py",
   "mimetype": "text/x-python",
   "name": "python",
   "nbconvert_exporter": "python",
   "pygments_lexer": "ipython3",
   "version": "3.11.7"
  }
 },
 "nbformat": 4,
 "nbformat_minor": 5
}
