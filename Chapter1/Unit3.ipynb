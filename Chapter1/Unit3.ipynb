{
 "cells": [
  {
   "cell_type": "code",
   "execution_count": 1,
   "id": "dc6b47d7",
   "metadata": {},
   "outputs": [
    {
     "name": "stdout",
     "output_type": "stream",
     "text": [
      "Enter the vaule of raduis:2\n",
      "The Area of circle = 12.56\n",
      "The circum of circle = 12.56\n"
     ]
    }
   ],
   "source": [
    "PI = 3.14 #Define the value of pi\n",
    "#User input by using input () function\n",
    "raduis = float(input('Enter the vaule of raduis:'))\n",
    "\n",
    "#Formula to calculate the area of circle\n",
    "area = PI*raduis*raduis\n",
    "\n",
    "#Formular to calculate the circum of circle\n",
    "circum = 2*PI*raduis\n",
    "\n",
    "#Display the output\n",
    "print('The Area of circle =', area)\n",
    "print('The circum of circle =', circum)"
   ]
  },
  {
   "cell_type": "code",
   "execution_count": 7,
   "id": "965938e5",
   "metadata": {},
   "outputs": [
    {
     "name": "stdout",
     "output_type": "stream",
     "text": [
      "120\n",
      "2000\n",
      "80\n",
      "5.0\n",
      "5\n",
      "0\n"
     ]
    },
    {
     "data": {
      "text/plain": [
       "50.0"
      ]
     },
     "execution_count": 7,
     "metadata": {},
     "output_type": "execute_result"
    }
   ],
   "source": [
    "print(100+20)\n",
    "print(100*20)\n",
    "print(100-20)\n",
    "print(100/20)\n",
    "print(100//20)\n",
    "print(100%20)\n",
    "100/2"
   ]
  },
  {
   "cell_type": "code",
   "execution_count": 10,
   "id": "297aa71c",
   "metadata": {},
   "outputs": [
    {
     "data": {
      "text/plain": [
       "200"
      ]
     },
     "execution_count": 10,
     "metadata": {},
     "output_type": "execute_result"
    }
   ],
   "source": [
    "100*2"
   ]
  },
  {
   "cell_type": "code",
   "execution_count": 11,
   "id": "c805188c",
   "metadata": {},
   "outputs": [
    {
     "data": {
      "text/plain": [
       "'100100'"
      ]
     },
     "execution_count": 11,
     "metadata": {},
     "output_type": "execute_result"
    }
   ],
   "source": [
    "'100'*2"
   ]
  },
  {
   "cell_type": "code",
   "execution_count": 14,
   "id": "e6999e55",
   "metadata": {},
   "outputs": [
    {
     "data": {
      "text/plain": [
       "int"
      ]
     },
     "execution_count": 14,
     "metadata": {},
     "output_type": "execute_result"
    }
   ],
   "source": [
    "type(100)"
   ]
  },
  {
   "cell_type": "code",
   "execution_count": 15,
   "id": "93342bca",
   "metadata": {},
   "outputs": [
    {
     "data": {
      "text/plain": [
       "str"
      ]
     },
     "execution_count": 15,
     "metadata": {},
     "output_type": "execute_result"
    }
   ],
   "source": [
    "type('Rotha')"
   ]
  },
  {
   "cell_type": "code",
   "execution_count": 16,
   "id": "ed53d0eb",
   "metadata": {},
   "outputs": [
    {
     "data": {
      "text/plain": [
       "complex"
      ]
     },
     "execution_count": 16,
     "metadata": {},
     "output_type": "execute_result"
    }
   ],
   "source": [
    "type(3+5j)"
   ]
  },
  {
   "cell_type": "code",
   "execution_count": 17,
   "id": "3ae6b07c",
   "metadata": {},
   "outputs": [
    {
     "data": {
      "text/plain": [
       "5.0"
      ]
     },
     "execution_count": 17,
     "metadata": {},
     "output_type": "execute_result"
    }
   ],
   "source": [
    "int('10')/2  # convert string in to int"
   ]
  },
  {
   "cell_type": "code",
   "execution_count": 18,
   "id": "ac235160",
   "metadata": {},
   "outputs": [
    {
     "data": {
      "text/plain": [
       "'100'"
      ]
     },
     "execution_count": 18,
     "metadata": {},
     "output_type": "execute_result"
    }
   ],
   "source": [
    "str(100) # convert number into string"
   ]
  },
  {
   "cell_type": "code",
   "execution_count": 20,
   "id": "b06dbd14",
   "metadata": {},
   "outputs": [
    {
     "data": {
      "text/plain": [
       "NoneType"
      ]
     },
     "execution_count": 20,
     "metadata": {},
     "output_type": "execute_result"
    }
   ],
   "source": [
    "a = None\n",
    "type(a)"
   ]
  },
  {
   "cell_type": "code",
   "execution_count": 23,
   "id": "fb3027c9",
   "metadata": {},
   "outputs": [
    {
     "data": {
      "text/plain": [
       "100"
      ]
     },
     "execution_count": 23,
     "metadata": {},
     "output_type": "execute_result"
    }
   ],
   "source": [
    "int('50')+50"
   ]
  },
  {
   "cell_type": "code",
   "execution_count": 24,
   "id": "d20fc909",
   "metadata": {},
   "outputs": [
    {
     "data": {
      "text/plain": [
       "'100'"
      ]
     },
     "execution_count": 24,
     "metadata": {},
     "output_type": "execute_result"
    }
   ],
   "source": [
    "str(50+50)"
   ]
  },
  {
   "cell_type": "code",
   "execution_count": 27,
   "id": "5b156acd",
   "metadata": {},
   "outputs": [
    {
     "name": "stdout",
     "output_type": "stream",
     "text": [
      "100\n",
      "5050\n"
     ]
    }
   ],
   "source": [
    "#Use the int function to output the number 100 by\n",
    "#adding the letter \"50\" and the number 50\n",
    "print(int('50') + 50)\n",
    "\n",
    "#Also, use the str function to output the result of the addition \"5050\".\n",
    "print(str(50) + ('50'))"
   ]
  },
  {
   "cell_type": "code",
   "execution_count": 26,
   "id": "3e267a93",
   "metadata": {
    "scrolled": true
   },
   "outputs": [
    {
     "name": "stdout",
     "output_type": "stream",
     "text": [
      "<class 'list'>\n"
     ]
    }
   ],
   "source": [
    "list1 = [1, 2, 3, 4, 5]\n",
    "print(type(list1))"
   ]
  },
  {
   "cell_type": "code",
   "execution_count": 34,
   "id": "17c14cc8",
   "metadata": {},
   "outputs": [
    {
     "name": "stdout",
     "output_type": "stream",
     "text": [
      "1000\n"
     ]
    }
   ],
   "source": [
    "#Quiz2\n",
    "print(int('1'+'000'))"
   ]
  },
  {
   "cell_type": "code",
   "execution_count": 35,
   "id": "893fcfaa",
   "metadata": {},
   "outputs": [
    {
     "name": "stdout",
     "output_type": "stream",
     "text": [
      "<class 'float'>\n"
     ]
    }
   ],
   "source": [
    "print(type(float('10.5'))) "
   ]
  },
  {
   "cell_type": "code",
   "execution_count": 37,
   "id": "227754c9",
   "metadata": {},
   "outputs": [
    {
     "name": "stdout",
     "output_type": "stream",
     "text": [
      "<class 'int'>\n"
     ]
    }
   ],
   "source": [
    "print(type(100)) # keyword class is defining an object which detail in UNIT 21"
   ]
  },
  {
   "cell_type": "code",
   "execution_count": 38,
   "id": "a3468c69",
   "metadata": {},
   "outputs": [
    {
     "data": {
      "text/plain": [
       "int"
      ]
     },
     "execution_count": 38,
     "metadata": {},
     "output_type": "execute_result"
    }
   ],
   "source": [
    "type(100)"
   ]
  },
  {
   "cell_type": "code",
   "execution_count": null,
   "id": "b1a94aa2",
   "metadata": {},
   "outputs": [],
   "source": []
  }
 ],
 "metadata": {
  "kernelspec": {
   "display_name": "Python 3 (ipykernel)",
   "language": "python",
   "name": "python3"
  },
  "language_info": {
   "codemirror_mode": {
    "name": "ipython",
    "version": 3
   },
   "file_extension": ".py",
   "mimetype": "text/x-python",
   "name": "python",
   "nbconvert_exporter": "python",
   "pygments_lexer": "ipython3",
   "version": "3.11.7"
  }
 },
 "nbformat": 4,
 "nbformat_minor": 5
}
