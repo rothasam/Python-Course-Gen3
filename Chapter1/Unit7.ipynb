{
 "cells": [
  {
   "cell_type": "markdown",
   "id": "d3720dde",
   "metadata": {},
   "source": [
    "# Process of penalty shootout game!"
   ]
  },
  {
   "cell_type": "code",
   "execution_count": 30,
   "id": "5cdd06a9",
   "metadata": {},
   "outputs": [
    {
     "ename": "IndentationError",
     "evalue": "unexpected indent (901143290.py, line 13)",
     "output_type": "error",
     "traceback": [
      "\u001b[1;36m  Cell \u001b[1;32mIn[30], line 13\u001b[1;36m\u001b[0m\n\u001b[1;33m    print('Offense failed!')\u001b[0m\n\u001b[1;37m    ^\u001b[0m\n\u001b[1;31mIndentationError\u001b[0m\u001b[1;31m:\u001b[0m unexpected indent\n"
     ]
    }
   ],
   "source": [
    "import random\n",
    "n = random.randint(1,3)\n",
    "if n==1:\n",
    "    computer_choice = 'Left'\n",
    "elif n==2:\n",
    "    computer_choice = 'Middle'\n",
    "else:\n",
    "    computer_choice = 'Right'\n",
    "    \n",
    "user_choice = input('which side well you attack?(Left,Middle,Right) : ')\n",
    "#if type(user_choice)==type(computer_choice):\n",
    "    #if computer_choice == user_choice:\n",
    "        print('Offense failed!')\n",
    "        print('Congrats, offense succeeded.')\n",
    "        print('Computer defense position',computer_choice)\n",
    "#else:\n",
    "    #print('Error!!!')"
   ]
  },
  {
   "cell_type": "code",
   "execution_count": 27,
   "id": "9db42421",
   "metadata": {},
   "outputs": [
    {
     "ename": "IndentationError",
     "evalue": "unexpected indent (2207024393.py, line 12)",
     "output_type": "error",
     "traceback": [
      "\u001b[1;36m  Cell \u001b[1;32mIn[27], line 12\u001b[1;36m\u001b[0m\n\u001b[1;33m    if computer_choice == user_choice:\u001b[0m\n\u001b[1;37m    ^\u001b[0m\n\u001b[1;31mIndentationError\u001b[0m\u001b[1;31m:\u001b[0m unexpected indent\n"
     ]
    }
   ],
   "source": []
  },
  {
   "cell_type": "code",
   "execution_count": null,
   "id": "07ddfe74",
   "metadata": {},
   "outputs": [],
   "source": [
    "score = int(input('Enter score : '))\n",
    "if score>90:\n",
    "    print('Accepted')"
   ]
  },
  {
   "cell_type": "markdown",
   "id": "e4bc3f03",
   "metadata": {},
   "source": []
  },
  {
   "cell_type": "code",
   "execution_count": 45,
   "id": "f577326a",
   "metadata": {},
   "outputs": [
    {
     "name": "stdout",
     "output_type": "stream",
     "text": [
      "Enter integer : 0\n",
      "It is 0\n"
     ]
    }
   ],
   "source": [
    "user_input = int(input('Enter integer : '))\n",
    "if user_input>=0:\n",
    "    if user_input==0:\n",
    "        print('It is 0')\n",
    "    else:\n",
    "        print('It is Positive')\n",
    "else:\n",
    "    print('It is Negative')"
   ]
  },
  {
   "cell_type": "code",
   "execution_count": 51,
   "id": "b3a69ed0",
   "metadata": {},
   "outputs": [
    {
     "name": "stdout",
     "output_type": "stream",
     "text": [
      "Enter the integer : 0\n",
      "It is even number\n"
     ]
    }
   ],
   "source": [
    "num = int(input('Enter the integer : '))\n",
    "if num<0:\n",
    "    print('It is negative integer.')\n",
    "else:\n",
    "    if num%2==0:\n",
    "        print('It is even number')\n",
    "    else:\n",
    "        print('It is odd number')"
   ]
  },
  {
   "cell_type": "code",
   "execution_count": 52,
   "id": "a5b5b848",
   "metadata": {},
   "outputs": [
    {
     "name": "stdout",
     "output_type": "stream",
     "text": [
      "Enter an integer : 1\n"
     ]
    },
    {
     "ename": "NameError",
     "evalue": "name 'pirnt' is not defined",
     "output_type": "error",
     "traceback": [
      "\u001b[1;31m---------------------------------------------------------------------------\u001b[0m",
      "\u001b[1;31mNameError\u001b[0m                                 Traceback (most recent call last)",
      "Cell \u001b[1;32mIn[52], line 3\u001b[0m\n\u001b[0;32m      1\u001b[0m num \u001b[38;5;241m=\u001b[39m \u001b[38;5;28mint\u001b[39m(\u001b[38;5;28minput\u001b[39m(\u001b[38;5;124m'\u001b[39m\u001b[38;5;124mEnter an integer : \u001b[39m\u001b[38;5;124m'\u001b[39m))\n\u001b[0;32m      2\u001b[0m \u001b[38;5;28;01mif\u001b[39;00m num\u001b[38;5;241m>\u001b[39m\u001b[38;5;241m0\u001b[39m:\n\u001b[1;32m----> 3\u001b[0m     pirnt(\u001b[38;5;124m'\u001b[39m\u001b[38;5;124mIt is positive\u001b[39m\u001b[38;5;124m'\u001b[39m)\n",
      "\u001b[1;31mNameError\u001b[0m: name 'pirnt' is not defined"
     ]
    }
   ],
   "source": [
    "num = int(input('Enter an integer : '))\n",
    "if num>0:\n",
    "    pirnt('It is positive')\n",
    "    "
   ]
  },
  {
   "cell_type": "code",
   "execution_count": null,
   "id": "34203b2a",
   "metadata": {},
   "outputs": [],
   "source": [
    "score = float(input('Enter score : '))\n",
    "if score>=90 and score<=100:\n",
    "    print('A')\n",
    "elif score>=80 and score<90:\n",
    "    print('B')\n",
    "elif score>=70 and score<80:\n",
    "    print('C')\n",
    "elif score>=60 and score<70:\n",
    "    print('D')\n",
    "elif score<60 and score>=0:\n",
    "    print('F')\n",
    "else:\n",
    "    print('Error!!!"
   ]
  },
  {
   "cell_type": "code",
   "execution_count": 65,
   "id": "cb38dc62",
   "metadata": {},
   "outputs": [
    {
     "name": "stdout",
     "output_type": "stream",
     "text": [
      "Enter score : 101\n",
      "Error!!!\n"
     ]
    }
   ],
   "source": [
    "score = float(input('Enter score : '))\n",
    "if score>=90 and score<=100:\n",
    "    print('A')\n",
    "elif score>=80 and score<90:\n",
    "    print('B')\n",
    "elif score>=70 and score<80:\n",
    "    print('C')\n",
    "elif score>=60 and score<70:\n",
    "    print('D')\n",
    "elif score<60 and score>=0:\n",
    "    print('F')\n",
    "else:\n",
    "    print('Error!!!')"
   ]
  },
  {
   "cell_type": "code",
   "execution_count": 74,
   "id": "be77830d",
   "metadata": {},
   "outputs": [
    {
     "name": "stdout",
     "output_type": "stream",
     "text": [
      "Enter score : 100\n",
      "A\n"
     ]
    }
   ],
   "source": [
    "score = float(input('Enter score : '))\n",
    "if 90 <= score <= 100:\n",
    "    print('A')\n",
    "elif 80<= score <90:\n",
    "    print('B')\n",
    "elif 70<= score <80:\n",
    "    print('C')\n",
    "elif 60<= score <70:\n",
    "    print('D')\n",
    "elif 60<= score <=0:\n",
    "    print('F')\n",
    "else:\n",
    "    print('Error!!!')"
   ]
  },
  {
   "cell_type": "markdown",
   "id": "0ce83901",
   "metadata": {},
   "source": [
    "# Application exercise fruit shop"
   ]
  },
  {
   "cell_type": "code",
   "execution_count": null,
   "id": "449383e1",
   "metadata": {},
   "outputs": [],
   "source": [
    "print(\"#\"*30,\"\\nThis is David's fruit shop.\")\n",
    "print('1: Apple( price : 5000 won )')\n",
    "print('2: Grape( price : 6000 won )')\n",
    "print('3: Melon( price : 8000 won )')\n",
    "print('4: orange( price : 2000 won )\\n','#'*30)\n",
    "\n",
    "item_num = int(input('Enter item number(beteween 1-4) : '))\n",
    "amountOfItem = int(input('Enter amount of item(between 1-10) : '))\n",
    "if item_num == 1:\n",
    "    item = \"Apple\"\n",
    "elif item_num == 2:\n",
    "    item = \"Grape\"\n",
    "elif item_num == 3:\n",
    "    item = \"Melon\"\n",
    "elif item_num = 4:\n",
    "    item = \"Orange\"\n",
    "else:\n",
    "    print('Enter wrong number of item!!"
   ]
  },
  {
   "cell_type": "code",
   "execution_count": 2,
   "id": "8294954d",
   "metadata": {},
   "outputs": [
    {
     "name": "stdout",
     "output_type": "stream",
     "text": [
      "############################## \n",
      "This is David's fruit shop.\n",
      "1: Apple( price : 5000 won )\n",
      "2: Grape( price : 6000 won )\n",
      "3: Melon( price : 8000 won )\n",
      "4: orange( price : 2000 won )\n",
      "##############################\n",
      "Enter item number(beteween 1-4) : 1\n",
      "Enter amount of item(between 1-10) : 2\n",
      "Fruit selcted :  Apple\n",
      "Price :  5000\n",
      "Quantity :  2\n",
      "Total price :  10000 won\n",
      "Insert money please : 10000\n",
      "10000.0 won received. Your change is 0.0 won\n"
     ]
    }
   ],
   "source": [
    "\n",
    "print(\"#\"*30,\"\\nThis is David's fruit shop.\")\n",
    "print('1: Apple( price : 5000 won )')\n",
    "print('2: Grape( price : 6000 won )')\n",
    "print('3: Melon( price : 8000 won )')\n",
    "print('4: orange( price : 2000 won )')\n",
    "print('#'*30)\n",
    "\n",
    "item_num = int(input('Enter item number(beteween 1-4) : '))\n",
    "quantity = int(input('Enter amount of item(between 1-10) : '))\n",
    "\n",
    "if item_num == 1:\n",
    "    item = \"Apple\"\n",
    "    price=5000\n",
    "elif item_num == 2:\n",
    "    item = \"Grape\"\n",
    "    price=6000\n",
    "elif item_num == 3:\n",
    "    item = \"Melon\"\n",
    "    price=8000\n",
    "elif item_num == 4:\n",
    "    item = \"Orange\"\n",
    "    price=2000\n",
    "print('Fruit selcted : ',item)\n",
    "print('Price : ',price,)\n",
    "print('Quantity : ',quantity)\n",
    "total_price = price*quantity\n",
    "print('Total price : ',total_price,'won')\n",
    "\n",
    "customer_luy = float(input('Insert money please : '))\n",
    "print(customer_luy,'won received. Your change is',customer_luy-total_price,'won')\n",
    "\n",
    "    "
   ]
  },
  {
   "cell_type": "code",
   "execution_count": null,
   "id": "b46efb5a",
   "metadata": {},
   "outputs": [],
   "source": []
  }
 ],
 "metadata": {
  "kernelspec": {
   "display_name": "Python 3 (ipykernel)",
   "language": "python",
   "name": "python3"
  },
  "language_info": {
   "codemirror_mode": {
    "name": "ipython",
    "version": 3
   },
   "file_extension": ".py",
   "mimetype": "text/x-python",
   "name": "python",
   "nbconvert_exporter": "python",
   "pygments_lexer": "ipython3",
   "version": "3.11.7"
  }
 },
 "nbformat": 4,
 "nbformat_minor": 5
}
