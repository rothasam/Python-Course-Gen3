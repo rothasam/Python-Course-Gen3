{
 "cells": [
  {
   "cell_type": "code",
   "execution_count": 2,
   "id": "ddfc523a",
   "metadata": {},
   "outputs": [
    {
     "name": "stdout",
     "output_type": "stream",
     "text": [
      "Enter your name :  David\n",
      "Enter your height  :  170\n",
      "Enter your weight :  70\n",
      "David 's BMI is 24.221453287197235\n"
     ]
    }
   ],
   "source": [
    "name = input(\"Enter your name :  \")\n",
    "height_cm = int(input(\"Enter your height  :  \"))\n",
    "height_m = height_cm/100;\n",
    "weight = int(input(\"Enter your weight :  \"))\n",
    "bmi = weight/(height_m**2)\n",
    "print(name,\"'s BMI is\",bmi)"
   ]
  },
  {
   "cell_type": "code",
   "execution_count": 5,
   "id": "13e20a00",
   "metadata": {},
   "outputs": [
    {
     "name": "stdout",
     "output_type": "stream",
     "text": [
      "('David', 78.7)\n"
     ]
    },
    {
     "data": {
      "text/plain": [
       "tuple"
      ]
     },
     "execution_count": 5,
     "metadata": {},
     "output_type": "execute_result"
    }
   ],
   "source": [
    "person = ('David',78.7) \n",
    "print(person) \n",
    "type(person)"
   ]
  },
  {
   "cell_type": "code",
   "execution_count": 6,
   "id": "51df255b",
   "metadata": {},
   "outputs": [
    {
     "name": "stdout",
     "output_type": "stream",
     "text": [
      "The list of keyword :  ['False', 'None', 'True', 'and', 'as', 'assert', 'async', 'await', 'break', 'class', 'continue', 'def', 'del', 'elif', 'else', 'except', 'finally', 'for', 'from', 'global', 'if', 'import', 'in', 'is', 'lambda', 'nonlocal', 'not', 'or', 'pass', 'raise', 'return', 'try', 'while', 'with', 'yield']\n"
     ]
    }
   ],
   "source": [
    "import keyword\n",
    "print('The list of keyword : ',keyword.kwlist)"
   ]
  },
  {
   "cell_type": "code",
   "execution_count": 8,
   "id": "4c79c148",
   "metadata": {},
   "outputs": [
    {
     "name": "stdout",
     "output_type": "stream",
     "text": [
      "100 200\n",
      "300\n"
     ]
    }
   ],
   "source": [
    "x , y =100,200 # we called simultaneous assigment\n",
    "print(x,y)\n",
    "print(x+y)"
   ]
  },
  {
   "cell_type": "code",
   "execution_count": null,
   "id": "fa1d2e26",
   "metadata": {},
   "outputs": [],
   "source": []
  }
 ],
 "metadata": {
  "kernelspec": {
   "display_name": "Python 3 (ipykernel)",
   "language": "python",
   "name": "python3"
  },
  "language_info": {
   "codemirror_mode": {
    "name": "ipython",
    "version": 3
   },
   "file_extension": ".py",
   "mimetype": "text/x-python",
   "name": "python",
   "nbconvert_exporter": "python",
   "pygments_lexer": "ipython3",
   "version": "3.11.7"
  }
 },
 "nbformat": 4,
 "nbformat_minor": 5
}
