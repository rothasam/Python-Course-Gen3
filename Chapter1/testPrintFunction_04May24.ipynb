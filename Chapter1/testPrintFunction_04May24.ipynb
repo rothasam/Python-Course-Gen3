{
 "cells": [
  {
   "cell_type": "code",
   "execution_count": 2,
   "id": "ed0d13c1",
   "metadata": {},
   "outputs": [
    {
     "name": "stdout",
     "output_type": "stream",
     "text": [
      "Hello world\n",
      "10\n",
      "4.5\n",
      "5\n"
     ]
    }
   ],
   "source": [
    "# print() use to print output on the screen, or output the value inside()\n",
    "# print() is a build-in function\n",
    "\n",
    "print(\"Hello world\")  # letter between \"\" are called string (we can use both single and double quote)\n",
    "print(10)  # not a string but the value which we can caluclation\n",
    "print(4.5) # float number\n",
    "print('5') # string\n"
   ]
  },
  {
   "cell_type": "code",
   "execution_count": 7,
   "id": "486a8cd5",
   "metadata": {},
   "outputs": [
    {
     "name": "stdout",
     "output_type": "stream",
     "text": [
      "14.5\n",
      "102\n"
     ]
    }
   ],
   "source": [
    "print(10+4.5)    # calculate\n",
    "print(\"10\"+\"2\")  # concatenate or បូក string  # if we use string+number => errorp"
   ]
  },
  {
   "cell_type": "code",
   "execution_count": 20,
   "id": "24080747",
   "metadata": {},
   "outputs": [
    {
     "name": "stdout",
     "output_type": "stream",
     "text": [
      "hello\n",
      "world\n",
      "Hello\n",
      "world\n",
      "hey     \n",
      "guys\n",
      "hellopython\n"
     ]
    }
   ],
   "source": [
    "# print() automatically break the line after printing the value\n",
    "print(\"hello\")\n",
    "print(\"world\")\n",
    "print(\"Hello\\nworld\")  # we can use escape sequence(\\n) to break the line \n",
    "\n",
    "#another way to break line is to surround string with three single or double quote\n",
    "print('''hey     \n",
    "guys''')  \n",
    "print(\"\"\"hello\\\n",
    "python\"\"\")   # before the word hey if we \\ => the whole string won't be break into the new line"
   ]
  },
  {
   "cell_type": "code",
   "execution_count": 26,
   "id": "a3d34afb",
   "metadata": {},
   "outputs": [
    {
     "name": "stdout",
     "output_type": "stream",
     "text": [
      "he oll world\n",
      "this is number 20\n",
      "10 5\n"
     ]
    }
   ],
   "source": [
    "# use comma (,) to adding space between two or more value or string , or we use comma to combine string tgt\n",
    "print(\"he\",\"oll\",'world')\n",
    "print('this is number',20) # separate string and number\n",
    "print(10,5) # separate or adding space between two value"
   ]
  },
  {
   "cell_type": "code",
   "execution_count": 32,
   "id": "c512282d",
   "metadata": {},
   "outputs": [
    {
     "name": "stdout",
     "output_type": "stream",
     "text": [
      "helloworld\n",
      "13\n",
      "103\n"
     ]
    }
   ],
   "source": [
    "# addition (+) operator use to combine or add more than two string or value but it won't adding the space like comma\n",
    "print(\"hello\"+\"world\")\n",
    "print(10+3)\n",
    "print(\"10\"+\"3\") # print string 103  # if we add string + number TypeErroe will be occured "
   ]
  },
  {
   "cell_type": "code",
   "execution_count": 33,
   "id": "fec4c3e9",
   "metadata": {},
   "outputs": [
    {
     "name": "stdout",
     "output_type": "stream",
     "text": [
      "HeyHeyHeyHeyHey\n",
      "6\n"
     ]
    }
   ],
   "source": [
    "# multiplication (*) operator\n",
    "print('Hey'*5) # print 'Hey' 5 times\n",
    "print(3*2)  # multiply the value of 3 and 2 = 6\n",
    "# print('string'*'string')  => TypeError will occur"
   ]
  },
  {
   "cell_type": "code",
   "execution_count": 38,
   "id": "659e91a0",
   "metadata": {},
   "outputs": [
    {
     "name": "stdout",
     "output_type": "stream",
     "text": [
      "RothaSam\n",
      "Rotha,sam\n"
     ]
    }
   ],
   "source": [
    "# End and Split Parameter\n",
    "print('Rotha',end='')   # when program encounter print() line break occurs, however using \"end=\" so the line won't be break\n",
    "print('Sam')\n",
    "print('Rotha',end=',')  # print any string in single quote before output the second string\n",
    "print('sam')\n"
   ]
  },
  {
   "cell_type": "code",
   "execution_count": null,
   "id": "2ab772a4",
   "metadata": {},
   "outputs": [],
   "source": [
    "# as we known comma (,) use in print function to adding space between but if add sep at last => comma won't be print\n",
    "print('learning','python',sep='')\n",
    "print('learning','python',sep='-') # can print any string in single quote before the second string is about to print"
   ]
  },
  {
   "cell_type": "code",
   "execution_count": 47,
   "id": "69d45b0a",
   "metadata": {},
   "outputs": [
    {
     "name": "stdout",
     "output_type": "stream",
     "text": [
      "learningpython\n",
      "learning-python\n"
     ]
    }
   ],
   "source": [
    "# as we known comma (,) use in print function to adding space between but if add sep at last => comma won't be print\n",
    "print('learning','python',sep='')\n",
    "print('learning','python',sep='-') # can print any string in single quote before the second string is about to print"
   ]
  },
  {
   "cell_type": "code",
   "execution_count": 51,
   "id": "676093d7",
   "metadata": {},
   "outputs": [
    {
     "name": "stdout",
     "output_type": "stream",
     "text": [
      "Coding with Pythno is fun\n"
     ]
    }
   ],
   "source": [
    "print('Coding','with','Pythno','is fun',sep=' ') # after sep we can use space to separate string"
   ]
  },
  {
   "cell_type": "code",
   "execution_count": 53,
   "id": "d1467f9b",
   "metadata": {},
   "outputs": [
    {
     "name": "stdout",
     "output_type": "stream",
     "text": [
      "HelloI will introduce myself\n",
      "Name: David Doe\n",
      "Age: 23\n",
      "Job : Data Scientist\n",
      "Address: Seoul, South Korea\n",
      "Place of Birth: Southern Califonia, USA\n",
      "****************************************\n",
      "----------------------------------------\n"
     ]
    }
   ],
   "source": [
    "# Practice\n",
    "print('Hello'+'I will introduce myself'+'''\n",
    "Name: David Doe''')\n",
    "print('Age: '+\"23\")\n",
    "print('Job','Data Scientist',sep=' : ')\n",
    "print('Address: Seoul, South Korea\\n'+'Place of Birth:', end='')\n",
    "print(' Southern Califonia, USA')\n",
    "print('*'*40)\n",
    "print('-'*40)"
   ]
  },
  {
   "cell_type": "code",
   "execution_count": 2,
   "id": "5eef2dc9",
   "metadata": {},
   "outputs": [
    {
     "name": "stdout",
     "output_type": "stream",
     "text": [
      "20\n",
      "20\n"
     ]
    },
    {
     "data": {
      "text/plain": [
       "\" if width == 0 and height == 0 and color == 'red' and     emphasis == 'strong' or highlight > 100:\\n    print('sorry, you lose')\\n\""
      ]
     },
     "execution_count": 2,
     "metadata": {},
     "output_type": "execute_result"
    }
   ],
   "source": [
    "# python allow us to write multiple line sentence in one line using semicolon ( difficult to read)\n",
    "a=10; a+=10; print(a)    #Bad case \n",
    "\n",
    "# Try above to better wring and readable  (Good case)\n",
    "a=10\n",
    "a+=10\n",
    "print(a)\n",
    "\n",
    "# if we write too long sentence try using backslash(\\) to add a line\n",
    "''' if width == 0 and height == 0 and color == 'red' and \\\n",
    "    emphasis == 'strong' or highlight > 100:\n",
    "    print('sorry, you lose')\n",
    "'''\n"
   ]
  },
  {
   "cell_type": "code",
   "execution_count": null,
   "id": "fcfff6db",
   "metadata": {},
   "outputs": [],
   "source": []
  }
 ],
 "metadata": {
  "kernelspec": {
   "display_name": "Python 3 (ipykernel)",
   "language": "python",
   "name": "python3"
  },
  "language_info": {
   "codemirror_mode": {
    "name": "ipython",
    "version": 3
   },
   "file_extension": ".py",
   "mimetype": "text/x-python",
   "name": "python",
   "nbconvert_exporter": "python",
   "pygments_lexer": "ipython3",
   "version": "3.11.7"
  }
 },
 "nbformat": 4,
 "nbformat_minor": 5
}
