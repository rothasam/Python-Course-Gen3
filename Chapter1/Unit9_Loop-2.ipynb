{
 "cells": [
  {
   "cell_type": "markdown",
   "id": "5bff56e9",
   "metadata": {},
   "source": [
    "# While loop "
   ]
  },
  {
   "cell_type": "code",
   "execution_count": 1,
   "id": "a22b87f2",
   "metadata": {},
   "outputs": [
    {
     "name": "stdout",
     "output_type": "stream",
     "text": [
      "Welcome to python class\n",
      "Welcome to python class\n",
      "Welcome to python class\n",
      "Welcome to python class\n",
      "Welcome to python class\n"
     ]
    }
   ],
   "source": [
    "i=0\n",
    "while i<5:\n",
    "    print('Welcome to python class')\n",
    "    i=i+1"
   ]
  },
  {
   "cell_type": "markdown",
   "id": "f79cb7b6",
   "metadata": {},
   "source": [
    "# A program to find the sum of value up to the input value"
   ]
  },
  {
   "cell_type": "code",
   "execution_count": 2,
   "id": "7c4fe524",
   "metadata": {},
   "outputs": [
    {
     "name": "stdout",
     "output_type": "stream",
     "text": [
      "Enter the number as an integer : 4\n",
      "The sum of value =  10\n"
     ]
    }
   ],
   "source": [
    "n = int(input('Enter the number as an integer : '))\n",
    "sum = 0\n",
    "i = 1\n",
    "while i<= n:\n",
    "    sum += i\n",
    "    i += 1\n",
    "print('The sum of value = ',sum)\n",
    "    "
   ]
  },
  {
   "cell_type": "markdown",
   "id": "923433c5",
   "metadata": {},
   "source": [
    "# 1.5. While loop and input condition"
   ]
  },
  {
   "cell_type": "code",
   "execution_count": null,
   "id": "25f7557e",
   "metadata": {},
   "outputs": [
    {
     "name": "stdout",
     "output_type": "stream",
     "text": [
      "Please choose : scissor , rock , paper > paper\n",
      "Please choose : scissor , rock , paper > apple\n",
      "Please choose : scissor , rock , paper > book\n"
     ]
    }
   ],
   "source": [
    "selected  = None\n",
    "while selected not in ['scissor','rock','paper']:\n",
    "    selectetd = input('Please choose : scissor , rock , paper > ')\n",
    "print('The choose value : ',selected)"
   ]
  },
  {
   "cell_type": "code",
   "execution_count": 1,
   "id": "2f220dd4",
   "metadata": {},
   "outputs": [
    {
     "name": "stdout",
     "output_type": "stream",
     "text": [
      "Enter the number : 4\n",
      "The total =  10\n"
     ]
    }
   ],
   "source": [
    "n = int(input('Enter the number : '))\n",
    "sum = 0\n",
    "for i in range(1,n+1):\n",
    "    sum = sum + i\n",
    "print('The total = ',sum)"
   ]
  },
  {
   "cell_type": "code",
   "execution_count": 6,
   "id": "13f4b65e",
   "metadata": {},
   "outputs": [
    {
     "name": "stdout",
     "output_type": "stream",
     "text": [
      "Enter a number to sum up to : 4\n",
      "Sum of 1 to 4 is 10\n"
     ]
    }
   ],
   "source": [
    "n = -1  #initialize n equal negative number so that the while condition will execute which allow user to input value of n>0\n",
    "s = 0\n",
    "while n<=0:\n",
    "    n = int(input('Enter a number to sum up to : '))\n",
    "    \n",
    "for i in range(1,n+1):\n",
    "    s = s+i\n",
    "    \n",
    "print('Sum of 1 to {} is {}'.format(n,s))"
   ]
  },
  {
   "cell_type": "markdown",
   "id": "368d4e5c",
   "metadata": {},
   "source": [
    "# 2.3.Functions included in random module"
   ]
  },
  {
   "cell_type": "code",
   "execution_count": 13,
   "id": "235b5500",
   "metadata": {},
   "outputs": [
    {
     "name": "stdout",
     "output_type": "stream",
     "text": [
      "0.7230962133309236\n",
      "3\n",
      "1\n"
     ]
    }
   ],
   "source": [
    "import random as rd  \n",
    "\n",
    "print(rd.random())    # random number between 0-1\n",
    "print(rd.randrange(1,7)) #random 1,2,3,4,5,,6,7\n",
    "print(rd.randrange(1,10,2)) #random 1,3,5,7,9\n"
   ]
  },
  {
   "cell_type": "code",
   "execution_count": 19,
   "id": "7e39f4b7",
   "metadata": {},
   "outputs": [
    {
     "name": "stdout",
     "output_type": "stream",
     "text": [
      "['black', 'red', 'blue', 'green']\n"
     ]
    }
   ],
   "source": [
    "import random as rd\n",
    "\n",
    "color_list = ['red','black','blue','green']  \n",
    "rd.shuffle(color_list) # mixing value in list of color_list\n",
    "print(color_list)"
   ]
  },
  {
   "cell_type": "code",
   "execution_count": 21,
   "id": "9de399a8",
   "metadata": {},
   "outputs": [
    {
     "name": "stdout",
     "output_type": "stream",
     "text": [
      "['p', 'e', 'p', 'A', 'l']\n"
     ]
    }
   ],
   "source": [
    "import random as rd\n",
    "string = 'Apple'\n",
    "stringList = list(string)\n",
    "rd.shuffle(stringList)\n",
    "print(stringList)\n"
   ]
  },
  {
   "cell_type": "code",
   "execution_count": 28,
   "id": "d553d79c",
   "metadata": {},
   "outputs": [
    {
     "name": "stdout",
     "output_type": "stream",
     "text": [
      "[36, 67, 5, 3, 60]\n"
     ]
    }
   ],
   "source": [
    "a = list(range(1,100))\n",
    "b = rd.sample(a,5)  # random and selected 5 specific number in a\n",
    "print(b)"
   ]
  },
  {
   "cell_type": "markdown",
   "id": "154f8ed6",
   "metadata": {},
   "source": [
    "# 3. break and continue"
   ]
  },
  {
   "cell_type": "markdown",
   "id": "310c34b4",
   "metadata": {},
   "source": [
    "# 3.3. break statement example"
   ]
  },
  {
   "cell_type": "code",
   "execution_count": 34,
   "id": "35fac9b4",
   "metadata": {},
   "outputs": [
    {
     "name": "stdout",
     "output_type": "stream",
     "text": [
      "p\n",
      "r\n",
      "The end\n"
     ]
    }
   ],
   "source": [
    "st = 'programming'\n",
    "for ch in st:\n",
    "    if ch in ['a','e', 'i','o','u']: \n",
    "        break  # break execute (end the program ) unless ch match the letter in list \n",
    "    print(ch)\n",
    "print('The end')"
   ]
  },
  {
   "cell_type": "code",
   "execution_count": 31,
   "id": "88f968ea",
   "metadata": {},
   "outputs": [
    {
     "name": "stdout",
     "output_type": "stream",
     "text": [
      "p\n",
      "r\n",
      "g\n",
      "r\n",
      "m\n",
      "m\n",
      "n\n",
      "g\n",
      "The end\n"
     ]
    }
   ],
   "source": [
    "st = \"programming\"\n",
    "for ch in st :\n",
    "    if ch in ['a', 'e', 'i','o','u'] : \n",
    "        continue\n",
    "    print(ch)\n",
    "print('The end')"
   ]
  },
  {
   "cell_type": "code",
   "execution_count": 36,
   "id": "eb2822d3",
   "metadata": {},
   "outputs": [
    {
     "name": "stdout",
     "output_type": "stream",
     "text": [
      "2 * 1 = 2\n",
      "2 * 2 = 4\n",
      "2 * 3 = 6\n",
      "2 * 4 = 8\n",
      "2 * 5 = 10\n",
      "2 * 6 = 12\n",
      "2 * 7 = 14\n",
      "2 * 8 = 16\n",
      "2 * 9 = 18\n"
     ]
    }
   ],
   "source": [
    "n = 1\n",
    "while n<=9:\n",
    "    print('{} * {}'.format(2,n),'=',2*n)\n",
    "    n+=1"
   ]
  },
  {
   "cell_type": "code",
   "execution_count": 2,
   "id": "f9b3403a",
   "metadata": {},
   "outputs": [
    {
     "name": "stdout",
     "output_type": "stream",
     "text": [
      "1 * 1  = 1\n",
      "1 * 2  = 2\n",
      "1 * 3  = 3\n",
      "1 * 4  = 4\n",
      "1 * 5  = 5\n",
      "1 * 6  = 6\n",
      "1 * 7  = 7\n",
      "1 * 8  = 8\n",
      "1 * 9  = 9\n",
      "2 * 1  = 2\n",
      "2 * 2  = 4\n",
      "2 * 3  = 6\n",
      "2 * 4  = 8\n",
      "2 * 5  = 10\n",
      "2 * 6  = 12\n",
      "2 * 7  = 14\n",
      "2 * 8  = 16\n",
      "2 * 9  = 18\n",
      "3 * 1  = 3\n",
      "3 * 2  = 6\n",
      "3 * 3  = 9\n",
      "3 * 4  = 12\n",
      "3 * 5  = 15\n",
      "3 * 6  = 18\n",
      "3 * 7  = 21\n",
      "3 * 8  = 24\n",
      "3 * 9  = 27\n",
      "4 * 1  = 4\n",
      "4 * 2  = 8\n",
      "4 * 3  = 12\n",
      "4 * 4  = 16\n",
      "4 * 5  = 20\n",
      "4 * 6  = 24\n",
      "4 * 7  = 28\n",
      "4 * 8  = 32\n",
      "4 * 9  = 36\n",
      "5 * 1  = 5\n",
      "5 * 2  = 10\n",
      "5 * 3  = 15\n",
      "5 * 4  = 20\n",
      "5 * 5  = 25\n",
      "5 * 6  = 30\n",
      "5 * 7  = 35\n",
      "5 * 8  = 40\n",
      "5 * 9  = 45\n",
      "6 * 1  = 6\n",
      "6 * 2  = 12\n",
      "6 * 3  = 18\n",
      "6 * 4  = 24\n",
      "6 * 5  = 30\n",
      "6 * 6  = 36\n",
      "6 * 7  = 42\n",
      "6 * 8  = 48\n",
      "6 * 9  = 54\n",
      "7 * 1  = 7\n",
      "7 * 2  = 14\n",
      "7 * 3  = 21\n",
      "7 * 4  = 28\n",
      "7 * 5  = 35\n",
      "7 * 6  = 42\n",
      "7 * 7  = 49\n",
      "7 * 8  = 56\n",
      "7 * 9  = 63\n",
      "8 * 1  = 8\n",
      "8 * 2  = 16\n",
      "8 * 3  = 24\n",
      "8 * 4  = 32\n",
      "8 * 5  = 40\n",
      "8 * 6  = 48\n",
      "8 * 7  = 56\n",
      "8 * 8  = 64\n",
      "8 * 9  = 72\n",
      "9 * 1  = 9\n",
      "9 * 2  = 18\n",
      "9 * 3  = 27\n",
      "9 * 4  = 36\n",
      "9 * 5  = 45\n",
      "9 * 6  = 54\n",
      "9 * 7  = 63\n",
      "9 * 8  = 72\n",
      "9 * 9  = 81\n"
     ]
    }
   ],
   "source": [
    "num = 1\n",
    "\n",
    "while num<=9:\n",
    "    operand = 1\n",
    "    while operand<=9:\n",
    "        print('{} * {} '.format(num,operand),'=',operand*num)\n",
    "        operand+=1\n",
    "    num+=1"
   ]
  },
  {
   "cell_type": "code",
   "execution_count": null,
   "id": "66d578e2",
   "metadata": {},
   "outputs": [],
   "source": []
  }
 ],
 "metadata": {
  "kernelspec": {
   "display_name": "Python 3 (ipykernel)",
   "language": "python",
   "name": "python3"
  },
  "language_info": {
   "codemirror_mode": {
    "name": "ipython",
    "version": 3
   },
   "file_extension": ".py",
   "mimetype": "text/x-python",
   "name": "python",
   "nbconvert_exporter": "python",
   "pygments_lexer": "ipython3",
   "version": "3.11.7"
  }
 },
 "nbformat": 4,
 "nbformat_minor": 5
}
