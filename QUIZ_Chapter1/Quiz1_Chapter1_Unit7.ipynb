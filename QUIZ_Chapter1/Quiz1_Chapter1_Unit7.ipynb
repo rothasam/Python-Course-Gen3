{
 "cells": [
  {
   "cell_type": "code",
   "execution_count": 1,
   "id": "1556c97e",
   "metadata": {},
   "outputs": [
    {
     "name": "stdout",
     "output_type": "stream",
     "text": [
      "1.Additon\t 2.Subtraction\t 3.Multiplication\t 4.Division\n",
      "\n",
      "Enter the desire number of operation (1-4) : 5\n",
      "\n",
      "Let's enter two operand : \n",
      "\n",
      "Entered an incorrect number!!!\n"
     ]
    }
   ],
   "source": [
    "print(\"1.Additon\\t 2.Subtraction\\t 3.Multiplication\\t 4.Division\")\n",
    "operator = int(input(\"\\nEnter the desire number of operation (1-4) : \"))\n",
    "\n",
    "if operator == 1:\n",
    "    print(\"\\nLet's enter two operand : \\n\")\n",
    "    num1 = int(input(\"->Enter operand1 = \"))\n",
    "    num2 = int(input(\"->Enter operand2 = \"))\n",
    "    print(num1,\" + \",num2,\" = \",num1+num2)\n",
    "elif operator == 2:\n",
    "    print(\"\\nLet's enter two operand : \\n\")\n",
    "    num1 = int(input(\"->Enter operand1 = \"))\n",
    "    num2 = int(input(\"->Enter operand2 = \"))\n",
    "    print(num1,\" - \",num2,\" = \",num1-num2)\n",
    "elif operator == 3:\n",
    "    print(\"\\nLet's enter two operand : \\n\")\n",
    "    num1 = int(input(\"->Enter operand1 = \"))\n",
    "    num2 = int(input(\"->Enter operand2 = \"))\n",
    "    print(num1,\" * \",num2,\" = \",num1*num2)\n",
    "elif operator == 4:\n",
    "    print(\"\\nLet's enter two operand : \\n\")\n",
    "    num1 = int(input(\"->Enter operand1 = \"))\n",
    "    num2 = int(input(\"->Enter operand2 = \"))\n",
    "    print(num1,\" / \",num2,\" = \",num1/num2)\n",
    "else:\n",
    "    print(\"Entered an incorrect number!!!\")\n",
    "    \n",
    "\n",
    "\n",
    "\n",
    "    \n"
   ]
  },
  {
   "cell_type": "code",
   "execution_count": null,
   "id": "239bd978",
   "metadata": {},
   "outputs": [],
   "source": []
  },
  {
   "cell_type": "code",
   "execution_count": null,
   "id": "2aab0110",
   "metadata": {},
   "outputs": [],
   "source": []
  }
 ],
 "metadata": {
  "kernelspec": {
   "display_name": "Python 3 (ipykernel)",
   "language": "python",
   "name": "python3"
  },
  "language_info": {
   "codemirror_mode": {
    "name": "ipython",
    "version": 3
   },
   "file_extension": ".py",
   "mimetype": "text/x-python",
   "name": "python",
   "nbconvert_exporter": "python",
   "pygments_lexer": "ipython3",
   "version": "3.11.7"
  }
 },
 "nbformat": 4,
 "nbformat_minor": 5
}
