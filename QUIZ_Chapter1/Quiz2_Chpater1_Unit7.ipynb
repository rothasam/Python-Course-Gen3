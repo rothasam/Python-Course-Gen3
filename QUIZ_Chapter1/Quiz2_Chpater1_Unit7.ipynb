{
 "cells": [
  {
   "cell_type": "code",
   "execution_count": 1,
   "id": "d3b3f0e5",
   "metadata": {},
   "outputs": [
    {
     "name": "stdout",
     "output_type": "stream",
     "text": [
      "Enter x : -6\n",
      "Enter y : 6\n",
      "In the 2 quadrant\n"
     ]
    }
   ],
   "source": [
    "x = int(input(\"Enter x : \"))\n",
    "y = int(input(\"Enter y : \"))\n",
    "\n",
    "if x>0 and y>0:\n",
    "    print(\"In the fir1st quadrant\")\n",
    "elif x<0 and y>0 : \n",
    "    print(\"In the 2 quadrant\")\n",
    "elif x<0 and y<0:\n",
    "    print(\"In the 3 quadrant\")\n",
    "elif x>0 and y<0:\n",
    "    print(\"In the 4 quadrant\")"
   ]
  },
  {
   "cell_type": "code",
   "execution_count": null,
   "id": "40c15afa",
   "metadata": {},
   "outputs": [],
   "source": []
  }
 ],
 "metadata": {
  "kernelspec": {
   "display_name": "Python 3 (ipykernel)",
   "language": "python",
   "name": "python3"
  },
  "language_info": {
   "codemirror_mode": {
    "name": "ipython",
    "version": 3
   },
   "file_extension": ".py",
   "mimetype": "text/x-python",
   "name": "python",
   "nbconvert_exporter": "python",
   "pygments_lexer": "ipython3",
   "version": "3.11.7"
  }
 },
 "nbformat": 4,
 "nbformat_minor": 5
}
