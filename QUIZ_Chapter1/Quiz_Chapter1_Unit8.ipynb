{
 "cells": [
  {
   "cell_type": "markdown",
   "id": "e8c1b79f",
   "metadata": {},
   "source": [
    "# Quiz 01:Agency A is planning to issue tickets of a concert hall for idol singers' concert. Here, the number n is the input and the seat number is arranged as follows. n * n seats are placed when n is given as input. The below arrangement of the seat numbers is called a snake matrix because the array increases in ones in the shape of a snake’s trunk. Write a program that produces arrays of these numbers."
   ]
  },
  {
   "cell_type": "code",
   "execution_count": 3,
   "id": "6c982a44",
   "metadata": {},
   "outputs": [
    {
     "name": "stdout",
     "output_type": "stream",
     "text": [
      "Enter n : 6\n",
      "1 2 3 4 5 6 \n",
      "12 11 10 9 8 7 \n",
      "13 14 15 16 17 18 \n",
      "24 23 22 21 20 19 \n",
      "25 26 27 28 29 30 \n",
      "36 35 34 33 32 31 \n"
     ]
    }
   ],
   "source": [
    "n = int(input('Enter n : '))\n",
    "matrix = [[0 for _ in range(n)] for _ in range(n)]\n",
    "num = 1\n",
    "for i in range(n):\n",
    "    if i % 2 == 0:\n",
    "        for j in range(n):\n",
    "            matrix[i][j] = num\n",
    "            num += 1\n",
    "    else:\n",
    "        for j in range(n-1, -1, -1):\n",
    "            matrix[i][j] = num\n",
    "            num += 1\n",
    "for i in range(n):\n",
    "    for j in range(n):\n",
    "        print(matrix[i][j], end=' ')\n",
    "    print()"
   ]
  },
  {
   "cell_type": "code",
   "execution_count": null,
   "id": "a1d8ec2a",
   "metadata": {},
   "outputs": [],
   "source": []
  }
 ],
 "metadata": {
  "kernelspec": {
   "display_name": "Python 3 (ipykernel)",
   "language": "python",
   "name": "python3"
  },
  "language_info": {
   "codemirror_mode": {
    "name": "ipython",
    "version": 3
   },
   "file_extension": ".py",
   "mimetype": "text/x-python",
   "name": "python",
   "nbconvert_exporter": "python",
   "pygments_lexer": "ipython3",
   "version": "3.11.7"
  }
 },
 "nbformat": 4,
 "nbformat_minor": 5
}
