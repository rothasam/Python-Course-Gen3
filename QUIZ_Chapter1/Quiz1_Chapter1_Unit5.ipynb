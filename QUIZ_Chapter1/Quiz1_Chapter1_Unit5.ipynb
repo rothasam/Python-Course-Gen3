{
 "cells": [
  {
   "cell_type": "code",
   "execution_count": 18,
   "id": "373ea9b4",
   "metadata": {},
   "outputs": [
    {
     "name": "stdout",
     "output_type": "stream",
     "text": [
      "Enter a 3-digit integer:002\n",
      "False\n"
     ]
    }
   ],
   "source": [
    "#Quiz1 : Receive a 3-digit integer from the user. If the hundredth digit of the integer n is 3, return True. If not, return False.\n",
    "\n",
    "try: \n",
    "    n = int(input(\"Enter a 3-digit integer:\"))\n",
    "    if n>=100 and n<=999: #if n>=int('001') and n<=999:\n",
    "        print(n//100==3)\n",
    "    else:\n",
    "        print('\\nError!! You must enter only 3-digit.')\n",
    "    \n",
    "except:\n",
    "    print('\\nThe value is not a number!!!')"
   ]
  },
  {
   "cell_type": "code",
   "execution_count": null,
   "id": "0e7b8137",
   "metadata": {},
   "outputs": [],
   "source": []
  },
  {
   "cell_type": "code",
   "execution_count": null,
   "id": "81231500",
   "metadata": {},
   "outputs": [],
   "source": []
  }
 ],
 "metadata": {
  "kernelspec": {
   "display_name": "Python 3 (ipykernel)",
   "language": "python",
   "name": "python3"
  },
  "language_info": {
   "codemirror_mode": {
    "name": "ipython",
    "version": 3
   },
   "file_extension": ".py",
   "mimetype": "text/x-python",
   "name": "python",
   "nbconvert_exporter": "python",
   "pygments_lexer": "ipython3",
   "version": "3.11.7"
  }
 },
 "nbformat": 4,
 "nbformat_minor": 5
}
