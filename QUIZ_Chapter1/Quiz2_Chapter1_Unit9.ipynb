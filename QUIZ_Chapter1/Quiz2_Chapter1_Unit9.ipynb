{
 "cells": [
  {
   "cell_type": "markdown",
   "id": "1f592709",
   "metadata": {},
   "source": [
    "# Q2:The computer has a random integer between 1 and 100 as the correct answer value as following. When the user presents the correct answer, the program only informs whether the presented integer is higher or lower compared to the correct answer he or she stored. This game is repeated until the user answers correctly."
   ]
  },
  {
   "cell_type": "code",
   "execution_count": 1,
   "id": "dc6c3d18",
   "metadata": {},
   "outputs": [
    {
     "name": "stdout",
     "output_type": "stream",
     "text": [
      "Enter a nubmer : 22\n",
      "Lower !\n",
      "Enter a nubmer : 21\n",
      "Lower !\n",
      "Enter a nubmer : 19\n",
      "Lower !\n",
      "Enter a nubmer : 16\n",
      "Lower !\n",
      "Enter a nubmer : 12\n",
      "Lower !\n",
      "Enter a nubmer : 11\n",
      "Lower !\n",
      "Enter a nubmer : 56\n",
      "Lower !\n",
      "Enter a nubmer : 78\n",
      "Lower !\n",
      "Enter a nubmer : 99\n",
      "Higher !\n",
      "Enter a nubmer : 78\n",
      "Lower !\n",
      "Enter a nubmer : 88\n",
      "Lower !\n",
      "Enter a nubmer : 89\n",
      "Lower !\n",
      "Enter a nubmer : 91\n",
      "Lower !\n",
      "Enter a nubmer : 93\n",
      "Lower !\n",
      "Enter a nubmer : 94\n",
      "Lower !\n",
      "Enter a nubmer : 95\n",
      "Congratulations. Total try  16\n"
     ]
    }
   ],
   "source": [
    "import random\n",
    "random_num = random.randint(1,100)\n",
    "total_try = 0\n",
    "while True:\n",
    "    user_input = int(input('Enter a nubmer : '))\n",
    "    total_try+=1\n",
    "    if user_input == random_num:\n",
    "        print('Congratulations. Total try ',total_try)\n",
    "        break\n",
    "    elif user_input < random_num :\n",
    "        print('Lower !')\n",
    "    else:\n",
    "        print('Higher !')\n",
    "        "
   ]
  },
  {
   "cell_type": "markdown",
   "id": "b0ddae0c",
   "metadata": {},
   "source": []
  }
 ],
 "metadata": {
  "kernelspec": {
   "display_name": "Python 3 (ipykernel)",
   "language": "python",
   "name": "python3"
  },
  "language_info": {
   "codemirror_mode": {
    "name": "ipython",
    "version": 3
   },
   "file_extension": ".py",
   "mimetype": "text/x-python",
   "name": "python",
   "nbconvert_exporter": "python",
   "pygments_lexer": "ipython3",
   "version": "3.11.7"
  }
 },
 "nbformat": 4,
 "nbformat_minor": 5
}
