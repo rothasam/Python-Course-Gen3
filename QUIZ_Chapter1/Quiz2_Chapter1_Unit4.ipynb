{
 "cells": [
  {
   "cell_type": "code",
   "execution_count": 1,
   "id": "fb7d1a1e",
   "metadata": {},
   "outputs": [
    {
     "name": "stdout",
     "output_type": "stream",
     "text": [
      "2 \t 2 \t 4\n",
      "3 \t 2 \t 9\n",
      "4 \t 2 \t 16\n",
      "5 \t 2 \t 25\n",
      "6 \t 2 \t 36\n"
     ]
    }
   ],
   "source": [
    "#Quiz2 : display the square value from 2 to 6\n",
    "a = n = 2\n",
    "print(a,\"\\t\",n,\"\\t\",a**n)\n",
    "a+=1\n",
    "print(a,\"\\t\",n,\"\\t\",a**n)\n",
    "a+=1\n",
    "print(a,\"\\t\",n,\"\\t\",a**n)\n",
    "a+=1\n",
    "print(a,\"\\t\",n,\"\\t\",a**n)\n",
    "a+=1\n",
    "print(a,\"\\t\",n,\"\\t\",a**n)"
   ]
  },
  {
   "cell_type": "code",
   "execution_count": null,
   "id": "59b08e4f",
   "metadata": {},
   "outputs": [],
   "source": []
  }
 ],
 "metadata": {
  "kernelspec": {
   "display_name": "Python 3 (ipykernel)",
   "language": "python",
   "name": "python3"
  },
  "language_info": {
   "codemirror_mode": {
    "name": "ipython",
    "version": 3
   },
   "file_extension": ".py",
   "mimetype": "text/x-python",
   "name": "python",
   "nbconvert_exporter": "python",
   "pygments_lexer": "ipython3",
   "version": "3.11.7"
  }
 },
 "nbformat": 4,
 "nbformat_minor": 5
}
