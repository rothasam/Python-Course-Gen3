{
 "cells": [
  {
   "cell_type": "code",
   "execution_count": 10,
   "id": "9739a0b8",
   "metadata": {},
   "outputs": [
    {
     "name": "stdout",
     "output_type": "stream",
     "text": [
      "Enter an integer : 125\n",
      "True\n"
     ]
    }
   ],
   "source": [
    "#Quiz2 : Receive one integer. If the integer is a multiple of 5, return True. If not, return False.\n",
    "\n",
    "try:\n",
    "    n = int(input('Enter an integer : '))\n",
    "    print(n%5==0)\n",
    "except:\n",
    "    print('Please enter an integer!!!')"
   ]
  },
  {
   "cell_type": "code",
   "execution_count": null,
   "id": "60a91821",
   "metadata": {},
   "outputs": [],
   "source": []
  }
 ],
 "metadata": {
  "kernelspec": {
   "display_name": "Python 3 (ipykernel)",
   "language": "python",
   "name": "python3"
  },
  "language_info": {
   "codemirror_mode": {
    "name": "ipython",
    "version": 3
   },
   "file_extension": ".py",
   "mimetype": "text/x-python",
   "name": "python",
   "nbconvert_exporter": "python",
   "pygments_lexer": "ipython3",
   "version": "3.11.7"
  }
 },
 "nbformat": 4,
 "nbformat_minor": 5
}
