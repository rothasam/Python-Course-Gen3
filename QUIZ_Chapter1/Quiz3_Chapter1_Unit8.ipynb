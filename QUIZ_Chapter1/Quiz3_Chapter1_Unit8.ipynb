{
 "cells": [
  {
   "cell_type": "code",
   "execution_count": 2,
   "id": "96c23f54",
   "metadata": {},
   "outputs": [
    {
     "name": "stdout",
     "output_type": "stream",
     "text": [
      "Sum of even numbers from 1 to 100 :  2500\n"
     ]
    }
   ],
   "source": [
    "sum = 0\n",
    "for i in range(1,100,2):\n",
    "    sum+=i\n",
    "print(\"Sum of even numbers from 1 to 100 : \",sum)"
   ]
  },
  {
   "cell_type": "code",
   "execution_count": null,
   "id": "2943cf68",
   "metadata": {},
   "outputs": [],
   "source": []
  }
 ],
 "metadata": {
  "kernelspec": {
   "display_name": "Python 3 (ipykernel)",
   "language": "python",
   "name": "python3"
  },
  "language_info": {
   "codemirror_mode": {
    "name": "ipython",
    "version": 3
   },
   "file_extension": ".py",
   "mimetype": "text/x-python",
   "name": "python",
   "nbconvert_exporter": "python",
   "pygments_lexer": "ipython3",
   "version": "3.11.7"
  }
 },
 "nbformat": 4,
 "nbformat_minor": 5
}
