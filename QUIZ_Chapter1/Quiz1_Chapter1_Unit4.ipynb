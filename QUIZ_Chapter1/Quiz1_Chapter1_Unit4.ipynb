{
 "cells": [
  {
   "cell_type": "code",
   "execution_count": 16,
   "id": "eb0a543c",
   "metadata": {},
   "outputs": [
    {
     "name": "stdout",
     "output_type": "stream",
     "text": [
      "Enter value of radius : 11\n",
      "\n",
      "Circumference of a circle =  69.115024\n",
      "\n",
      "Area of a circle =  380.13263200000006\n"
     ]
    }
   ],
   "source": [
    "#Quiz1 : print the circumference and area of a circle\n",
    "\n",
    "PI = 3.141592\n",
    "\n",
    "try:\n",
    "    radius = float(input(\"Enter value of radius : \"))\n",
    "    circumference = 2*PI*radius\n",
    "    area = PI*radius*radius\n",
    "    print(\"\\nCircumference of a circle = \",circumference)\n",
    "    print(\"\\nArea of a circle = \",area)\n",
    "except:\n",
    "    print(\"\\nThe radius you entered is not a number!!!\")\n",
    "    "
   ]
  },
  {
   "cell_type": "code",
   "execution_count": null,
   "id": "70b82b7b",
   "metadata": {},
   "outputs": [],
   "source": []
  },
  {
   "cell_type": "code",
   "execution_count": null,
   "id": "7d80ab69",
   "metadata": {},
   "outputs": [],
   "source": []
  }
 ],
 "metadata": {
  "kernelspec": {
   "display_name": "Python 3 (ipykernel)",
   "language": "python",
   "name": "python3"
  },
  "language_info": {
   "codemirror_mode": {
    "name": "ipython",
    "version": 3
   },
   "file_extension": ".py",
   "mimetype": "text/x-python",
   "name": "python",
   "nbconvert_exporter": "python",
   "pygments_lexer": "ipython3",
   "version": "3.11.7"
  }
 },
 "nbformat": 4,
 "nbformat_minor": 5
}
