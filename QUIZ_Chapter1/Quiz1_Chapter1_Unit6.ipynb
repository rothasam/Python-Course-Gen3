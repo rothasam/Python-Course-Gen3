{
 "cells": [
  {
   "cell_type": "code",
   "execution_count": 5,
   "id": "8566da73",
   "metadata": {},
   "outputs": [
    {
     "name": "stdout",
     "output_type": "stream",
     "text": [
      "Enter age : 45\n",
      "Adult\n"
     ]
    }
   ],
   "source": [
    "age = int(input('Enter age : '))\n",
    "if age>=20:\n",
    "    print('Adult')\n",
    "elif age<20 and age>=10:\n",
    "    print('Youth')\n",
    "elif age<10 and age>=0:\n",
    "    print('Kid')"
   ]
  },
  {
   "cell_type": "code",
   "execution_count": null,
   "id": "d6ac6a31",
   "metadata": {},
   "outputs": [],
   "source": []
  }
 ],
 "metadata": {
  "kernelspec": {
   "display_name": "Python 3 (ipykernel)",
   "language": "python",
   "name": "python3"
  },
  "language_info": {
   "codemirror_mode": {
    "name": "ipython",
    "version": 3
   },
   "file_extension": ".py",
   "mimetype": "text/x-python",
   "name": "python",
   "nbconvert_exporter": "python",
   "pygments_lexer": "ipython3",
   "version": "3.11.7"
  }
 },
 "nbformat": 4,
 "nbformat_minor": 5
}
