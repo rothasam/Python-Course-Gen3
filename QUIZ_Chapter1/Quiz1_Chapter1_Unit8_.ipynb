{
 "cells": [
  {
   "cell_type": "markdown",
   "id": "bc200769",
   "metadata": {},
   "source": [
    "# Quiz 01:Agency A is planning to issue tickets of a concert hall for idol singers' concert. Here, the number n is the input and the seat number is arranged as follows. n * n seats are placed when n is given as input. The below arrangement of the seat numbers is called a snake matrix because the array increases in ones in the shape of a snake’s trunk. Write a program that produces arrays of these numbers."
   ]
  },
  {
   "cell_type": "code",
   "execution_count": null,
   "id": "88999cfa",
   "metadata": {},
   "outputs": [],
   "source": [
    "n = int(input(\"Enter n : \"))\n",
    "seat = n*n\n",
    "x = 0\n",
    "for i in range(1,n):\n",
    "    for j in range(i,n):\n",
    "        print(i)"
   ]
  },
  {
   "cell_type": "code",
   "execution_count": null,
   "id": "88dca6be",
   "metadata": {},
   "outputs": [],
   "source": []
  }
 ],
 "metadata": {
  "kernelspec": {
   "display_name": "Python 3 (ipykernel)",
   "language": "python",
   "name": "python3"
  },
  "language_info": {
   "codemirror_mode": {
    "name": "ipython",
    "version": 3
   },
   "file_extension": ".py",
   "mimetype": "text/x-python",
   "name": "python",
   "nbconvert_exporter": "python",
   "pygments_lexer": "ipython3",
   "version": "3.11.7"
  }
 },
 "nbformat": 4,
 "nbformat_minor": 5
}
