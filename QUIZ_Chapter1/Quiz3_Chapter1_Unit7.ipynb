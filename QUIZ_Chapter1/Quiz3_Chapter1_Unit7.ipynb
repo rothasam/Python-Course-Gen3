{
 "cells": [
  {
   "cell_type": "code",
   "execution_count": 10,
   "id": "4b928c69",
   "metadata": {},
   "outputs": [
    {
     "name": "stdout",
     "output_type": "stream",
     "text": [
      "Welcome to yummy restaurant. Here is the menu.\n",
      "- Burger(enter b)\n",
      "- Chicken(enter c)\n",
      "- Pizza(enter p)\n",
      "Choose a menu (enter b,c,p) : p\n",
      "You chose Pizza\n"
     ]
    }
   ],
   "source": [
    "print(\"Welcome to yummy restaurant. Here is the menu.\")\n",
    "print(\"- Burger(enter b)\")\n",
    "print(\"- Chicken(enter c)\")\n",
    "print(\"- Pizza(enter p)\")\n",
    "\n",
    "option = input(\"Choose a menu (enter b,c,p) : \")\n",
    "if option==\"b\" or option==\"B\":\n",
    "    print(\"You chose Burger.\")\n",
    "elif option==\"c\" or option==\"C\":\n",
    "    print(\"You chose Chicken\")\n",
    "elif option==\"p\" or option==\"P\":\n",
    "    print(\"You chose Pizza\")\n",
    "else:\n",
    "     print(\"enter the menu again!!!\")"
   ]
  },
  {
   "cell_type": "code",
   "execution_count": null,
   "id": "3e13848d",
   "metadata": {},
   "outputs": [],
   "source": []
  },
  {
   "cell_type": "code",
   "execution_count": null,
   "id": "43c4b948",
   "metadata": {},
   "outputs": [],
   "source": []
  }
 ],
 "metadata": {
  "kernelspec": {
   "display_name": "Python 3 (ipykernel)",
   "language": "python",
   "name": "python3"
  },
  "language_info": {
   "codemirror_mode": {
    "name": "ipython",
    "version": 3
   },
   "file_extension": ".py",
   "mimetype": "text/x-python",
   "name": "python",
   "nbconvert_exporter": "python",
   "pygments_lexer": "ipython3",
   "version": "3.11.7"
  }
 },
 "nbformat": 4,
 "nbformat_minor": 5
}
