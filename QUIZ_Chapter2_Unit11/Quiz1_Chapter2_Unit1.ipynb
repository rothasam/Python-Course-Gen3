{
 "cells": [
  {
   "cell_type": "markdown",
   "id": "96ed26e1",
   "metadata": {},
   "source": [
    "# There is a list with the string s_list = ['abc', 'bcd', 'bcdefg', 'abba', 'cddc', 'opq’]. Implement the following function to this list."
   ]
  },
  {
   "cell_type": "code",
   "execution_count": 23,
   "id": "b356f932",
   "metadata": {},
   "outputs": [
    {
     "name": "stdout",
     "output_type": "stream",
     "text": [
      "The shortest string is :  abc\n"
     ]
    }
   ],
   "source": [
    "s_list = ['abc','bcd','bcdefg','abba','cddc','opq']  # assign string to list\n",
    "\n",
    "shortest_str = s_list[3]  # initiailze variable equal value of index 3\n",
    "\n",
    "for i in range(0,len(s_list)):\n",
    "    if len(s_list[i]) < len(shortest_str) :\n",
    "        shortest_str = s_list[i]  # assign the shortest string value to variable shortest_str\n",
    "        \n",
    "print(\"The shortest string is : \", shortest_str)"
   ]
  },
  {
   "cell_type": "code",
   "execution_count": null,
   "id": "c08e15c1",
   "metadata": {},
   "outputs": [],
   "source": []
  },
  {
   "cell_type": "code",
   "execution_count": null,
   "id": "373c9950",
   "metadata": {},
   "outputs": [],
   "source": []
  },
  {
   "cell_type": "code",
   "execution_count": null,
   "id": "22a2eaef",
   "metadata": {},
   "outputs": [],
   "source": []
  }
 ],
 "metadata": {
  "kernelspec": {
   "display_name": "Python 3 (ipykernel)",
   "language": "python",
   "name": "python3"
  },
  "language_info": {
   "codemirror_mode": {
    "name": "ipython",
    "version": 3
   },
   "file_extension": ".py",
   "mimetype": "text/x-python",
   "name": "python",
   "nbconvert_exporter": "python",
   "pygments_lexer": "ipython3",
   "version": "3.11.7"
  }
 },
 "nbformat": 4,
 "nbformat_minor": 5
}
