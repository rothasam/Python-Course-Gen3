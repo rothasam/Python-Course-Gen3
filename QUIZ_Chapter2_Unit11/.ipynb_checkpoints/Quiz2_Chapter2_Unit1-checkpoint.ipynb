{
 "cells": [
  {
   "cell_type": "markdown",
   "id": "b00c1068",
   "metadata": {},
   "source": [
    "# Q2:There is a list with the string s_list = ['abc', 'bcd', 'bcdefg', 'abba', 'cddc', 'opq’]. Implement the following function to this list."
   ]
  },
  {
   "cell_type": "code",
   "execution_count": 1,
   "id": "e218f95f",
   "metadata": {},
   "outputs": [
    {
     "name": "stdout",
     "output_type": "stream",
     "text": [
      "The longest string in the list is :  bcdefg\n"
     ]
    }
   ],
   "source": [
    "s_list = ['abc','bcd','bcdefg','abba','cddc','opq']\n",
    "longest_str = s_list[0]\n",
    "for i in range(1,len(s_list)):\n",
    "    if(len(s_list[i]) > len(longest_str)):\n",
    "        longest_str = s_list[i]\n",
    "print('The longest string in the list is : ',longest_str)"
   ]
  },
  {
   "cell_type": "code",
   "execution_count": null,
   "id": "9fd045bb",
   "metadata": {},
   "outputs": [],
   "source": []
  }
 ],
 "metadata": {
  "kernelspec": {
   "display_name": "Python 3 (ipykernel)",
   "language": "python",
   "name": "python3"
  },
  "language_info": {
   "codemirror_mode": {
    "name": "ipython",
    "version": 3
   },
   "file_extension": ".py",
   "mimetype": "text/x-python",
   "name": "python",
   "nbconvert_exporter": "python",
   "pygments_lexer": "ipython3",
   "version": "3.11.7"
  }
 },
 "nbformat": 4,
 "nbformat_minor": 5
}
