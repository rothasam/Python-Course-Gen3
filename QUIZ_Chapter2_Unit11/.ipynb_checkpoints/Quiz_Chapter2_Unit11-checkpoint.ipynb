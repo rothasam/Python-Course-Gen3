{
 "cells": [
  {
   "cell_type": "code",
   "execution_count": 9,
   "id": "8df99ac5",
   "metadata": {},
   "outputs": [
    {
     "name": "stdout",
     "output_type": "stream",
     "text": [
      "dict_keys (['apple', 'melon', 'banana', 'orange'],)\n",
      "apple is in fruits_dic\n",
      "mango is not in fruits_dic\n"
     ]
    }
   ],
   "source": [
    "fruits_dic = {\n",
    "    'apple':6000,\n",
    "    'melon':3000,\n",
    "    'banana':5000,\n",
    "    'orange':4000\n",
    "}\n",
    "\n",
    "keys_list = list(fruits_dic.keys())\n",
    "# print('dict_keys({})'.format(tuple((keys_list))))\n",
    "print('dict_keys',tuple([keys_list]))\n",
    "\n",
    "if 'apple' in fruits_dic.keys():\n",
    "    print('{} is in fruits_dic'.format('apple'))\n",
    "    \n",
    "if 'mango' not in fruits_dic.keys():\n",
    "    print('{} is not in fruits_dic'.format('mango'))"
   ]
  },
  {
   "cell_type": "code",
   "execution_count": null,
   "id": "6ebb6240",
   "metadata": {},
   "outputs": [],
   "source": []
  },
  {
   "cell_type": "code",
   "execution_count": null,
   "id": "4ff572f5",
   "metadata": {},
   "outputs": [],
   "source": []
  },
  {
   "cell_type": "code",
   "execution_count": null,
   "id": "e45d0a10",
   "metadata": {},
   "outputs": [],
   "source": []
  }
 ],
 "metadata": {
  "kernelspec": {
   "display_name": "Python 3 (ipykernel)",
   "language": "python",
   "name": "python3"
  },
  "language_info": {
   "codemirror_mode": {
    "name": "ipython",
    "version": 3
   },
   "file_extension": ".py",
   "mimetype": "text/x-python",
   "name": "python",
   "nbconvert_exporter": "python",
   "pygments_lexer": "ipython3",
   "version": "3.11.7"
  }
 },
 "nbformat": 4,
 "nbformat_minor": 5
}
