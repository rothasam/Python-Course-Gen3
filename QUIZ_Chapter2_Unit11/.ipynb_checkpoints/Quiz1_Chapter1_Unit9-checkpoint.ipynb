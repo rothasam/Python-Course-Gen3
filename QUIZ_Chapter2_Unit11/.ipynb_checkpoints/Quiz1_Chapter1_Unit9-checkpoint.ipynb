{
 "cells": [
  {
   "cell_type": "markdown",
   "id": "575d82bc",
   "metadata": {},
   "source": [
    "# Quiz 01:A palindrome number refers to an integer whose value is the same as its original value, even if listed upside down, such as 121 or 3443. Write the following program to determine whether the number is a palindrome number or not by receiving the number n from the user."
   ]
  },
  {
   "cell_type": "code",
   "execution_count": 6,
   "id": "e1663bb4",
   "metadata": {},
   "outputs": [
    {
     "name": "stdout",
     "output_type": "stream",
     "text": [
      "Enter an integer : 23432\n",
      "23432 is a palindrome number\n"
     ]
    }
   ],
   "source": [
    "num = int(input('Enter an integer : '))\n",
    "myNum = num \n",
    "last_num = 0\n",
    "while num > 0 :\n",
    "    digit = num % 10\n",
    "    last_num = last_num * 10 + digit\n",
    "    num = num // 10\n",
    "    \n",
    "if myNum == last_num:\n",
    "    print(myNum,'is a palindrome number')\n",
    "else:\n",
    "    print(myNum,'is not a palindrome number')\n",
    "    "
   ]
  },
  {
   "cell_type": "code",
   "execution_count": null,
   "id": "003e501f",
   "metadata": {},
   "outputs": [],
   "source": []
  },
  {
   "cell_type": "code",
   "execution_count": null,
   "id": "99eec3e4",
   "metadata": {},
   "outputs": [],
   "source": []
  }
 ],
 "metadata": {
  "kernelspec": {
   "display_name": "Python 3 (ipykernel)",
   "language": "python",
   "name": "python3"
  },
  "language_info": {
   "codemirror_mode": {
    "name": "ipython",
    "version": 3
   },
   "file_extension": ".py",
   "mimetype": "text/x-python",
   "name": "python",
   "nbconvert_exporter": "python",
   "pygments_lexer": "ipython3",
   "version": "3.11.7"
  }
 },
 "nbformat": 4,
 "nbformat_minor": 5
}
