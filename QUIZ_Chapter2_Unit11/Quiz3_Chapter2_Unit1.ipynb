{
 "cells": [
  {
   "cell_type": "markdown",
   "id": "71886f98",
   "metadata": {},
   "source": [
    "# Q3: There is a list with the string s_list = ['abc', 'bcd', 'bcdefg', 'abba', 'cddc', 'opq’]. Implement the following function to this list."
   ]
  },
  {
   "cell_type": "code",
   "execution_count": 13,
   "id": "3696f716",
   "metadata": {},
   "outputs": [
    {
     "name": "stdout",
     "output_type": "stream",
     "text": [
      "The shortest string in list :  ['abc', 'bcd', 'opq']\n"
     ]
    }
   ],
   "source": [
    "s_list = ['abc','bcd','bcdefg','abba','cddc','opq'] \n",
    "short_str_list = []\n",
    "short_str = s_list[0]\n",
    "s_list.sort()\n",
    "for i in range(0,len(s_list)):\n",
    "    if len(s_list[i]) <= len(short_str) :\n",
    "        short_str_list.append(s_list[i])\n",
    "print('The shortest string in list : ',short_str_list)"
   ]
  },
  {
   "cell_type": "code",
   "execution_count": null,
   "id": "4dec5b21",
   "metadata": {},
   "outputs": [],
   "source": []
  },
  {
   "cell_type": "code",
   "execution_count": null,
   "id": "f11ecb39",
   "metadata": {},
   "outputs": [],
   "source": []
  }
 ],
 "metadata": {
  "kernelspec": {
   "display_name": "Python 3 (ipykernel)",
   "language": "python",
   "name": "python3"
  },
  "language_info": {
   "codemirror_mode": {
    "name": "ipython",
    "version": 3
   },
   "file_extension": ".py",
   "mimetype": "text/x-python",
   "name": "python",
   "nbconvert_exporter": "python",
   "pygments_lexer": "ipython3",
   "version": "3.11.7"
  }
 },
 "nbformat": 4,
 "nbformat_minor": 5
}
